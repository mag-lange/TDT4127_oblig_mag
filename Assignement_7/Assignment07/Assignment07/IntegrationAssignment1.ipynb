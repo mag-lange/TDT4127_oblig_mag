{
 "cells": [
  {
   "cell_type": "markdown",
   "metadata": {
    "deletable": false,
    "editable": false
   },
   "source": [
    "# Numerical integration \n",
    "\n",
    "# 1) \n",
    "\n",
    "In this exercise we will approximate integrals in 1D using numerical methods.\n",
    "\n",
    "Given a function $f(x)$ on an inteval $[a,b]$, one can approximate its integral $\\int_a^bf(x)\\mathrm{d}x$ by using, for example, the rectangle rule/midpoint rule:\n",
    "$$I=\\int_a^bf(x)\\mathrm{d}x \\approx (b-a) f\\left(\\frac{a+b}{2}\\right),$$\n",
    "or the trapezoidal rule:\n",
    "$$I=\\int_a^bf(x)\\mathrm{d}x \\approx(b-a)\\left(\\frac{f(a)+f(b)}{2}\\right).$$\n",
    "\n"
   ]
  },
  {
   "cell_type": "markdown",
   "metadata": {
    "deletable": false,
    "editable": false
   },
   "source": [
    "## a)\n",
    "\n",
    "Write function that accepts another function $f(x)$ and two interval boundaries $a$ and $b$ and returns an approximation to the integral $I$ using:\n",
    "\n",
    "***i)*** the rectangle rule; and,\n",
    "\n",
    "***ii)*** the trapezoidal rule."
   ]
  },
  {
   "cell_type": "code",
   "execution_count": 1,
   "metadata": {},
   "outputs": [],
   "source": [
    "def integrate_midpoint(f, a, b):\n",
    "    n = 4\n",
    "    h = (b - a) / n \n",
    "    result = 0\n",
    "    for i in range(n):\n",
    "        x_mid = a + (i + 0.5) * h\n",
    "        result += f(x_mid)\n",
    "    result *= h\n",
    "    return result\n",
    "def integrate_trapezoid(f, a, b):\n",
    "    n = 4\n",
    "    h = (b - a) / n \n",
    "    result = 0.5 * (f(a) + f(b))\n",
    "    for i in range(1, n):\n",
    "        result += f(a + i * h)\n",
    "    result *= h\n",
    "    return result"
   ]
  },
  {
   "cell_type": "markdown",
   "metadata": {
    "deletable": false,
    "editable": false
   },
   "source": [
    "## b)\n",
    "To test our functions `integrate_midpoint` and `integrate_trapezoid`, we can use the following simple function\n",
    "$$f(x)=x^n,$$ \n",
    "which has the indefinite integral\n",
    "$$F(x) = \\int x^n \\mathrm{d}x = \\frac{x^{n+1}}{n+1}$$\n",
    "and the definite integral on the interval $[a,b]$ given by\n",
    "$$I_{exact} = \\int^b_a x^n \\mathrm{d}x =  F(b)-F(a) $$\n",
    "\n"
   ]
  },
  {
   "cell_type": "markdown",
   "metadata": {
    "deletable": false,
    "editable": false
   },
   "source": [
    "### i) \n",
    "For $n=0,1,2,3,4$ and on the interval $[0,1]$, compute the error of the numerical approximations for the two functions you created in Q1a). (***Hint:*** The error is given by the difference from the numerical solution and the exact solution $\\mathrm{error} = I_{numerical} - I_{exact}$,where $I_{numerical}$ is calculated by the trapezoidal rule or composite_trap rule above. Also use a `for` loop)\n",
    "\n",
    "***Write your code in the block below***"
   ]
  },
  {
   "cell_type": "code",
   "execution_count": 17,
   "metadata": {},
   "outputs": [
    {
     "name": "stdout",
     "output_type": "stream",
     "text": [
      "Integrating for f(x) = x^0\n",
      "Midpoint rule: 1.0\n",
      "Trapezoidal rule: 1.0\n",
      "Exact answer: 1.0\n",
      "Percentage error for Midpoint:  0.0 %\n",
      "Percentage error for Trapezoidal:  0.0 %\n",
      "Integrating for f(x) = x^1\n",
      "Midpoint rule: 0.5\n",
      "Trapezoidal rule: 0.5\n",
      "Exact answer: 0.5\n",
      "Percentage error for Midpoint:  0.0 %\n",
      "Percentage error for Trapezoidal:  0.0 %\n",
      "Integrating for f(x) = x^2\n",
      "Midpoint rule: 0.328125\n",
      "Trapezoidal rule: 0.34375\n",
      "Exact answer: 0.3333333333333333\n",
      "Percentage error for Midpoint:  0.01562 %\n",
      "Percentage error for Trapezoidal:  0.03125 %\n",
      "Integrating for f(x) = x^3\n",
      "Midpoint rule: 0.2421875\n",
      "Trapezoidal rule: 0.265625\n",
      "Exact answer: 0.25\n",
      "Percentage error for Midpoint:  0.03125 %\n",
      "Percentage error for Trapezoidal:  0.0625 %\n",
      "Integrating for f(x) = x^4\n",
      "Midpoint rule: 0.189697265625\n",
      "Trapezoidal rule: 0.220703125\n",
      "Exact answer: 0.2\n",
      "Percentage error for Midpoint:  0.05151 %\n",
      "Percentage error for Trapezoidal:  0.10352 %\n",
      "Integrating for f(x) = x^5\n",
      "Midpoint rule: 0.1539306640625\n",
      "Trapezoidal rule: 0.1923828125\n",
      "Exact answer: 0.16666666666666666\n",
      "Percentage error for Midpoint:  0.07642 %\n",
      "Percentage error for Trapezoidal:  0.1543 %\n",
      "Integrating for f(x) = x^6\n",
      "Midpoint rule: 0.12779617309570312\n",
      "Trapezoidal rule: 0.1734619140625\n",
      "Exact answer: 0.14285714285714285\n",
      "Percentage error for Midpoint:  0.10543 %\n",
      "Percentage error for Trapezoidal:  0.21423 %\n",
      "Integrating for f(x) = x^7\n",
      "Midpoint rule: 0.10774803161621094\n",
      "Trapezoidal rule: 0.16033935546875\n",
      "Exact answer: 0.125\n",
      "Percentage error for Midpoint:  0.13802 %\n",
      "Percentage error for Trapezoidal:  0.28271 %\n",
      "Integrating for f(x) = x^8\n",
      "Midpoint rule: 0.09182077646255493\n",
      "Trapezoidal rule: 0.15100860595703125\n",
      "Exact answer: 0.1111111111111111\n",
      "Percentage error for Midpoint:  0.17361 %\n",
      "Percentage error for Trapezoidal:  0.35908 %\n",
      "Integrating for f(x) = x^9\n",
      "Midpoint rule: 0.07883909344673157\n",
      "Trapezoidal rule: 0.14426040649414062\n",
      "Exact answer: 0.1\n",
      "Percentage error for Midpoint:  0.21161 %\n",
      "Percentage error for Trapezoidal:  0.4426 %\n"
     ]
    }
   ],
   "source": [
    "def f(x, n):\n",
    "    return x**n\n",
    "def F(x, n):\n",
    "    return (x**(n + 1)) / (n + 1)\n",
    "a = 0\n",
    "b = 1\n",
    "for i in range(10):\n",
    "    midpoint = integrate_midpoint(lambda x: f(x, i), a, b)\n",
    "    trapezoidal = integrate_trapezoid(lambda x: f(x, i), a, b)\n",
    "    exact =  abs(F(1, i) - F(0, i))\n",
    "    per_error_midpoint = round((abs( exact - midpoint) / exact), 5)\n",
    "    per_error_trapezoid = round((abs( exact - trapezoidal) / exact), 5)\n",
    "    print(f\"Integrating for f(x) = x^{i}\")\n",
    "    print(\"Midpoint rule:\", midpoint)\n",
    "    print(\"Trapezoidal rule:\", trapezoidal)\n",
    "    print(\"Exact answer:\", exact)\n",
    "    print(\"Percentage error for Midpoint: \" , per_error_midpoint,'%')\n",
    "    print(\"Percentage error for Trapezoidal: \" , per_error_trapezoid,'%')\n"
   ]
  },
  {
   "cell_type": "markdown",
   "metadata": {
    "deletable": false,
    "editable": false,
    "run_control": {
     "frozen": true
    }
   },
   "source": [
    "### ii) \n",
    "What do you notice about the errors for $n=0$ and $1$? Can you explain your observation?"
   ]
  },
  {
   "cell_type": "markdown",
   "metadata": {},
   "source": [
    "Both methods give the exact answer. This is because here we are integrating linear functions. We are not cutting away any area under the graph since the slop is constant for x = 1 and the slope is 0 for x= 0. "
   ]
  },
  {
   "cell_type": "markdown",
   "metadata": {
    "deletable": false,
    "editable": false
   },
   "source": [
    "# 2)\n",
    "\n",
    "Now we can subdivide the interval $[a,b]$ into $n$ sub-intervals of length $\\Delta x = \\frac{b-a}{n}$ and use a composite integration rule. For example, if we let $x_k = a + k \\Delta x$ then the composite trapezoidal rule is calculated by summing smaller trapezoids with width $\\Delta x$. This is given by the formula\n",
    "$$\\int_a^bf(x)\\mathrm{d}x \\approx \\Delta x \\sum_{k=0}^{n}\\left(\\frac{f(x_k)+f(x_{k+1})}{2}\\right) .$$\n",
    "\n"
   ]
  },
  {
   "cell_type": "markdown",
   "metadata": {},
   "source": [
    "## a) \n",
    "Write a function that accept $f(x)$, two interval boundaries $a$ and $b$, and an integer $n$ and computes an approximation to $I=\\int^b_af(x)\\mathrm{d}x$ using the composite trapezoidal rule with $n$ sub-intervals. The function should look like this\n"
   ]
  },
  {
   "cell_type": "code",
   "execution_count": 1,
   "metadata": {},
   "outputs": [],
   "source": [
    "def integrate_composite_trapezoidal(f, a, b, n):\n",
    "    h = (b - a) / n\n",
    "    integral = 0.5 * (f(a) + f(b)) \n",
    "    \n",
    "    for i in range(1, n):\n",
    "        integral += f(a + i * h)\n",
    "    \n",
    "    return integral * h"
   ]
  },
  {
   "cell_type": "markdown",
   "metadata": {
    "deletable": false,
    "editable": false
   },
   "source": [
    "## b)\n",
    "The trapezoidal rule is approximating the function with a straight line (a degree 1 polynomial) and then finding the area underneath the line (which is equivalent to finding the area of a trapezoid). We can make a more accurate numerical method by approximating the function with a parabola (a degree 2 polynomial) and compute the area underneath the parabola. This gives us the Simpson rule, or composite Simpson rule if we divide the interval up, which is what we will do. The *composite* Simpson rule is given by the following formula\n",
    "$$\\qquad\\qquad\\quad\\qquad\\qquad\\int_a^bf(x)\\mathrm{d}x \\approx \\frac{\\Delta x}{3} \\left(f(x_0) + 4f(x_1)+ 2f(x_2)+ 4f(x_3)+ 2f(x_4)+...+ 4f(x_{n-1}) +f(x_n)\\right)\\\\\n",
    "\\approx \\frac{\\Delta x}{3} \\left(f(x_0) + \\sum_{k=1}^{n-1} c_k f(x_k) +f(x_n)\\right)$$\n",
    "where $c_k = 2$ if $k$ is even and $c_k = 4$ if $k$ is odd. Now write a function, similar to the previous question, that accept $f(x)$, two interval boundaries $a$ and $b$, and an integer $n$ and computes an approximation to $I=\\int^b_af(x)\\mathrm{d}x$ using the composite *Simpson* rule with $n$ sub-intervals,\n",
    "```python\n",
    "def integrate_composite_simpson(f,a,b,n):\n",
    "    ...\n",
    "    return I\n",
    "```\n",
    "\n",
    "***Write your code in the block below***"
   ]
  },
  {
   "cell_type": "code",
   "execution_count": 2,
   "metadata": {},
   "outputs": [
    {
     "name": "stdout",
     "output_type": "stream",
     "text": [
      "Approximation of the integral: 0.33333333333333337\n"
     ]
    }
   ],
   "source": [
    "def integrate_composite_simpson(f, a, b, n):\n",
    "    if n % 2 != 0:\n",
    "        print(\"Number of sub-intervals must be even, adding one\")\n",
    "        n = n + 1\n",
    "        \n",
    "    \n",
    "    h = (b - a) / n\n",
    "    x_vals = [a + i * h for i in range(n + 1)]\n",
    "    sum_odd = sum(f(x) for x in x_vals[1:n:2])\n",
    "    sum_even = sum(f(x) for x in x_vals[2:n:2])\n",
    "    \n",
    "    integral = (f(a) + 4 * sum_odd + 2 * sum_even + f(b))\n",
    "    integral *= h / 3\n",
    "    \n",
    "    return integral\n",
    "def f(x):\n",
    "    return x**2\n",
    "a = 0\n",
    "b = 1\n",
    "n = 100\n",
    "\n",
    "approximation = integrate_composite_simpson(f, a, b, n)\n",
    "print(\"Approximation of the integral:\", approximation)\n"
   ]
  },
  {
   "cell_type": "markdown",
   "metadata": {
    "deletable": false,
    "editable": false
   },
   "source": [
    "## c)\n",
    "### i)\n",
    "Using the simple function $f(x) = 5x^4 - 3x^2 + \\exp(x)$, which has the indefinite integral $F(x) = \\int f(x)\\mathrm{d}x = x^5 - x^3 + \\exp(x)$, calculate the error of integral using the composite trapezoidal and Simpson functions that you created above. Try the functions on the interval $[0,1]$ with $n=10$ subintervals. The error for this integral on this interval for the composite trapezoidal rule is about `0.0130816` and the Simpson rule is about `6.762013-05`\n",
    "\n",
    "\n",
    "***Write your code in the block below***"
   ]
  },
  {
   "cell_type": "code",
   "execution_count": 5,
   "metadata": {},
   "outputs": [
    {
     "name": "stdout",
     "output_type": "stream",
     "text": [
      "Integrating for f(x) = x^0\n",
      "Midpoint rule: 1.7313634913893143\n",
      "Trapezoidal rule: 1.71834944859149\n",
      "Exact answer: 1.718281828459045\n",
      "Percentage error for Midpoint:  0.00761 %\n",
      "Percentage error for Trapezoidal:  4e-05 %\n",
      "Integrating for f(x) = x^1\n",
      "Midpoint rule: 1.7313634913893143\n",
      "Trapezoidal rule: 1.71834944859149\n",
      "Exact answer: 1.718281828459045\n",
      "Percentage error for Midpoint:  0.00761 %\n",
      "Percentage error for Trapezoidal:  4e-05 %\n",
      "Integrating for f(x) = x^2\n",
      "Midpoint rule: 1.7313634913893143\n",
      "Trapezoidal rule: 1.71834944859149\n",
      "Exact answer: 1.718281828459045\n",
      "Percentage error for Midpoint:  0.00761 %\n",
      "Percentage error for Trapezoidal:  4e-05 %\n",
      "Integrating for f(x) = x^3\n",
      "Midpoint rule: 1.7313634913893143\n",
      "Trapezoidal rule: 1.71834944859149\n",
      "Exact answer: 1.718281828459045\n",
      "Percentage error for Midpoint:  0.00761 %\n",
      "Percentage error for Trapezoidal:  4e-05 %\n",
      "Integrating for f(x) = x^4\n",
      "Midpoint rule: 1.7313634913893143\n",
      "Trapezoidal rule: 1.71834944859149\n",
      "Exact answer: 1.718281828459045\n",
      "Percentage error for Midpoint:  0.00761 %\n",
      "Percentage error for Trapezoidal:  4e-05 %\n",
      "Integrating for f(x) = x^5\n",
      "Midpoint rule: 1.7313634913893143\n",
      "Trapezoidal rule: 1.71834944859149\n",
      "Exact answer: 1.718281828459045\n",
      "Percentage error for Midpoint:  0.00761 %\n",
      "Percentage error for Trapezoidal:  4e-05 %\n",
      "Integrating for f(x) = x^6\n",
      "Midpoint rule: 1.7313634913893143\n",
      "Trapezoidal rule: 1.71834944859149\n",
      "Exact answer: 1.718281828459045\n",
      "Percentage error for Midpoint:  0.00761 %\n",
      "Percentage error for Trapezoidal:  4e-05 %\n",
      "Integrating for f(x) = x^7\n",
      "Midpoint rule: 1.7313634913893143\n",
      "Trapezoidal rule: 1.71834944859149\n",
      "Exact answer: 1.718281828459045\n",
      "Percentage error for Midpoint:  0.00761 %\n",
      "Percentage error for Trapezoidal:  4e-05 %\n",
      "Integrating for f(x) = x^8\n",
      "Midpoint rule: 1.7313634913893143\n",
      "Trapezoidal rule: 1.71834944859149\n",
      "Exact answer: 1.718281828459045\n",
      "Percentage error for Midpoint:  0.00761 %\n",
      "Percentage error for Trapezoidal:  4e-05 %\n",
      "Integrating for f(x) = x^9\n",
      "Midpoint rule: 1.7313634913893143\n",
      "Trapezoidal rule: 1.71834944859149\n",
      "Exact answer: 1.718281828459045\n",
      "Percentage error for Midpoint:  0.00761 %\n",
      "Percentage error for Trapezoidal:  4e-05 %\n"
     ]
    }
   ],
   "source": [
    "import math\n",
    "def f(x, n):\n",
    "    return 5 * x**4 - 3 * x**2 + math.exp(x)\n",
    "def F(x, n):\n",
    "    return x**5 - x**3 + math.exp(x)\n",
    "\n",
    "a = 0\n",
    "b = 1\n",
    "for i in range(10):\n",
    "    midpoint = integrate_composite_trapezoidal(lambda x: f(x, i), a, b, 10)\n",
    "    trapezoidal = integrate_composite_simpson(lambda x: f(x, i), a, b, 10)\n",
    "    exact =  abs(F(1, i) - F(0, i))\n",
    "    per_error_midpoint = round((abs( exact - midpoint) / exact), 5)\n",
    "    per_error_trapezoid = round((abs( exact - trapezoidal) / exact), 5)\n",
    "    print(f\"Integrating for f(x) = x^{i}\")\n",
    "    print(\"Midpoint rule:\", midpoint)\n",
    "    print(\"Trapezoidal rule:\", trapezoidal)\n",
    "    print(\"Exact answer:\", exact)\n",
    "    print(\"Percentage error for Midpoint: \" , per_error_midpoint,'%')\n",
    "    print(\"Percentage error for Trapezoidal: \" , per_error_trapezoid,'%')\n",
    "\n",
    "    #I did not bother to change the variables from the previous tasks, but since the functions are changed, it should all be right\n",
    "    #Sorry for breaking the zen of python :(\n"
   ]
  },
  {
   "cell_type": "markdown",
   "metadata": {
    "deletable": false,
    "editable": false,
    "run_control": {
     "frozen": true
    }
   },
   "source": [
    "### ii) \n",
    "What do you expect is the error of the Simpson rule when used to integrate the function $f(x) = -4 x^2 + 2x +17$ ? "
   ]
  },
  {
   "cell_type": "markdown",
   "metadata": {},
   "source": [
    "The Simpsons method is exact for any function that has the degree 3 or lower, so I expected the answer to be exact. \n",
    "<br>\n",
    "The reason there is still some marginal error is due to round-off of 5 significant figures. "
   ]
  }
 ],
 "metadata": {
  "kernelspec": {
   "display_name": "Python 3",
   "language": "python",
   "name": "python3"
  },
  "language_info": {
   "codemirror_mode": {
    "name": "ipython",
    "version": 3
   },
   "file_extension": ".py",
   "mimetype": "text/x-python",
   "name": "python",
   "nbconvert_exporter": "python",
   "pygments_lexer": "ipython3",
   "version": "3.11.8"
  }
 },
 "nbformat": 4,
 "nbformat_minor": 2
}
