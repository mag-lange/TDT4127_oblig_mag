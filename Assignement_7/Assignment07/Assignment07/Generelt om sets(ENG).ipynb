{
 "cells": [
  {
   "cell_type": "markdown",
   "metadata": {},
   "source": [
    "[Back to assignment 9](_Oving9.ipynb)\n",
    "# Overview of sets\n"
   ]
  },
  {
   "cell_type": "markdown",
   "metadata": {
    "deletable": false,
    "editable": false,
    "run_control": {
     "frozen": true
    }
   },
   "source": [
    "a) All odd numbers between 0 and 20 in set <br>\n",
    "b) All odd numbers between 0 and 10 in set <br>\n",
    "c) All numbers from a) but not the ones from b) <br>"
   ]
  },
  {
   "cell_type": "code",
   "execution_count": 12,
   "metadata": {},
   "outputs": [
    {
     "name": "stdout",
     "output_type": "stream",
     "text": [
      "a) my_set   {1, 3, 5, 7, 9, 11, 13, 15, 17, 19}\n",
      "b) my_set2  {1, 3, 5, 7, 9}\n",
      "c) my_set3  {11, 13, 15, 17, 19}\n"
     ]
    }
   ],
   "source": [
    "my_set = set([])\n",
    "for i in range (1,20,2):\n",
    "    my_set.add(i)\n",
    "my_set2 = set([])\n",
    "for i in range (1,10,2):\n",
    "    my_set2.add(i)\n",
    "my_set3 = set([])\n",
    "\n",
    "print(\"a) my_set  \",my_set)\n",
    "print(\"b) my_set2 \",my_set2)\n",
    "print(\"c) my_set3 \",my_set - my_set2)"
   ]
  },
  {
   "cell_type": "markdown",
   "metadata": {
    "deletable": false,
    "editable": false,
    "run_control": {
     "frozen": true
    }
   },
   "source": [
    "## d)"
   ]
  },
  {
   "cell_type": "markdown",
   "metadata": {
    "deletable": false,
    "editable": false,
    "run_control": {
     "frozen": true
    }
   },
   "source": [
    "If you take the intersection of the set from b) and the set from c), what do you expect to get?"
   ]
  },
  {
   "cell_type": "markdown",
   "metadata": {},
   "source": [
    "**Answer:**The intersection would be all elements that are in both my_set1 and my_set2, so that would just be my_set2"
   ]
  },
  {
   "cell_type": "markdown",
   "metadata": {
    "deletable": false,
    "editable": false,
    "run_control": {
     "frozen": true
    }
   },
   "source": [
    "## e)"
   ]
  },
  {
   "cell_type": "markdown",
   "metadata": {
    "deletable": false,
    "editable": false,
    "run_control": {
     "frozen": true
    }
   },
   "source": [
    "Use the built-in functions `len()` and `set()` to make a function `allUnique(lst)`, that returnes `True`if the list `lst` contains unique elements and `False` otherwise.\n",
    "\n",
    "***Write the code in the code block below***"
   ]
  },
  {
   "cell_type": "code",
   "execution_count": 16,
   "metadata": {},
   "outputs": [
    {
     "name": "stdout",
     "output_type": "stream",
     "text": [
      "True\n",
      "False\n"
     ]
    }
   ],
   "source": [
    "def allUnique(list):\n",
    "    if len(list) == len(set(list)):\n",
    "        return True\n",
    "    else:\n",
    "        return False\n",
    "\n",
    "print(allUnique([1,3,2,6,8]))\n",
    "print(allUnique([1,3,5,2,3,7]))\n",
    "#I feel like this type of question always appears in discrete mathematics exams"
   ]
  },
  {
   "cell_type": "markdown",
   "metadata": {
    "deletable": false,
    "editable": false,
    "run_control": {
     "frozen": true
    }
   },
   "source": [
    "## f)"
   ]
  },
  {
   "cell_type": "markdown",
   "metadata": {
    "deletable": false,
    "editable": false,
    "run_control": {
     "frozen": true
    }
   },
   "source": [
    "Use the built-in functions `list()`and `set()` to make a function `removeDuplicates(lst)`, which removes duplicates from the list `lst` and returns the modified list.\n",
    "\n",
    "***Write the code in the code block below***"
   ]
  },
  {
   "cell_type": "code",
   "execution_count": 21,
   "metadata": {},
   "outputs": [
    {
     "name": "stdout",
     "output_type": "stream",
     "text": [
      "{1, 2, 3, 5, 7}\n",
      "There are no duplicates to remove\n"
     ]
    }
   ],
   "source": [
    "def removeDuplicates(lst):\n",
    "\n",
    "    if allUnique(lst) == True:\n",
    "        return \"There are no duplicates to remove\"\n",
    "    else:\n",
    "        return set(lst)\n",
    "\n",
    "print(removeDuplicates([1,3,5,2,3,7]))\n",
    "print(removeDuplicates([1,3,5,2,7,234,5356,32]))"
   ]
  }
 ],
 "metadata": {
  "kernelspec": {
   "display_name": "Python 3",
   "language": "python",
   "name": "python3"
  },
  "language_info": {
   "codemirror_mode": {
    "name": "ipython",
    "version": 3
   },
   "file_extension": ".py",
   "mimetype": "text/x-python",
   "name": "python",
   "nbconvert_exporter": "python",
   "pygments_lexer": "ipython3",
   "version": "3.11.8"
  },
  "toc": {
   "base_numbering": 1,
   "nav_menu": {},
   "number_sections": false,
   "sideBar": true,
   "skip_h1_title": false,
   "title_cell": "Table of Contents",
   "title_sidebar": "Contents",
   "toc_cell": false,
   "toc_position": {},
   "toc_section_display": true,
   "toc_window_display": false
  }
 },
 "nbformat": 4,
 "nbformat_minor": 2
}
