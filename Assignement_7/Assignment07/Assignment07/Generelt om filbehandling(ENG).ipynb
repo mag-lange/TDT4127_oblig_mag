{
 "cells": [
  {
   "cell_type": "markdown",
   "metadata": {
    "deletable": false,
    "editable": false,
    "run_control": {
     "frozen": true
    }
   },
   "source": [
    "# Overview of file management"
   ]
  },
  {
   "cell_type": "markdown",
   "metadata": {
    "deletable": false,
    "editable": false,
    "run_control": {
     "frozen": true
    }
   },
   "source": [
    "## a)"
   ]
  },
  {
   "cell_type": "markdown",
   "metadata": {
    "deletable": false,
    "editable": false,
    "run_control": {
     "frozen": true
    }
   },
   "source": [
    "Create a function `write_to_file(data)` which takes in a string `data` and writes it to a file **my_file.txt**\n",
    "\n",
    "***Write your code in the code block below***"
   ]
  },
  {
   "cell_type": "code",
   "execution_count": 5,
   "metadata": {},
   "outputs": [
    {
     "name": "stdout",
     "output_type": "stream",
     "text": [
      "Wrote the following data to the file: Hello World again\n"
     ]
    }
   ],
   "source": [
    "def write_to_file(data):\n",
    "    f = open('my_file.txt', 'w')\n",
    "    f.write(data)\n",
    "    print(f\"Wrote the following data to the file: {data}\")\n",
    "    f.close()\n",
    "    return\n",
    "write_to_file(\"Hello World again\")"
   ]
  },
  {
   "cell_type": "markdown",
   "metadata": {
    "deletable": false,
    "editable": false,
    "run_control": {
     "frozen": true
    }
   },
   "source": [
    "## b)"
   ]
  },
  {
   "cell_type": "markdown",
   "metadata": {
    "deletable": false,
    "editable": false,
    "run_control": {
     "frozen": true
    }
   },
   "source": [
    "Create a function `read_from_file(filename)` which takes in the string `filename`, containing the file name, and prints out the contents of the file.\n",
    "\n",
    "***Write the code in the code block below***"
   ]
  },
  {
   "cell_type": "code",
   "execution_count": 4,
   "metadata": {},
   "outputs": [
    {
     "name": "stdout",
     "output_type": "stream",
     "text": [
      "Hello World again\n"
     ]
    }
   ],
   "source": [
    "def read_from_file(filename):\n",
    "    f = open('my_file.txt', 'r')\n",
    "    print(f.read())\n",
    "    return\n",
    "\n",
    "read_from_file('my_file.txt')"
   ]
  },
  {
   "cell_type": "markdown",
   "metadata": {
    "deletable": false,
    "editable": false,
    "run_control": {
     "frozen": true
    }
   },
   "source": [
    "# c)"
   ]
  },
  {
   "cell_type": "markdown",
   "metadata": {
    "deletable": false,
    "editable": false,
    "run_control": {
     "frozen": true
    }
   },
   "source": [
    "Create a function `main()` where the user gets to choose between writing to- or reading from a file. The function shall  continue running as long as the user does not respond with `'done'`. (See example run)"
   ]
  },
  {
   "cell_type": "code",
   "execution_count": 11,
   "metadata": {},
   "outputs": [
    {
     "name": "stdout",
     "output_type": "stream",
     "text": [
      "Write in eiter w, W r, R, read, READ, write or WRITE\n"
     ]
    }
   ],
   "source": [
    "def main(file = 'my_file.txt'):\n",
    "    read_or_write = str(input(\"Do you want to read or write to the file? \"))\n",
    "    if read_or_write.lower() == 'r' or read_or_write.lower() == 'read':\n",
    "        f = open(file, 'r')\n",
    "        print(f'Reading file {file}: {f.read()}')\n",
    "    elif read_or_write.lower() == 'w' or read_or_write.lower() == 'write':\n",
    "        f = open(file, 'w')\n",
    "        data = input(\"What would you like to write to the file (everything else will be overwritten)? \")\n",
    "        f.write(data)\n",
    "        print(\"Done writing to the file, everything else was overwritten\")\n",
    "    else:\n",
    "        print(\"Write in eiter w, W r, R, read, READ, write or WRITE\")\n",
    "        return\n",
    "\n",
    "main() #I am chosing to make this function without variables and rather define them in the function"
   ]
  }
 ],
 "metadata": {
  "kernelspec": {
   "display_name": "Python 3",
   "language": "python",
   "name": "python3"
  },
  "language_info": {
   "codemirror_mode": {
    "name": "ipython",
    "version": 3
   },
   "file_extension": ".py",
   "mimetype": "text/x-python",
   "name": "python",
   "nbconvert_exporter": "python",
   "pygments_lexer": "ipython3",
   "version": "3.11.8"
  },
  "toc": {
   "base_numbering": 1,
   "nav_menu": {},
   "number_sections": false,
   "sideBar": true,
   "skip_h1_title": false,
   "title_cell": "Table of Contents",
   "title_sidebar": "Contents",
   "toc_cell": false,
   "toc_position": {},
   "toc_section_display": true,
   "toc_window_display": false
  }
 },
 "nbformat": 4,
 "nbformat_minor": 2
}
