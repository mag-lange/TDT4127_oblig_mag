{
 "cells": [
  {
   "cell_type": "markdown",
   "metadata": {
    "deletable": false,
    "editable": false,
    "run_control": {
     "frozen": true
    }
   },
   "source": [
    "[Back to Assignment 9](_Oving9.ipynb)\n",
    "# Overview of dictionaries"
   ]
  },
  {
   "cell_type": "markdown",
   "metadata": {
    "deletable": false,
    "editable": false,
    "run_control": {
     "frozen": true
    }
   },
   "source": [
    "a) <br> ***Create an empty dictionary my_family in the code block below.*** <br>\n",
    "Create a function `add_family_member(role, name)` which takes two strings as arguments, `role` (key) and `name` (value), and adds the family member to the dictionary `my_family` <br>\n",
    "\n",
    "b) define the function add_family_member and test code"
   ]
  },
  {
   "cell_type": "code",
   "execution_count": 4,
   "metadata": {},
   "outputs": [
    {
     "name": "stdout",
     "output_type": "stream",
     "text": [
      "{'bror': 'Arne'}\n",
      "{'bror': 'Arne', 'far': 'Bob Bernt'}\n"
     ]
    }
   ],
   "source": [
    "my_family = {}\n",
    "\n",
    "def add_family_member(role, name):\n",
    "    my_family[role] = name\n",
    "\n",
    "add_family_member('bror', 'Arne')\n",
    "print (my_family)\n",
    "add_family_member('far', 'Bob Bernt')\n",
    "print (my_family)"
   ]
  },
  {
   "cell_type": "markdown",
   "metadata": {
    "deletable": false,
    "editable": false,
    "run_control": {
     "frozen": true
    }
   },
   "source": [
    "# c)"
   ]
  },
  {
   "cell_type": "markdown",
   "metadata": {
    "deletable": false,
    "editable": false,
    "run_control": {
     "frozen": true
    }
   },
   "source": [
    "If you wish to add more family members with the same role, (e.g. two brothers), you need to create a list containing all brothers.\n",
    "\n",
    "Once you have done that, you can use the regular list-methods such as .append() and .pop() in order to add or remove elements from the list.\n",
    "\n",
    "*Now you are going to extend the functionality from b) so that you can add several family members with the same role.*\n"
   ]
  },
  {
   "cell_type": "code",
   "execution_count": 19,
   "metadata": {},
   "outputs": [
    {
     "name": "stdout",
     "output_type": "stream",
     "text": [
      "{'bror': ['Arne', 'Geir'], 'mor': 'Anne'}\n"
     ]
    }
   ],
   "source": [
    "def add_family_member(role, name):\n",
    "    if role in my_family:\n",
    "        if isinstance(my_family[role], list):\n",
    "            my_family[role].append(name)\n",
    "        else:\n",
    "            my_family[role] = [my_family[role], name]\n",
    "    else:\n",
    "        my_family[role] = name\n",
    "my_family = {}\n",
    "\n",
    "\n",
    "add_family_member('bror', 'Arne')\n",
    "add_family_member('mor', 'Anne')\n",
    "add_family_member('bror', 'Geir')\n",
    "print (my_family)\n"
   ]
  }
 ],
 "metadata": {
  "kernelspec": {
   "display_name": "Python 3",
   "language": "python",
   "name": "python3"
  },
  "language_info": {
   "codemirror_mode": {
    "name": "ipython",
    "version": 3
   },
   "file_extension": ".py",
   "mimetype": "text/x-python",
   "name": "python",
   "nbconvert_exporter": "python",
   "pygments_lexer": "ipython3",
   "version": "3.11.8"
  },
  "toc": {
   "base_numbering": 1,
   "nav_menu": {},
   "number_sections": false,
   "sideBar": true,
   "skip_h1_title": false,
   "title_cell": "Table of Contents",
   "title_sidebar": "Contents",
   "toc_cell": false,
   "toc_position": {},
   "toc_section_display": true,
   "toc_window_display": false
  }
 },
 "nbformat": 4,
 "nbformat_minor": 2
}
