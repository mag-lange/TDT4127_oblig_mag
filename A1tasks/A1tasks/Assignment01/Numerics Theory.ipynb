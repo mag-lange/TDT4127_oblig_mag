{
 "cells": [
  {
   "cell_type": "markdown",
   "metadata": {
    "deletable": false,
    "editable": false,
    "hide_input": true,
    "run_control": {
     "frozen": true
    }
   },
   "source": [
    "# Theory - Numerics exercise 1"
   ]
  },
  {
   "cell_type": "markdown",
   "metadata": {
    "deletable": false,
    "editable": false,
    "heading_collapsed": true,
    "run_control": {
     "frozen": true
    }
   },
   "source": [
    "#### Using floating point numbers in Python (click the arrow to the left to expand)"
   ]
  },
  {
   "attachments": {},
   "cell_type": "markdown",
   "metadata": {
    "deletable": false,
    "editable": false,
    "hidden": true
   },
   "source": [
    "Computers represent numbers, in base 2, as bits. They have a finite amount of bits available, and to keep the number representations equal across programming languages and platforms, standards are made for how a computer is to store numbers internally. To represent decimal numbers, Python uses double precision floating point numbers (doubles). Doubles consist of 8 bytes, i.e. 64 bits $b_0,b_1,...,b_{63}$ that each can take the values 0 or 1. They are used to represent a decimal number $a$ on the form\n",
    "$$\\mathrm{fl}(a) = (-1)^{b_{0}}*2^{e-1023}*1.b_{1}b_{2}b_{3}....b_{52}.$$\n",
    "\n",
    "Here, the exponent is given as $e = b_{53}b_{54}b_{55}b_{56}b_{57}b_{58}b_{59}b_{60}b_{61}b_{62}b_{63},$ a base 2 integer. Note that $e = 00000000000$ and $e=1111111111$ are interpreted as $0$ and $\\infty$ respectively, so e takes values between 1 and 2046. The mantissa $1.b_{1}b_{2}b_{3}....b_{52}$ is a real number in base 2 with values between 1 and 2:\n",
    "$$ 1.b_{1}b_{2}b_{3}....b_{52} = 1 + \\sum_{j = 1}^{52}b_{j}2^{-j}. $$\n",
    "Since this is a finite sum, we have a finite amount of numbers at our disposal. This means we cannot represent all of the infinitely many real numbers *exactly* as doubles. We can, however, guarantee a certain *precision*.\n",
    "\n",
    "An example of a number that can be exactly represented on this format is 1.25. It is represented as \n",
    "\n",
    "$$b_{1} \\quad b_{53}b_{54}b_{55}b_{56}b_{57}b_{58}b_{59}b_{60}b_{61}b_{62}b_{63} \\quad b_{1}b_{2}b_{3}...b_{52}\n",
    "\\quad$$\n",
    "$$= \\quad 0 \\quad 0 1 1 1 1 1 1 1 1 1 1 \\quad 010000000000000000000000000000000000000000000000000.$$\n",
    "\n",
    "An example of a number that cannot be exactly represented on this format is 9.4. It is represented as\n",
    "$$b_{1} \\quad b_{53}b_{54}b_{55}b_{56}b_{57}b_{58}b_{59}b_{60}b_{61}b_{62}b_{63} \\quad b_{1}b_{2}b_{3}...b_{52}\n",
    "\\quad$$\n",
    "$$= \\quad 0 \\quad 1 0 0 0 0 0 0 0 0 1 0 \\quad 0010110011001100110011001100110011001100110011001100.$$\n",
    "\n",
    "If you check closely, you will find that $fl(9.4) = 9.4 + 2^{-49} - 0.4 * 2^{-48} = 9.4 + (1-0.8) * 2^{-49} = 9.4 + 0.2 * 2^{-49}$, i.e. there is an error of $ 0.2 * 2^{-49}$.\n",
    "\n",
    "\n",
    "In general, one can show that for a floating point number the relative truncation error and the absolute truncation error are given by, respectively,\n",
    "$$\\frac{|\\mathrm{fl}(a) - a|}{|a|} \\leq \\epsilon_{mach} \\qquad \\mathrm{ and } \\qquad |\\mathrm{fl}(a) - a| \\leq |a|\\epsilon_{mach}$$\n",
    "where the *machine epsilon* $\\epsilon_{mach}$,  is the smallest unit of precision in the mantissa. For doubles, machine epsilon is $2^{-52} = 2.22*10^{-16}$ since the last decimal spot in the mantissa is $b_{51}$, corresponding to the value $2^{-51}£. For other floating point standard, other precisions apply. If you are interested, you can read more about this [here](https://en.wikipedia.org/wiki/Floating-point_arithmetic)."
   ]
  },
  {
   "cell_type": "markdown",
   "metadata": {
    "deletable": false,
    "editable": false,
    "run_control": {
     "frozen": true
    }
   },
   "source": [
    "#### a) How many bits of computer memory are used when storing a double?"
   ]
  },
  {
   "cell_type": "markdown",
   "metadata": {},
   "source": [
    "8 bytes or (8*8)= 64 bits"
   ]
  },
  {
   "cell_type": "markdown",
   "metadata": {
    "deletable": false,
    "editable": false,
    "run_control": {
     "frozen": true
    }
   },
   "source": [
    "#### b) How are these bits distributed among sign, exponent and significand?"
   ]
  },
  {
   "cell_type": "markdown",
   "metadata": {},
   "source": [
    "The MSB (Most significant bit) is used for the sign where 0 is a positive number and 1 is a negative number. The next 11 bits are used for the exponent and the rest (52 bits) are used for the significand (the base number)"
   ]
  },
  {
   "cell_type": "markdown",
   "metadata": {
    "deletable": false,
    "editable": false,
    "run_control": {
     "frozen": true
    }
   },
   "source": [
    "#### c) What are, in absolute value, the largest and smallest numbers representable as doubles?"
   ]
  },
  {
   "cell_type": "markdown",
   "metadata": {},
   "source": [
    "Largest number (where all bits in significand and exponent are 1, the sign bit does not matter) is about 1.8*10^308. The smallest number would be 2.2*10^-308. In reality, we have defined an exponent with only 1's to be infinity and only zeros to be 0. "
   ]
  },
  {
   "cell_type": "markdown",
   "metadata": {
    "deletable": false,
    "editable": false,
    "run_control": {
     "frozen": true
    }
   },
   "source": [
    "#### d) Convert the below numbers to doubles, fl(a), and comment for each of them whether it is an exact representation or not. \n",
    "You do not need to find more than the first eight bits of the significand. You are allowed to use an online \"double converter\" if you like.\n",
    "- 0.25\n",
    "- 4.5\n",
    "- 0.1"
   ]
  },
  {
   "cell_type": "markdown",
   "metadata": {},
   "source": [
    "0.25_10 would be a precise number when writing in binary ( 0.01), and can therefore be exact. \n",
    "0 01111111110 010000....\n",
    "\n",
    "4.5_10 has decimal part 0.5 or 2^-1 so this can be represented exact. \n",
    "0 10000000001 0010000000....\n",
    "\n",
    "0.1 Not exact since the decimal part 0 (0.1) cannot accuratly be represented with the given bits, since its decimal part is not fit power of 2\n",
    "0 01111111011 10011001100.... \n",
    "\n",
    "We can see that all three of these numbers have the sign bit 0, which means that they are all positive. "
   ]
  },
  {
   "cell_type": "markdown",
   "metadata": {
    "deletable": false,
    "editable": false,
    "run_control": {
     "frozen": true
    }
   },
   "source": [
    "#### e) Find the absolute round-off error of the numbers below when represented as a double.\n",
    "\n",
    "- 3.1415\n",
    "- 6.022140857*10^23\n",
    "- 0.8*10^(-10)"
   ]
  },
  {
   "cell_type": "markdown",
   "metadata": {},
   "source": [
    "The double precision numbers are from binaryconvert.com\n",
    "3.1415_roundofferror = (3.14150000000000018118839761883-3.1415)/3.1415 = 5.77 * 10-13\n",
    "\n",
    "6.022140857*10^23_roundofferror = (0.00000015187968*10^23)/6.022140857*10^23 = 2.52 * 10^-8\n",
    "\n",
    "0.8*10^-10_roundofferror = (0.8E-10-7.99999999999999951597575425552E-11)/(0.8E-10) = 0.00000000000000001... / 0.8*10^-10 = 10^-6 (ca)\n",
    "\n",
    "I am not sure this is correct, since all these numbers are grater than \\epsilon_{mach}, which is not in accordance with the theory. There could be an issue calculating this, since I am doing it on a simple calculator which again has roundoff errors. "
   ]
  }
 ],
 "metadata": {
  "kernelspec": {
   "display_name": "Python 3",
   "language": "python",
   "name": "python3"
  },
  "language_info": {
   "codemirror_mode": {
    "name": "ipython",
    "version": 3
   },
   "file_extension": ".py",
   "mimetype": "text/x-python",
   "name": "python",
   "nbconvert_exporter": "python",
   "pygments_lexer": "ipython3",
   "version": "3.10.6"
  },
  "vscode": {
   "interpreter": {
    "hash": "916dbcbb3f70747c44a77c7bcd40155683ae19c65e1c03b4aa3499c5328201f1"
   }
  }
 },
 "nbformat": 4,
 "nbformat_minor": 2
}
