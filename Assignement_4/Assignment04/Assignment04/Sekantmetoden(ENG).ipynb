{
 "cells": [
  {
   "cell_type": "markdown",
   "metadata": {},
   "source": [
    "[Back to Assignment 5](_Oving5.ipynb)\n",
    "\n",
    "# The Secant Method"
   ]
  },
  {
   "cell_type": "markdown",
   "metadata": {
    "deletable": false,
    "editable": false,
    "run_control": {
     "frozen": true
    }
   },
   "source": [
    "## a)"
   ]
  },
  {
   "cell_type": "code",
   "execution_count": 2,
   "metadata": {},
   "outputs": [
    {
     "name": "stdout",
     "output_type": "stream",
     "text": [
      "-44.0\n",
      "-2\n"
     ]
    }
   ],
   "source": [
    "import math as m #Using this to get the exp() function\n",
    "def f(x):\n",
    "    y = ( x - 12 ) * m.exp( x / 2 ) - 8 * (( x + 2 ) ** 2 )\n",
    "    return y\n",
    "print(f(0))\n",
    "def g(x):\n",
    "    y = ( -x - 2 * (x ** 2) - 5 * ( x ** 3 ) + 6 * ( x ** 4 ))\n",
    "    return y\n",
    "print(g(1))"
   ]
  },
  {
   "cell_type": "markdown",
   "metadata": {
    "deletable": false,
    "editable": false,
    "run_control": {
     "frozen": true
    }
   },
   "source": [
    "## b)"
   ]
  },
  {
   "cell_type": "code",
   "execution_count": 3,
   "metadata": {},
   "outputs": [
    {
     "name": "stdout",
     "output_type": "stream",
     "text": [
      "-210.7749243035878\n"
     ]
    }
   ],
   "source": [
    "def differentiate(x_k, x_k1, func):\n",
    "    differentiated_function = ((func(x_k) - func(x_k1)) / (x_k - x_k1))\n",
    "    return differentiated_function\n",
    "\n",
    "print(differentiate(9,10,f))"
   ]
  },
  {
   "cell_type": "markdown",
   "metadata": {
    "deletable": false,
    "editable": false,
    "run_control": {
     "frozen": true
    }
   },
   "source": [
    "## c)"
   ]
  },
  {
   "cell_type": "code",
   "execution_count": 17,
   "metadata": {},
   "outputs": [
    {
     "name": "stdout",
     "output_type": "stream",
     "text": [
      "Tolerance reached, returning\n",
      "The function is close to  a root when x = 13.923, with value f(x) of -0.0\n",
      "Tolerance reached, returning\n",
      "The function is close to  a root when x = 1.219, with value f(x) of -102.725\n",
      "None None\n"
     ]
    }
   ],
   "source": [
    "def secant_method ( x0, x1, func, tol):\n",
    "    while True:\n",
    "        if abs( x1 - x0) < tol:\n",
    "            print(\"Tolerance reached, returning\")\n",
    "            return print(f\"The function is close to  a root when x = {round(x1, 3)}, with value f(x) of {round(f(x1), 3)}\")\n",
    "        x_next = x1 - (func(x1)) / (differentiate(x0, x1, func))\n",
    "        x0, x1 = x1, x_next\n",
    "\n",
    "print(secant_method(11,13,f,0.00001),\n",
    "secant_method(1,2,g,0.00001))"
   ]
  }
 ],
 "metadata": {
  "kernelspec": {
   "display_name": "Python 3",
   "language": "python",
   "name": "python3"
  },
  "language_info": {
   "codemirror_mode": {
    "name": "ipython",
    "version": 3
   },
   "file_extension": ".py",
   "mimetype": "text/x-python",
   "name": "python",
   "nbconvert_exporter": "python",
   "pygments_lexer": "ipython3",
   "version": "3.11.8"
  },
  "toc": {
   "base_numbering": 1,
   "nav_menu": {},
   "number_sections": false,
   "sideBar": true,
   "skip_h1_title": false,
   "title_cell": "Table of Contents",
   "title_sidebar": "Contents",
   "toc_cell": false,
   "toc_position": {},
   "toc_section_display": true,
   "toc_window_display": false
  }
 },
 "nbformat": 4,
 "nbformat_minor": 2
}
