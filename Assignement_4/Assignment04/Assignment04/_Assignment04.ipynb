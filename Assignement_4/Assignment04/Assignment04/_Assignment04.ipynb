{
 "cells": [
  {
   "attachments": {},
   "cell_type": "markdown",
   "metadata": {},
   "source": [
    "# Assignment 4\n",
    "Task | Theme | Difficulty | TDT4127 \n",
    "--- | --- | --- | ---\n",
    "[Basics of Functions(ENG)](Basics_of_functions.ipynb)|Functions| finished 21.02.2024| \n",
    "[Various functions(ENG)](Varierte%20funksjoner(ENG).ipynb)|Functions|finished 21.02.2024 | \n",
    "[Local variables(ENG)](Lokale%20variabler(ENG).ipynb)|Functions|finished 21.02.2024 | \n",
    "[Ordinary Differential Equations(ENG)](ODEassignment1.ipynb) | Numerical methods, Functions | ![img](./../Resources/Images/star_yellow.svg)Finished 24.02.2024 | Mandatory\n",
    " [The Secant Method(ENG)](Sekantmetoden(ENG).ipynb)|Funksjoner, Løkker|![img](./../Resources/Images/star_yellow.svg) finished 22.02.2024 | Mandatory\n"
   ]
  }
 ],
 "metadata": {
  "kernelspec": {
   "display_name": "Python 3",
   "language": "python",
   "name": "python3"
  },
  "language_info": {
   "codemirror_mode": {
    "name": "ipython",
    "version": 3
   },
   "file_extension": ".py",
   "mimetype": "text/x-python",
   "name": "python",
   "nbconvert_exporter": "python",
   "pygments_lexer": "ipython3",
   "version": "3.10.6 (main, Nov 14 2022, 16:10:14) [GCC 11.3.0]"
  },
  "toc": {
   "base_numbering": 1,
   "nav_menu": {},
   "number_sections": false,
   "sideBar": true,
   "skip_h1_title": false,
   "title_cell": "Table of Contents",
   "title_sidebar": "Contents",
   "toc_cell": false,
   "toc_position": {
    "height": "calc(100% - 180px)",
    "left": "10px",
    "top": "150px",
    "width": "231px"
   },
   "toc_section_display": true,
   "toc_window_display": false
  },
  "vscode": {
   "interpreter": {
    "hash": "916dbcbb3f70747c44a77c7bcd40155683ae19c65e1c03b4aa3499c5328201f1"
   }
  }
 },
 "nbformat": 4,
 "nbformat_minor": 2
}
