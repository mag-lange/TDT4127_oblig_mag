{
 "cells": [
  {
   "cell_type": "markdown",
   "metadata": {
    "deletable": false,
    "editable": false,
    "run_control": {
     "frozen": true
    }
   },
   "source": [
    "# Local  variables"
   ]
  },
  {
   "cell_type": "markdown",
   "metadata": {
    "deletable": false,
    "editable": false,
    "heading_collapsed": true,
    "run_control": {
     "frozen": true
    }
   },
   "source": [
    "## Overview of local variables\n",
    "This is not a part of the assignment. We do, however, recommend reading through before moving on."
   ]
  },
  {
   "cell_type": "markdown",
   "metadata": {
    "deletable": false,
    "editable": false,
    "hidden": true,
    "run_control": {
     "frozen": true
    }
   },
   "source": [
    "A local variable is a variable that has been created inside the code block of a function, and it cannot be used by a call outside the function. The code below demonstrates an example of this. Attempt to run the code and see what happens. What do you think is the problem?"
   ]
  },
  {
   "cell_type": "code",
   "execution_count": null,
   "metadata": {
    "ExecuteTime": {
     "end_time": "2019-07-03T07:05:49.515891Z",
     "start_time": "2019-07-03T07:05:47.759406Z"
    },
    "hidden": true
   },
   "outputs": [],
   "source": [
    "def getName():\n",
    "    name = input(\"What is your name? \")  \n",
    "\n",
    "getName()\n",
    "print(\"Hi,\",name)"
   ]
  },
  {
   "cell_type": "markdown",
   "metadata": {
    "deletable": false,
    "editable": false,
    "hidden": true,
    "run_control": {
     "frozen": true
    }
   },
   "source": [
    "Here `name` is a local variable inside the function `getName()`. Therefore the code in line 5 cannot access the variable `name` (which it tries), and the program crashes. Here we get the error message \"NameError name 'name' is not defined\", which simply means that the program has no knowledge of a variable or a function called 'name'.\n",
    "\n",
    "In order to get the code to work as we would like, we can return the name variable and assign this to its own variable - which can be called name or something else - that line 5 has access to. The code can then look like the one below. Feel free to test the code and make sure that it works."
   ]
  },
  {
   "cell_type": "code",
   "execution_count": null,
   "metadata": {
    "hidden": true
   },
   "outputs": [],
   "source": [
    "def getName():\n",
    "    name = input(\"What is your name? \")\n",
    "    return name\n",
    "  \n",
    "name = getName()\n",
    "print(\"Hi,\",name)"
   ]
  },
  {
   "cell_type": "markdown",
   "metadata": {
    "deletable": false,
    "editable": false,
    "hidden": true,
    "run_control": {
     "frozen": true
    }
   },
   "source": [
    "Functions can also contain parameters which also work like local variables. For instance"
   ]
  },
  {
   "cell_type": "code",
   "execution_count": 1,
   "metadata": {
    "hidden": true
   },
   "outputs": [
    {
     "name": "stdout",
     "output_type": "stream",
     "text": [
      "Hei  Ola\n"
     ]
    }
   ],
   "source": [
    "def printName(name):\n",
    "    print(\"Hei \", name)\n",
    "  \n",
    " \n",
    "printName(\"Ola\")"
   ]
  },
  {
   "cell_type": "markdown",
   "metadata": {
    "deletable": false,
    "editable": false,
    "hidden": true,
    "run_control": {
     "frozen": true
    }
   },
   "source": [
    "Here \"Ola\" will be assigned to the **name**-variable which is accessible only within the function in **THAT** function call."
   ]
  },
  {
   "cell_type": "markdown",
   "metadata": {
    "deletable": false,
    "editable": false,
    "run_control": {
     "frozen": true
    }
   },
   "source": [
    "## a)"
   ]
  },
  {
   "cell_type": "markdown",
   "metadata": {
    "deletable": false,
    "editable": false,
    "run_control": {
     "frozen": true
    }
   },
   "source": [
    "All code snippets below contain a mistake, but one of them will run without crashing; which one and why?\n",
    "\n",
    "**Try to find the mistake in each code snippet.**"
   ]
  },
  {
   "cell_type": "code",
   "execution_count": 3,
   "metadata": {},
   "outputs": [
    {
     "name": "stdout",
     "output_type": "stream",
     "text": [
      "I have made 24 cupcakes\n",
      "But I have only baked 1 cake\n"
     ]
    }
   ],
   "source": [
    "#Code snippet 1\n",
    "def cupcakes(): #Runs without error\n",
    "    cupcakes = 24\n",
    "    print(\"I have made\",cupcakes,\"cupcakes\")\n",
    "\n",
    "def cakes():\n",
    "    cake = 1 #Mistake was here, because the value for cake is set after it already has been used\n",
    "    print(\"But I have only baked\",cake,\"cake\")\n",
    "\n",
    "cupcakes()\n",
    "cakes()"
   ]
  },
  {
   "cell_type": "code",
   "execution_count": 5,
   "metadata": {},
   "outputs": [
    {
     "name": "stdout",
     "output_type": "stream",
     "text": [
      "I have made 1 cupcake\n",
      "I have made 1 cupcake\n",
      "And I have made 1 cake\n"
     ]
    }
   ],
   "source": [
    "#Code snippet 2\n",
    "def cupcakes():\n",
    "    cupcake = 1\n",
    "    print(\"I have made\",cupcake,\"cupcake\")\n",
    "    return cupcake\n",
    "\n",
    "def cakes():\n",
    "    print(\"And I have made\",cupcakes(),\"cake\") #Mistake here, cupcake only has the cupcakes() scope\n",
    "\n",
    "cupcakes()\n",
    "cakes()"
   ]
  },
  {
   "cell_type": "code",
   "execution_count": null,
   "metadata": {
    "ExecuteTime": {
     "end_time": "2019-07-03T07:12:49.707507Z",
     "start_time": "2019-07-03T07:12:49.696917Z"
    }
   },
   "outputs": [],
   "source": [
    "#Code snippet 3:\n",
    "def cupcakes():\n",
    "    cupcakes = 24\n",
    "    print(\"I have made\",cupcakes,\"cupcakes\")\n",
    "\n",
    "def cakes():\n",
    "    print(\"But I have only baked\",cake,\"cake\")\n",
    "\n",
    "cupcakes()"
   ]
  },
  {
   "cell_type": "markdown",
   "metadata": {},
   "source": [
    "***Double click on the test below and write your answer in the box that appears***"
   ]
  },
  {
   "cell_type": "markdown",
   "metadata": {},
   "source": [
    "Answer: Code snippet 1 used a variable before defining it (big nono)\n",
    "Code snippet 2 tried using a variable with a local scope in a different function \n",
    "Code snippet 3 tried using the variable cake, that was never defined. This code ran without an error because the function cakes() is never called"
   ]
  },
  {
   "cell_type": "markdown",
   "metadata": {
    "deletable": false,
    "editable": false,
    "run_control": {
     "frozen": true
    }
   },
   "source": [
    "## b)"
   ]
  },
  {
   "cell_type": "code",
   "execution_count": 6,
   "metadata": {},
   "outputs": [
    {
     "name": "stdout",
     "output_type": "stream",
     "text": [
      "Integer division of 23 with 4 yields 5\n",
      "The square of 3 is 9\n"
     ]
    }
   ],
   "source": [
    "#integer division\n",
    "def int_div(x, y):\n",
    "    return x // y\n",
    "#Power \n",
    "def square(x):\n",
    "    return x ** 2\n",
    "\n",
    "print(f\"Integer division of 23 with 4 yields {int_div(23, 4)}\")\n",
    "print(f\"The square of 3 is {square(3)}\")"
   ]
  },
  {
   "cell_type": "markdown",
   "metadata": {
    "deletable": false,
    "editable": false,
    "run_control": {
     "frozen": true
    }
   },
   "source": [
    "Example run:\n",
    "```python\n",
    "Integer division of 23 with 4 yields 5\n",
    "The square of 3 is 9\n",
    "```"
   ]
  },
  {
   "cell_type": "markdown",
   "metadata": {
    "deletable": false,
    "editable": false,
    "run_control": {
     "frozen": true
    }
   },
   "source": [
    "## c)"
   ]
  },
  {
   "cell_type": "markdown",
   "metadata": {
    "deletable": false,
    "editable": false,
    "run_control": {
     "frozen": true
    }
   },
   "source": [
    "Both functions in b) have a variable named num. Can this cause any potential problems in the code? Why/Why not?\n",
    "\n",
    "***Double click on the text below and write your answer in the box that appears***"
   ]
  },
  {
   "cell_type": "markdown",
   "metadata": {},
   "source": [
    "Answer: I coded it without it, but it would not be a problem since both these variables are defined locally and not globally. "
   ]
  }
 ],
 "metadata": {
  "kernelspec": {
   "display_name": "Python 3",
   "language": "python",
   "name": "python3"
  },
  "language_info": {
   "codemirror_mode": {
    "name": "ipython",
    "version": 3
   },
   "file_extension": ".py",
   "mimetype": "text/x-python",
   "name": "python",
   "nbconvert_exporter": "python",
   "pygments_lexer": "ipython3",
   "version": "3.11.8"
  },
  "toc": {
   "base_numbering": 1,
   "nav_menu": {},
   "number_sections": false,
   "sideBar": true,
   "skip_h1_title": false,
   "title_cell": "Table of Contents",
   "title_sidebar": "Contents",
   "toc_cell": false,
   "toc_position": {},
   "toc_section_display": true,
   "toc_window_display": false
  }
 },
 "nbformat": 4,
 "nbformat_minor": 2
}
