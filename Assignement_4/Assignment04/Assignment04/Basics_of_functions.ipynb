{
 "cells": [
  {
   "cell_type": "markdown",
   "metadata": {
    "deletable": false,
    "editable": false,
    "run_control": {
     "frozen": true
    }
   },
   "source": [
    "[Back to Assignment 5](_Oving5.ipynb)\n",
    "\n",
    "# The Basics of Functions"
   ]
  },
  {
   "cell_type": "markdown",
   "metadata": {
    "deletable": false,
    "editable": false,
    "run_control": {
     "frozen": true
    }
   },
   "source": [
    "## a)"
   ]
  },
  {
   "cell_type": "markdown",
   "metadata": {
    "deletable": false,
    "editable": false,
    "run_control": {
     "frozen": true
    }
   },
   "source": [
    "In this subtask you shall write a function which takes in two integers x and y, and returns their product."
   ]
  },
  {
   "cell_type": "code",
   "execution_count": 1,
   "metadata": {},
   "outputs": [
    {
     "name": "stdout",
     "output_type": "stream",
     "text": [
      "The product of 3 and 6 is 18\n"
     ]
    }
   ],
   "source": [
    "# Write code for a) here:\n",
    "def product_f(int1, int2):\n",
    "    return int1*int2\n",
    "\n",
    "print(f\"The product of 3 and 6 is {product_f(3,6)}\")"
   ]
  },
  {
   "cell_type": "markdown",
   "metadata": {
    "deletable": false,
    "editable": false,
    "run_control": {
     "frozen": true
    }
   },
   "source": [
    "## b)"
   ]
  },
  {
   "cell_type": "markdown",
   "metadata": {
    "deletable": false,
    "editable": false,
    "run_control": {
     "frozen": true
    }
   },
   "source": [
    "In this subtask, you will make a function that receives a number, and prints that it is a nice number.\n"
   ]
  },
  {
   "cell_type": "code",
   "execution_count": 2,
   "metadata": {},
   "outputs": [
    {
     "name": "stdout",
     "output_type": "stream",
     "text": [
      "69 is a nice number!\n"
     ]
    }
   ],
   "source": [
    "# Write code for b) here:\n",
    "def nice_number(param):\n",
    "    print(f\"{param} is a nice number!\")\n",
    "\n",
    "number = int(input(\"Input a nice number: \"))\n",
    "nice_number(number)\n",
    "\n"
   ]
  },
  {
   "cell_type": "markdown",
   "metadata": {
    "deletable": false,
    "editable": false,
    "heading_collapsed": true,
    "run_control": {
     "frozen": true
    }
   },
   "source": [
    "## The Main() Function"
   ]
  },
  {
   "cell_type": "markdown",
   "metadata": {
    "deletable": false,
    "editable": false,
    "hidden": true,
    "run_control": {
     "frozen": true
    }
   },
   "source": [
    "It is normal for a program to have a main-function that is executed when the program starts. This is the function that calls the other functions of the program when needed/specified. An example of a program with a main-function is shown below:"
   ]
  },
  {
   "cell_type": "code",
   "execution_count": 1,
   "metadata": {
    "deletable": false,
    "editable": false,
    "hidden": true,
    "run_control": {
     "frozen": true
    }
   },
   "outputs": [
    {
     "name": "stdout",
     "output_type": "stream",
     "text": [
      "I can add 5 with 5\n",
      "5+5 = 10\n"
     ]
    }
   ],
   "source": [
    "def main():\n",
    "    print(\"I can add 5 with 5\")\n",
    "    num = add(5,5)\n",
    "    print(\"5+5 =\",num)\n",
    "  \n",
    "def add(x,y):\n",
    "    return x+y\n",
    "  \n",
    "main()"
   ]
  },
  {
   "cell_type": "markdown",
   "metadata": {
    "deletable": false,
    "editable": false,
    "run_control": {
     "frozen": true
    }
   },
   "source": [
    "## c)"
   ]
  },
  {
   "cell_type": "markdown",
   "metadata": {
    "deletable": false,
    "editable": false,
    "run_control": {
     "frozen": true
    }
   },
   "source": [
    "In this subtask you will make a main()-function which uses the functions you wrote in subtasks a) and b). The main-function shall receive two numbers form the user, and use the function in a) with these as arguments. Further on, function b) will be called on the value returned by function a)\n"
   ]
  },
  {
   "cell_type": "code",
   "execution_count": 3,
   "metadata": {},
   "outputs": [
    {
     "name": "stdout",
     "output_type": "stream",
     "text": [
      "20 is a nice number!\n"
     ]
    }
   ],
   "source": [
    "# write your code for c) here:\n",
    "\n",
    "#Copied the used functions for clarity\n",
    "def nice_number(param):\n",
    "    print(f\"{param} is a nice number!\")\n",
    "def product_f(int1, int2):\n",
    "    return int1*int2\n",
    "\n",
    "def main():\n",
    "    number1 = int(input(\"Give me a number: \"))\n",
    "    number2 = int(input(\"Give me another number: \"))\n",
    "    nice_number(product_f(number1, number2))\n",
    "\n",
    "main()\n",
    "\n"
   ]
  }
 ],
 "metadata": {
  "kernelspec": {
   "display_name": "Python 3",
   "language": "python",
   "name": "python3"
  },
  "language_info": {
   "codemirror_mode": {
    "name": "ipython",
    "version": 3
   },
   "file_extension": ".py",
   "mimetype": "text/x-python",
   "name": "python",
   "nbconvert_exporter": "python",
   "pygments_lexer": "ipython3",
   "version": "3.11.8"
  }
 },
 "nbformat": 4,
 "nbformat_minor": 2
}
