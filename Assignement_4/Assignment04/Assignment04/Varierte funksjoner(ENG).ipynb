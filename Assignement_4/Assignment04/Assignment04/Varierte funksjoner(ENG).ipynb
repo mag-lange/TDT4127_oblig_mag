{
 "cells": [
  {
   "cell_type": "markdown",
   "metadata": {
    "deletable": false,
    "editable": false,
    "run_control": {
     "frozen": true
    }
   },
   "source": [
    "# Various functions"
   ]
  },
  {
   "cell_type": "markdown",
   "metadata": {
    "deletable": false,
    "editable": false,
    "run_control": {
     "frozen": true
    }
   },
   "source": [
    "## a)"
   ]
  },
  {
   "cell_type": "code",
   "execution_count": 1,
   "metadata": {},
   "outputs": [
    {
     "name": "stdout",
     "output_type": "stream",
     "text": [
      "The absolute value of 5 is 5\n",
      "The absolute value of -3 is 3\n",
      "The absolute value of 0 is 0\n"
     ]
    }
   ],
   "source": [
    "#absolute value as own function:\n",
    "\n",
    "def absol(number):\n",
    "    if number >= 0:\n",
    "        return number\n",
    "    elif number < 0:\n",
    "        return number * -1\n",
    "\n",
    "# script for testing the function\n",
    "print(\"The absolute value of 5 is\", absol(5))\n",
    "print(\"The absolute value of -3 is\", absol(-3))\n",
    "print(\"The absolute value of 0 is\", absol(0))"
   ]
  },
  {
   "cell_type": "markdown",
   "metadata": {
    "deletable": false,
    "editable": false,
    "run_control": {
     "frozen": true
    }
   },
   "source": [
    "## b)"
   ]
  },
  {
   "cell_type": "markdown",
   "metadata": {
    "deletable": false,
    "editable": false,
    "run_control": {
     "frozen": true
    }
   },
   "source": [
    "Write a function that received a speed in knots as input, and returns the speed in km/t using the following information\n",
    "\n",
    "- 1 knot is 0.514444444 m/s\n",
    "- 1 m/s is 3.6 km/h"
   ]
  },
  {
   "cell_type": "code",
   "execution_count": 3,
   "metadata": {},
   "outputs": [
    {
     "name": "stdout",
     "output_type": "stream",
     "text": [
      "345.0 knots is  638.94 km/h\n"
     ]
    }
   ],
   "source": [
    "def knop2km_h(knots):\n",
    "    knots_ms = knots * 0.51444444\n",
    "    knots_kmh = knots_ms * 3.6\n",
    "    return knots_kmh\n",
    "\n",
    "knots = float(input(\"Input speed in knots: \"))\n",
    "km_h = knop2km_h(knots)\n",
    "print(f\"{knots} knots is \", round(km_h, 2), \"km/h\")"
   ]
  },
  {
   "cell_type": "markdown",
   "metadata": {
    "deletable": false,
    "editable": false,
    "run_control": {
     "frozen": true
    }
   },
   "source": [
    "## c)"
   ]
  },
  {
   "cell_type": "markdown",
   "metadata": {
    "deletable": false,
    "editable": false,
    "run_control": {
     "frozen": true
    }
   },
   "source": [
    " In England and the U.S, it has been normal to state a person's height in feet and inches -- so-called **imperial** units.\n",
    "\n",
    "Make a function called `imp2cm()` which takes in two parameters - the amount of feet and the amount inches, and returns the equivalent number of centimeters (cm)\n",
    "\n",
    "For this task, you can use the following information:\n",
    "\n",
    "one foot equals 12 inches\n",
    "one inch equals 2.54 cm\n",
    "\n",
    "The function should return the amount of cm rounded to the nearest integer.\n",
    "\n",
    "***Write your function below***"
   ]
  },
  {
   "cell_type": "code",
   "execution_count": 8,
   "metadata": {},
   "outputs": [
    {
     "name": "stdout",
     "output_type": "stream",
     "text": [
      "That is equal to 183 cm\n"
     ]
    }
   ],
   "source": [
    "def imp2cm(feet, inches):\n",
    "    feet_inches = feet * 12 \n",
    "    total_inches = inches + feet_inches\n",
    "    inches_to_cm = total_inches * 2.54 \n",
    "    return round(inches_to_cm)\n",
    "\n",
    "feet = int(input(\"Input number of feet: \"))\n",
    "inches = int(input(\"Input number of inches: \"))\n",
    "cm = imp2cm(feet, inches)\n",
    "print(\"That is equal to\", cm, \"cm\")\n"
   ]
  },
  {
   "cell_type": "markdown",
   "metadata": {
    "deletable": false,
    "editable": false,
    "run_control": {
     "frozen": true
    }
   },
   "source": [
    "## d)"
   ]
  },
  {
   "cell_type": "markdown",
   "metadata": {
    "deletable": false,
    "editable": false,
    "run_control": {
     "frozen": true
    }
   },
   "source": [
    "When printing to paper, the colors are stated in CMYK, which is 4 floating point numbers between 0-1 indicating how much cyan (C), yellow (Y), magenta (M) and black (K) printer ink.\n",
    "\n",
    "When colors are shown on the screen, they are represented as RGB, that is three integers 0-255 which correspond to the light of the respective color's intensity (R - Red, G - Green, and B - Blue)\n",
    "\n",
    "\"Nina\" has been working as a designer for material of a brochure on paper, and knows of many nice colors which she knows the CMYK-values for.\n",
    "\n",
    "The customers have been transition to digital information material, therefore she now wants a program to convert CMYK to RGB.\n",
    "\n",
    "Given values for C, M, Y,K as floating point numbers between 0 and 1, the formulae for converting from CMYK to RGB is as follows:\n",
    "\n",
    "- $R = 255 \\cdot (1-C) \\cdot (1-K)$\n",
    "- $G = 255 \\cdot (1-M) \\cdot (1-K)$\n",
    "- $B = 255 \\cdot (1-Y) \\cdot (1-K)$\n",
    "\n",
    "Most of the program has been completed by another programmer, except the function **cmyk2rgb()** for the actual conversion.\n",
    "\n",
    "***Input the missing code in the code block below, then run your code to check if it works.***"
   ]
  },
  {
   "cell_type": "code",
   "execution_count": 11,
   "metadata": {},
   "outputs": [
    {
     "name": "stdout",
     "output_type": "stream",
     "text": [
      "Input color in CMYK and have it converted to RGB.\n",
      "As RGB: 45.9 53.6 23.0\n"
     ]
    }
   ],
   "source": [
    "# write the function cmyk2rgb() here at the top \n",
    "def cmyk2rgb(cyan, magenta, yellow, black):\n",
    "    #Could add a check here that stops the program if the inputed numbers are not between 0 and 1\n",
    "    R = round(255 * ( 1 - cyan ) * ( 1 - black ), 1)\n",
    "    G = round(255 * ( 1 - magenta ) * ( 1 - black ), 1)\n",
    "    B = round(255 * ( 1 - yellow ) * ( 1 - black ), 1)\n",
    "    return R, G, B\n",
    "print(\"Input color in CMYK and have it converted to RGB.\")\n",
    "C = float(input(\"C: \"))\n",
    "M = float(input(\"M: \"))\n",
    "Y = float(input(\"Y: \"))\n",
    "K = float(input(\"K: \"))\n",
    "R, G, B = cmyk2rgb(C, M, Y, K)\n",
    "print(\"As RGB:\", R, G, B)"
   ]
  }
 ],
 "metadata": {
  "kernelspec": {
   "display_name": "Python 3",
   "language": "python",
   "name": "python3"
  },
  "language_info": {
   "codemirror_mode": {
    "name": "ipython",
    "version": 3
   },
   "file_extension": ".py",
   "mimetype": "text/x-python",
   "name": "python",
   "nbconvert_exporter": "python",
   "pygments_lexer": "ipython3",
   "version": "3.11.8"
  },
  "toc": {
   "base_numbering": 1,
   "nav_menu": {},
   "number_sections": false,
   "sideBar": true,
   "skip_h1_title": false,
   "title_cell": "Table of Contents",
   "title_sidebar": "Contents",
   "toc_cell": false,
   "toc_position": {},
   "toc_section_display": true,
   "toc_window_display": false
  }
 },
 "nbformat": 4,
 "nbformat_minor": 2
}
