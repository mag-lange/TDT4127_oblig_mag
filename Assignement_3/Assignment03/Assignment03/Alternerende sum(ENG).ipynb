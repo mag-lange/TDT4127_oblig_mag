{
 "cells": [
  {
   "cell_type": "markdown",
   "metadata": {
    "deletable": false,
    "editable": false,
    "run_control": {
     "frozen": true
    }
   },
   "source": [
    "# Alternating sum\n",
    "\n",
    "**Learning goals:**\n",
    "\n",
    "* Loops\n",
    "\n",
    "**Starting Out with Python:**\n",
    "\n",
    "* Chapt. 4.2-4.3\n",
    "\n",
    "In this assignment you are going evaluate the sum of numbers, based on user input."
   ]
  },
  {
   "cell_type": "markdown",
   "metadata": {
    "deletable": false,
    "editable": false,
    "run_control": {
     "frozen": true
    }
   },
   "source": [
    "## a)\n",
    "Write a program that reads in an integer $n$ from the user and evaluates the series below.\n",
    "\n",
    "**$1^{2}-2^{2}+3^{2}-4^{2}+5^{2}-\\cdot \\cdot \\cdot \\pm n^{2}$**\n",
    "\n",
    "Notice that all the even numbers have a negative sign and all the odd numbers have a positive sign. Also recall that the name of your variable ***cannot*** be **sum**, as this is the name of a function in python. Also remember that range() is inclusive for the starting number but exclusive for the end number.\n",
    "\n",
    "Example run:\n",
    "```python\n",
    "n = 7\n",
    "The sum of the series is 28\n",
    "```\n",
    "\n",
    "***Write your code here***"
   ]
  },
  {
   "cell_type": "code",
   "execution_count": null,
   "metadata": {
    "ExecuteTime": {
     "end_time": "2019-07-03T06:12:01.940513Z",
     "start_time": "2019-07-03T06:12:01.928036Z"
    }
   },
   "outputs": [],
   "source": []
  },
  {
   "cell_type": "markdown",
   "metadata": {
    "deletable": false,
    "editable": false,
    "run_control": {
     "frozen": true
    }
   },
   "source": [
    "## b)\n",
    "Write a new program such that it ends the iteration **before** the sum of the numbers is greater than the nonnegative integer $k$. That is the sum at the last term should be printed before it surpasses the number $k$.\n",
    "\n",
    "Keep track of how many terms from the series which have been included in the sum and print this out with the result.\n",
    "\n",
    "Example run:\n",
    "\n",
    "```python\n",
    "k = 6\n",
    "The sum of the numbers before the sum surpassed k is -10. Number of iterations: 4\n",
    "```\n",
    "```python\n",
    "k = 12\n",
    "The sum of the numbers before the sum surpassed k is -10. Number of iterations: 4\n",
    "```\n",
    "```python\n",
    "k = 15\n",
    "The sum of the numbers before the sum surpassed k is -21. Number of iterations: 6\n",
    "```\n",
    "\n",
    "***Write your code here:***"
   ]
  },
  {
   "cell_type": "code",
   "execution_count": null,
   "metadata": {},
   "outputs": [],
   "source": []
  }
 ],
 "metadata": {
  "kernelspec": {
   "display_name": "Python 3",
   "language": "python",
   "name": "python3"
  },
  "language_info": {
   "codemirror_mode": {
    "name": "ipython",
    "version": 3
   },
   "file_extension": ".py",
   "mimetype": "text/x-python",
   "name": "python",
   "nbconvert_exporter": "python",
   "pygments_lexer": "ipython3",
   "version": "3.7.1"
  },
  "toc": {
   "base_numbering": 1,
   "nav_menu": {},
   "number_sections": false,
   "sideBar": true,
   "skip_h1_title": false,
   "title_cell": "Table of Contents",
   "title_sidebar": "Contents",
   "toc_cell": false,
   "toc_position": {},
   "toc_section_display": true,
   "toc_window_display": false
  }
 },
 "nbformat": 4,
 "nbformat_minor": 2
}
