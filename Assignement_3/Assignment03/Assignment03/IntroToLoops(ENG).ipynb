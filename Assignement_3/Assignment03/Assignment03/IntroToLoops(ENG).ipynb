{
 "cells": [
  {
   "cell_type": "markdown",
   "metadata": {
    "deletable": false,
    "editable": false,
    "run_control": {
     "frozen": true
    }
   },
   "source": [
    "\n",
    "# Introduction to loops\n"
   ]
  },
  {
   "cell_type": "markdown",
   "metadata": {
    "deletable": false,
    "editable": false,
    "run_control": {
     "frozen": true
    }
   },
   "source": [
    "## a)"
   ]
  },
  {
   "cell_type": "code",
   "execution_count": 2,
   "metadata": {
    "ExecuteTime": {
     "end_time": "2019-07-02T12:12:32.923751Z",
     "start_time": "2019-07-02T12:12:22.141490Z"
    }
   },
   "outputs": [
    {
     "name": "stdout",
     "output_type": "stream",
     "text": [
      "Bah, you j!? I am  jer!\n",
      "Bah, you er!? I am  erer!\n",
      "Goodbye!\n"
     ]
    }
   ],
   "source": [
    "iterations = int(input(\"How many iterations would you like? \"))\n",
    "for i in range(iterations):\n",
    "    adj = input(\"Describe yourself with an adjective: \")\n",
    "    print(\"Bah, you\", adj + \"!? I am \", adj + \"er!\")\n",
    "print(\"Goodbye!\")"
   ]
  },
  {
   "cell_type": "markdown",
   "metadata": {
    "deletable": false,
    "editable": false,
    "run_control": {
     "frozen": true
    }
   },
   "source": [
    "## b)"
   ]
  },
  {
   "cell_type": "code",
   "execution_count": 3,
   "metadata": {},
   "outputs": [
    {
     "name": "stdout",
     "output_type": "stream",
     "text": [
      "Bah, you ef!? I am  efer!\n",
      "Bah, you wf!? I am  wfer!\n",
      "Bah, you sdf!? I am  sdfer!\n",
      "Goodbye!\n"
     ]
    }
   ],
   "source": [
    "i = 0\n",
    "while i < 3:\n",
    "    adj = input(\"Describe yourself with an adjective: \")\n",
    "    if adj == '':\n",
    "        break\n",
    "    print(\"Bah, you\", adj + \"!? I am \", adj + \"er!\")\n",
    "    #An infinite loop since i is never increased:)\n",
    "print(\"Goodbye!\")"
   ]
  },
  {
   "cell_type": "markdown",
   "metadata": {
    "deletable": false,
    "editable": false,
    "run_control": {
     "frozen": true
    }
   },
   "source": [
    "## c)"
   ]
  },
  {
   "cell_type": "code",
   "execution_count": 6,
   "metadata": {},
   "outputs": [
    {
     "name": "stdout",
     "output_type": "stream",
     "text": [
      "Bah, you erdfgd!? I am  erdfgder!\n",
      "You have 34 letters remaining\n",
      "Bah, you dfgdfgdfgdfgdfgdfgfd!? I am  dfgdfgdfgdfgdfgdfgfder!\n",
      "You have 14 letters remaining\n",
      "Goodbye!\n"
     ]
    }
   ],
   "source": [
    "#Imported the code from c and modified it\n",
    "i = 0\n",
    "char_left = 40\n",
    "while i < 3:\n",
    "    adj = input(\"Describe yourself with an adjective: \")\n",
    "    char_left -= adj.__len__()\n",
    "    if adj == '' or char_left < 1:\n",
    "        break\n",
    "    print(\"Bah, you\", adj + \"!? I am \", adj + \"er!\")\n",
    "    print(f\"You have {char_left} letters remaining\")\n",
    "print(\"Goodbye!\")\n"
   ]
  },
  {
   "cell_type": "markdown",
   "metadata": {
    "deletable": false,
    "editable": false,
    "run_control": {
     "frozen": true
    }
   },
   "source": [
    " ## d)"
   ]
  },
  {
   "cell_type": "markdown",
   "metadata": {
    "deletable": false,
    "editable": false,
    "run_control": {
     "frozen": true
    }
   },
   "source": [
    "In the code below, the first two FOR-loops are complete, but the following three is not. Change range(0) i these loops such that it runs the number of iterations corresponding to the above print()-statement."
   ]
  },
  {
   "cell_type": "code",
   "execution_count": 9,
   "metadata": {},
   "outputs": [
    {
     "name": "stdout",
     "output_type": "stream",
     "text": [
      "Odd numbers from 1 to 20:\n",
      "1 3 5 7 9 11 13 15 17 19 \n",
      "Every third number from 12 to 25:\n",
      "12 15 18 21 24 \n",
      "Every fifth number from 20 to 81:\n",
      "20 25 30 35 40 45 50 55 60 65 70 75 80 \n",
      "The number sequence 48, 56, 64, 72, 80\n",
      "48 56 64 72 \n",
      "Count backwards from 100 to 80, with an interval of -3, eg. 100, 97, ...:\n",
      "100 97 94 91 88 85 82 \n"
     ]
    }
   ],
   "source": [
    "print(\"Odd numbers from 1 to 20:\")\n",
    "for number in range(1, 20, 2):\n",
    "    print(number, end = \" \")\n",
    "print()\n",
    "  \n",
    "print(\"Every third number from 12 to 25:\")\n",
    "for number in range(12, 25, 3):\n",
    "    print(number, end = \" \")\n",
    "print()\n",
    "  \n",
    "print(\"Every fifth number from 20 to 81:\")\n",
    "for number in range(20, 81, 5):\n",
    "    print(number, end = \" \")\n",
    "print()\n",
    "  \n",
    "print(\"The number sequence 48, 56, 64, 72, 80\")\n",
    "for number in range(48, 80, 8):\n",
    "    print(number, end = \" \")\n",
    "print()\n",
    "  \n",
    "print(\"Count backwards from 100 to 80, with an interval of -3, eg. 100, 97, ...:\")\n",
    "for number in range(100, 80, -3):\n",
    "    print(number, end = \" \")\n",
    "print()"
   ]
  },
  {
   "cell_type": "markdown",
   "metadata": {},
   "source": [
    "## e)\n",
    "Make a program that prints the numbers 1 to 5 with a FOR-loop"
   ]
  },
  {
   "cell_type": "code",
   "execution_count": 11,
   "metadata": {},
   "outputs": [
    {
     "name": "stdout",
     "output_type": "stream",
     "text": [
      "1\n",
      "2\n",
      "3\n",
      "4\n",
      "5\n"
     ]
    }
   ],
   "source": [
    "for i in range(1,6):\n",
    "    print(i)"
   ]
  },
  {
   "cell_type": "markdown",
   "metadata": {},
   "source": [
    "## f) \n",
    "Make a program that prints the numbers starting from 15 to 1 with a FOR-loop"
   ]
  },
  {
   "cell_type": "code",
   "execution_count": 14,
   "metadata": {},
   "outputs": [
    {
     "name": "stdout",
     "output_type": "stream",
     "text": [
      "15\n",
      "14\n",
      "13\n",
      "12\n",
      "11\n",
      "10\n",
      "9\n",
      "8\n",
      "7\n",
      "6\n",
      "5\n",
      "4\n",
      "3\n",
      "2\n",
      "1\n"
     ]
    }
   ],
   "source": [
    "for i in range(15, 0, -1):\n",
    "    print(i)"
   ]
  }
 ],
 "metadata": {
  "kernelspec": {
   "display_name": "Python 3",
   "language": "python",
   "name": "python3"
  },
  "language_info": {
   "codemirror_mode": {
    "name": "ipython",
    "version": 3
   },
   "file_extension": ".py",
   "mimetype": "text/x-python",
   "name": "python",
   "nbconvert_exporter": "python",
   "pygments_lexer": "ipython3",
   "version": "3.11.8"
  },
  "toc": {
   "base_numbering": 1,
   "nav_menu": {},
   "number_sections": false,
   "sideBar": true,
   "skip_h1_title": false,
   "title_cell": "Table of Contents",
   "title_sidebar": "Contents",
   "toc_cell": false,
   "toc_position": {},
   "toc_section_display": true,
   "toc_window_display": false
  }
 },
 "nbformat": 4,
 "nbformat_minor": 2
}
