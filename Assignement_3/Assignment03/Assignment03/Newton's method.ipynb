{
 "cells": [
  {
   "cell_type": "markdown",
   "metadata": {
    "deletable": false,
    "editable": false,
    "run_control": {
     "frozen": true
    }
   },
   "source": [
    "\n",
    "# Newton's method\n",
    "\n"
   ]
  },
  {
   "cell_type": "markdown",
   "metadata": {
    "deletable": false,
    "editable": false,
    "run_control": {
     "frozen": true
    }
   },
   "source": [
    "## a) "
   ]
  },
  {
   "cell_type": "markdown",
   "metadata": {
    "deletable": false,
    "editable": false,
    "run_control": {
     "frozen": true
    }
   },
   "source": [
    "Use Newton's method to calculate the roots of the test function $f(x)=\\cos(x)$, which has known roots at $x = \\frac{n \\pi}{2}$, for some integer $m$. \n",
    "\n",
    "Use a tolerance of $\\texttt{tol} = 10^{-10}$, and an initial guess of $x_0 = 0.5$.\n",
    "\n",
    "Your algorithm should converge to the root $x = \\frac{\\pi}{2}$. "
   ]
  },
  {
   "cell_type": "code",
   "execution_count": 6,
   "metadata": {},
   "outputs": [
    {
     "name": "stdout",
     "output_type": "stream",
     "text": [
      "Max iterations reached. Newton's method did not converge.\n",
      "None\n"
     ]
    }
   ],
   "source": [
    "import math\n",
    "def f(x):\n",
    "    return math.cos(x)\n",
    "def df(x):\n",
    "    return -math.sin(x)\n",
    "\n",
    "def newtons_method(f, df, x0, tol, max_iter=1000):\n",
    "    x = x0\n",
    "    for i in range(max_iter):\n",
    "        fx = f(x)\n",
    "        if abs(fx) < tol:\n",
    "            print(f\"Root found: {x}\")\n",
    "            return x, i \n",
    "        if df(x) == 0:\n",
    "            print(\"Derivative is zero. Newton's method fails.\")\n",
    "            return None\n",
    "        x = x - fx / df(x)\n",
    "    print(\"Max iterations reached. Newton's method did not converge.\")\n",
    "    return None\n",
    "\n",
    "x0 = 0.5\n",
    "tol = 1e-10\n",
    "\n",
    "root = newtons_method(f, df, x0, tol)\n",
    "print(root)\n",
    "\n"
   ]
  },
  {
   "cell_type": "markdown",
   "metadata": {},
   "source": [
    "### i) ###\n",
    "For the stopping criteria $\\texttt{abs}(f(x_n))<\\texttt{tol}$, how many iterations does it take for Newton's method to converge to the root? \n",
    "\n"
   ]
  },
  {
   "cell_type": "markdown",
   "metadata": {},
   "source": [
    "**Answer:** I added the counter i to the return function and we can see that it is reached after only 5 iterations! Newtons method converges fast wow:)"
   ]
  },
  {
   "cell_type": "markdown",
   "metadata": {
    "deletable": false,
    "editable": false,
    "run_control": {
     "frozen": true
    }
   },
   "source": [
    "### ii) ### \n",
    "What happens when you use the initial guess of $x_0 = 0$? Can you explain your observation? (Note: if you have written your code correctly, something $\\it should$ go wrong.)"
   ]
  },
  {
   "cell_type": "markdown",
   "metadata": {},
   "source": [
    "**Answer:** Yes, it goes wrong because something is wrong. The derivative is zero, I update my program to account for this problem. "
   ]
  },
  {
   "cell_type": "markdown",
   "metadata": {
    "deletable": false,
    "editable": false,
    "run_control": {
     "frozen": true
    }
   },
   "source": [
    "### iii)"
   ]
  },
  {
   "cell_type": "markdown",
   "metadata": {
    "deletable": false,
    "editable": false,
    "run_control": {
     "frozen": true
    }
   },
   "source": [
    "What happens when you use a tolerance of $\\texttt{tol} = 10^{-18}$ and $x_0=0.5$? Does the algorithm converge? Can you explain your observation?"
   ]
  },
  {
   "cell_type": "markdown",
   "metadata": {},
   "source": [
    "**Answer:** No, the max iterations is reached, I could increase that number so that it will converge, but not with the current setup."
   ]
  },
  {
   "cell_type": "markdown",
   "metadata": {},
   "source": [
    "## b)"
   ]
  },
  {
   "cell_type": "markdown",
   "metadata": {
    "deletable": false,
    "editable": false,
    "run_control": {
     "frozen": true
    }
   },
   "source": [
    "Now we will try and find a solution to the following function $$x{{\\rm e}^{- \\left( \\sin \\left( x/2 \\right)  \\right) ^{2}}}=3/2. $$ To do this we will look for a root of the function $$ f(x) = x{{\\rm e}^{- \\left( \\sin \\left( x/2 \\right)  \\right) ^{2}}}-3/2.$$\n",
    "which has the derivative $$f'(x) = {{\\rm e}^{- \\left( \\sin \\left( x/2 \\right)  \\right) ^{2}}}-x\\sin\n",
    " \\left( x/2 \\right) \\cos \\left( x/2 \\right) {{\\rm e}^{- \\left( \\sin\n",
    " \\left( x/2 \\right)  \\right) ^{2}}}. $$\n",
    "The values of $f(x)$ and $f'(x)$ for $x = 2$ have been written in Python for you below so you don't make a mistake copying the formula into you code. "
   ]
  },
  {
   "cell_type": "code",
   "execution_count": 7,
   "metadata": {
    "deletable": false,
    "editable": false,
    "run_control": {
     "frozen": true
    }
   },
   "outputs": [
    {
     "name": "stdout",
     "output_type": "stream",
     "text": [
      "The value of the derivative at x = 2 is f'(2) = 0.04467938942574401\n"
     ]
    }
   ],
   "source": [
    "import math \n",
    "x = 2\n",
    "f = x*math.exp(-math.sin((1/2)*x)**2)-3/2\n",
    "dfdx = math.exp(-math.sin((1/2)*x)**2)-x*math.sin((1/2)*x)*math.cos((1/2)*x)*math.exp(-math.sin((1/2)*x)**2)\n",
    "print(\"The value of the derivative at x = 2 is f'(2) =\", dfdx)"
   ]
  },
  {
   "cell_type": "markdown",
   "metadata": {
    "deletable": false,
    "editable": false,
    "run_control": {
     "frozen": true
    }
   },
   "source": [
    "### i) ### \n",
    " There is a root in the interval $[0,10]$. What is the value of this root? Express your answer to 10 decimal places.  \n",
    "\n",
    "**Note:** As suggested above, the Newton method might not converge for certain initial values, therefore you need to test a few initial starting points until the algorithm converges. \n"
   ]
  },
  {
   "cell_type": "code",
   "execution_count": 8,
   "metadata": {},
   "outputs": [
    {
     "name": "stdout",
     "output_type": "stream",
     "text": [
      "The root in the interval [0, 10] to 10 decimal places is: 3.7390825436\n"
     ]
    }
   ],
   "source": [
    "# Write your code here\n",
    "\n",
    "import math\n",
    "\n",
    "def f(x):\n",
    "    return x * math.exp(-math.sin((1/2) * x)**2) - 3/2\n",
    "\n",
    "def df(x):\n",
    "    return math.exp(-math.sin((1/2) * x)**2) - x * math.sin((1/2) * x) * math.cos((1/2) * x) * math.exp(-math.sin((1/2) * x)**2)\n",
    "\n",
    "def newtons_method(f, df, x0, tol=1e-10, max_iter=1000):\n",
    "    x = x0\n",
    "    for i in range(max_iter):\n",
    "        fx = f(x)\n",
    "        if abs(fx) < tol:\n",
    "            return x\n",
    "        if df(x) == 0:\n",
    "            print(\"Derivative is zero. Newton's method fails.\")\n",
    "            return None\n",
    "        x = x - fx / df(x)\n",
    "        if x < 0 or x > 10:\n",
    "            print(\"Root not found within the interval [0, 10].\")\n",
    "            return None\n",
    "    print(\"Max iterations reached. Newton's method did not converge.\")\n",
    "    return None\n",
    "\n",
    "x0 = 5  # Initial guess within the interval [0, 10]\n",
    "tol = 1e-10\n",
    "\n",
    "root = newtons_method(f, df, x0, tol)\n",
    "if root is not None:\n",
    "    print(\"The root in the interval [0, 10] to 10 decimal places is:\", \"{:.10f}\".format(root))\n",
    "#The {:.10f}.format) was found with the help of chatGPT\n",
    "\n",
    "\n"
   ]
  }
 ],
 "metadata": {
  "kernelspec": {
   "display_name": "Python 3",
   "language": "python",
   "name": "python3"
  },
  "language_info": {
   "codemirror_mode": {
    "name": "ipython",
    "version": 3
   },
   "file_extension": ".py",
   "mimetype": "text/x-python",
   "name": "python",
   "nbconvert_exporter": "python",
   "pygments_lexer": "ipython3",
   "version": "3.7.1"
  }
 },
 "nbformat": 4,
 "nbformat_minor": 2
}
