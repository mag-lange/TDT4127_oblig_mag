{
 "cells": [
  {
   "cell_type": "markdown",
   "metadata": {},
   "source": [
    "# Adaptive Simpson's Rule"
   ]
  },
  {
   "cell_type": "markdown",
   "metadata": {},
   "source": [
    "### a)\n",
    "\n",
    "Make a function `simpsons_method(f, a, b)` that takes as input a function `f`, a starting point `a`, and a stopping point `b` and returns the Simpson's method approximation to the integral of $f$ from $a$ to $b$."
   ]
  },
  {
   "cell_type": "code",
   "execution_count": 1,
   "metadata": {},
   "outputs": [
    {
     "name": "stdout",
     "output_type": "stream",
     "text": [
      "0.3858346021654338\n"
     ]
    }
   ],
   "source": [
    "import math\n",
    "def simpsons_method(f, a, b):\n",
    "    h = ( b - a ) / 2\n",
    "    c = ( a + b ) / 2\n",
    "    S = (h / 3) * ((f(a) + 4 * f(c) + f(b)))\n",
    "    return S\n",
    "\n",
    "\n",
    "def f(x):\n",
    "    return math.log(x)\n",
    "print(simpsons_method(f,1,2))"
   ]
  },
  {
   "cell_type": "markdown",
   "metadata": {},
   "source": [
    "## b) \n",
    "#### Expected output:\n",
    "0.386294208843096\n",
    "#### Exact value\n",
    "0.3862943611198906. \n",
    "\n"
   ]
  },
  {
   "cell_type": "code",
   "execution_count": 11,
   "metadata": {},
   "outputs": [
    {
     "name": "stdout",
     "output_type": "stream",
     "text": [
      "Accuracy not good enough, trying to improve value with recursion\n",
      "Desired accuracy received for interval 1 to 1.5, returning result\n",
      "Desired accuracy received for interval 1.5 to 2, returning result\n",
      "Returing the following two put togeter a_c: 0.10819752727402802 and c_b 0.278096681569068\n",
      "0.38629420884309607\n"
     ]
    }
   ],
   "source": [
    "import math\n",
    "def recursive(f, a, b, tol):\n",
    "    whole = simpsons_method(f, a, b)\n",
    "    c = ( a + b ) / 2\n",
    "    left = simpsons_method(f, a, c)\n",
    "    right = simpsons_method(f, c, b)\n",
    "    if abs(left + right - whole) > 15 * tol:\n",
    "        print(\"Accuracy not good enough, trying to improve value with recursion\")\n",
    "        a_c = recursive(f, a, c, tol / 2) #Here I prove that the function is recursive\n",
    "        c_b = recursive(f, c, b, tol / 2) #Because it is calling itself. \n",
    "        print(f\"Returing the following two put togeter a_c: {a_c} and c_b {c_b}\")\n",
    "        return a_c + c_b\n",
    "    else:\n",
    "        print(f\"Desired accuracy received for interval {a} to {b}, returning result\")\n",
    "        return ((16* (left + right ) - whole) / 15)\n",
    "\n",
    "def f(x):\n",
    "    return math.log(x)\n",
    "print(recursive(f, 1 , 2, 0.00001))"
   ]
  }
 ],
 "metadata": {
  "kernelspec": {
   "display_name": "Python 3",
   "language": "python",
   "name": "python3"
  },
  "language_info": {
   "codemirror_mode": {
    "name": "ipython",
    "version": 3
   },
   "file_extension": ".py",
   "mimetype": "text/x-python",
   "name": "python",
   "nbconvert_exporter": "python",
   "pygments_lexer": "ipython3",
   "version": "3.11.9"
  }
 },
 "nbformat": 4,
 "nbformat_minor": 2
}
