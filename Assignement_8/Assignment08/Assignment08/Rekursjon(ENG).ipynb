{
 "cells": [
  {
   "cell_type": "markdown",
   "metadata": {
    "deletable": false,
    "editable": false,
    "run_control": {
     "frozen": true
    }
   },
   "source": [
    "\n",
    "# Recursion"
   ]
  },
  {
   "cell_type": "markdown",
   "metadata": {
    "deletable": false,
    "editable": false,
    "heading_collapsed": true,
    "run_control": {
     "frozen": true
    }
   },
   "source": [
    "### What is Recursion?"
   ]
  },
  {
   "cell_type": "markdown",
   "metadata": {
    "deletable": false,
    "editable": false,
    "hidden": true,
    "run_control": {
     "frozen": true
    }
   },
   "source": [
    "If a function calls itself, we call it a recursive function. The concept of a function calling itself is called recursion. Recursion is an important conecpt in computer science, and is a widely used technique for solving problems that can be divided into similar, smaller subproblems. For instance, a series of search algorithms take advantage of this technique.\n",
    "\n",
    "![img](../Resources/Images/fixing_problems.webp)\n",
    "\n",
    "Let us start by looking at a very simple function that uses recursion. As mentioned above, this simply means that the function calls itself.\n",
    "\n",
    "**Example:**"
   ]
  },
  {
   "cell_type": "code",
   "execution_count": 2,
   "metadata": {
    "hidden": true
   },
   "outputs": [
    {
     "name": "stdout",
     "output_type": "stream",
     "text": [
      "We have now arrived at:  0\n",
      "We have now arrived at:  1\n",
      "We have now arrived at:  2\n",
      "We have now arrived at:  3\n",
      "We have now arrived at:  4\n",
      "We have now arrived at:  5\n",
      "We have now arrived at:  6\n",
      "We have now arrived at:  7\n",
      "We have now arrived at:  8\n",
      "We have now arrived at:  9\n",
      "We have now arrived at:  10\n",
      "We have now arrived at:  11\n",
      "We have now arrived at:  12\n",
      "We have now arrived at:  13\n",
      "We have now arrived at:  14\n",
      "We have now arrived at:  15\n"
     ]
    }
   ],
   "source": [
    "# run this yourself\n",
    "def counter(number=0): \n",
    "    print(\"We have now arrived at: \", number)\n",
    "    if number >= 15: #I had to add this because this program is a trap in disguise!\n",
    "        return\n",
    "    counter(number + 1)\n",
    "    \n",
    "counter()"
   ]
  },
  {
   "cell_type": "markdown",
   "metadata": {
    "deletable": false,
    "editable": false,
    "hidden": true,
    "run_control": {
     "frozen": true
    }
   },
   "source": [
    "This is an example of a counter that is implemented recursively. The function starts by counting from zero, as this is the default value it has been given. It then proceeds to call itself, with the value incremented. We can also implement another function with the same functionality iteratively, with the help of loops. The function below will do the same as our recursive counter."
   ]
  },
  {
   "cell_type": "code",
   "execution_count": null,
   "metadata": {
    "hidden": true
   },
   "outputs": [],
   "source": [
    "# run this yourself\n",
    "def counter2():\n",
    "    number = 0\n",
    "    while :\n",
    "        print(\"We have now arrived at: \", number)\n",
    "        number += 1\n",
    "        \n",
    "counter2()"
   ]
  },
  {
   "cell_type": "markdown",
   "metadata": {
    "deletable": false,
    "editable": false,
    "hidden": true,
    "run_control": {
     "frozen": true
    }
   },
   "source": [
    "However, as you may have noticed, our recursive function has a big weakness, it never stops. Our function will keep counting until we get a RecursionError, which tells us that the maximum recursion depth has been reached. We can view this as digging a hole. Every time a recursive function calls itself, we dig ourselves a little further down the hole, and Python sets a limit of how far we can dig. Hopefully we want to get up from the hole as well, but that is for later. First let us keep our attention on our function which never ends.\n",
    "\n",
    "Recursive functions need what we call a **base case**, a place where the code knows when to stop. Let us attempt to modify the counter so that it stops counting once it has reached 10."
   ]
  },
  {
   "cell_type": "code",
   "execution_count": null,
   "metadata": {
    "ExecuteTime": {
     "end_time": "2019-07-05T06:25:12.112924Z",
     "start_time": "2019-07-05T06:25:12.100102Z"
    },
    "hidden": true
   },
   "outputs": [],
   "source": [
    "# run this yourself\n",
    "def counter(number=0):\n",
    "    print(\"We have now arrived at: \", number)\n",
    "    if(number<10):\n",
    "        counter(number + 1)\n",
    "        \n",
    "counter()"
   ]
  },
  {
   "cell_type": "markdown",
   "metadata": {
    "deletable": false,
    "editable": false,
    "hidden": true,
    "run_control": {
     "frozen": true
    }
   },
   "source": [
    "As you can verify yourself, our function will count up to 10, before it stops. We have a case where the function finds out that it has to stop, and Python does not have to give us a strict message that we have to stop calling our function. Previously we mentioned the hopes of climbing up from the hole we made, so let us have a look at a classic use case for recursion, namely calculating the factorial of a number."
   ]
  },
  {
   "cell_type": "code",
   "execution_count": null,
   "metadata": {
    "ExecuteTime": {
     "end_time": "2019-07-05T06:31:27.611550Z",
     "start_time": "2019-07-05T06:31:27.594077Z"
    },
    "hidden": true
   },
   "outputs": [],
   "source": [
    "# run this yourself\n",
    "def factorial(number):\n",
    "    if number==0:\n",
    "        return 1\n",
    "    else:\n",
    "        return number*factorial(number-1)\n",
    "\n",
    "factorial(5)"
   ]
  },
  {
   "cell_type": "markdown",
   "metadata": {
    "deletable": false,
    "editable": false,
    "hidden": true,
    "run_control": {
     "frozen": true
    }
   },
   "source": [
    "Here our base case is based upon the fact that zero factorial equals 1. For other numbers, we know that the factorial of a given number is equal to the number times the factorial of itself minus one. For instance, 5! = 5 * 4!. This can easily be solved recursively, as we already did. What is different in this example, is that we are using the result from each of our function calls. When we call the function with the number 3, the following will happen:\n",
    "\n",
    "> We are trying to evaluate 3!, but since we need 2!, we call the function again.  \n",
    "We are trying to evaluate 2!, but since we need 1!, we call the function again.  \n",
    "We are trying to evaluate 1!, but since we need 0!, we call the function again.  \n",
    "We are trying to evaluate 0!, we know this is 1.  \n",
    "We are using the result from above, finding out 1! is 1.  \n",
    "We are using the result from above, finding out 2! is 2.  \n",
    "We are using the result from above, finding out 3! is 6.  \n",
    "\n",
    "\n",
    "If we keep using the digging analogy, we can see that we have two stages, one where we call the function over and over and dig ourselves down, until we finally find the bottom and climb up again. By clicking [here](http://pythontutor.com/visualize.html#code=def%20fakultet%28tall%29%3A%0A%20%20%20%20if%20tall%3D%3D0%3A%0A%20%20%20%20%20%20%20%20return%201%0A%20%20%20%20else%3A%0A%20%20%20%20%20%20%20%20return%20tall*fakultet%28tall-1%29%0A%0Afakultet%285%29&cumulative=false&curInstr=26&heapPrimitives=nevernest&mode=display&origin=opt-frontend.js&py=3&rawInputLstJSON=%5B%5D&textReferences=false) you can visualize how we calculate the factorial step by step."
   ]
  },
  {
   "cell_type": "markdown",
   "metadata": {
    "deletable": false,
    "editable": false,
    "hidden": true,
    "run_control": {
     "frozen": true
    }
   },
   "source": [
    "Let us have a look at another example, only this time we will use lists, where want to sum all the elements recursively. As mentioned in the introduction, recursion is widely used in sorting algorithms, and even if it may seem that things we do recursively always can be done iteratively, it is not always the case. Therefore recursion is important to understand, even if it is hard."
   ]
  },
  {
   "cell_type": "code",
   "execution_count": null,
   "metadata": {
    "ExecuteTime": {
     "end_time": "2019-07-05T06:55:48.783091Z",
     "start_time": "2019-07-05T06:55:48.771923Z"
    },
    "hidden": true
   },
   "outputs": [],
   "source": [
    "# run this yourself\n",
    "def list_sum(lst):\n",
    "    if(len(lst)==1):\n",
    "        return lst[0] #if the list only has one element, the sum is that one element.\n",
    "    else:\n",
    "        return lst[0]+list_sum(lst[1:]) #otherwise we take the first element and add it to the sum of the rest of the list\n",
    "    \n",
    "list_sum([1,2,3])"
   ]
  },
  {
   "cell_type": "markdown",
   "metadata": {
    "deletable": false,
    "editable": false,
    "hidden": true,
    "run_control": {
     "frozen": true
    }
   },
   "source": [
    "This might seem quite similar to the previous example, except that we are focusing on a list, but let us also now view step by step what is going on.\n",
    "\n",
    "> We want the sum of [1,2,3], we know this is 1 + the sum of [2,3], we call the function again.  \n",
    "We want the sum of [2,3], we know this is 2 + the sum of [3], we call the function again.  \n",
    "We know that the sum of [3] is 3, we return it to the function-call above.  \n",
    "The sum of [3] was 3, therefore the sum of [2,3] = 2 + 3 = 5  \n",
    "The sum of [2,3] var 5, therefore the sum of [1,2,3] = 1 + 5 = 6.   \n",
    "\n",
    "This looks a lot like what we did when we implemented the factorial, we work ourselves down, reach the bottom and go back up. Click [here](http://pythontutor.com/visualize.html#code=def%20liste_sum%28liste%29%3A%0A%20%20%20%20if%28len%28liste%29%3D%3D1%29%3A%0A%20%20%20%20%20%20%20%20return%20liste%5B0%5D%20%23dersom%20listen%20kun%20har%20et%20element%20er%20summen%20v%C3%A5r%20bare%20det%20ene%20elementet%0A%20%20%20%20else%3A%0A%20%20%20%20%20%20%20%20return%20liste%5B0%5D%2Bliste_sum%28liste%5B1%3A%5D%29%20%23ellers%20tar%20vi%20det%20f%C3%B8rste%20elementet%20og%20legger%20til%20summen%20av%20resten%20av%20lista%0A%20%20%20%20%0Aliste_sum%28%5B1,2,3%5D%29&cumulative=false&curInstr=0&heapPrimitives=nevernest&mode=display&origin=opt-frontend.js&py=3&rawInputLstJSON=%5B%5D&textReferences=false) for a visualization.\n",
    "\n",
    "Now you have had a quick introduction to how to program recursively. If you want a little different kind of introduction to the topic, you can check out [this link](https://realpython.com/python-thinking-recursively/)."
   ]
  },
  {
   "cell_type": "markdown",
   "metadata": {
    "deletable": false,
    "editable": false,
    "run_control": {
     "frozen": true
    }
   },
   "source": [
    "### a) Recursive sum"
   ]
  },
  {
   "cell_type": "markdown",
   "metadata": {
    "deletable": false,
    "editable": false,
    "run_control": {
     "frozen": true
    }
   },
   "source": [
    "Write a function `recursive_sum(n)` which takes in an integer n and evaluates the sum of 1 + 2 + ... + n using recursion.\n",
    "\n",
    "**Example run:**\n",
    "```python\n",
    ">>>print(recursive_sum(53))\n",
    "1431\n",
    "```"
   ]
  },
  {
   "cell_type": "code",
   "execution_count": 4,
   "metadata": {},
   "outputs": [
    {
     "name": "stdout",
     "output_type": "stream",
     "text": [
      "calling function for n = 52\n",
      "calling function for n = 51\n",
      "calling function for n = 50\n",
      "calling function for n = 49\n",
      "calling function for n = 48\n",
      "calling function for n = 47\n",
      "calling function for n = 46\n",
      "calling function for n = 45\n",
      "calling function for n = 44\n",
      "calling function for n = 43\n",
      "calling function for n = 42\n",
      "calling function for n = 41\n",
      "calling function for n = 40\n",
      "calling function for n = 39\n",
      "calling function for n = 38\n",
      "calling function for n = 37\n",
      "calling function for n = 36\n",
      "calling function for n = 35\n",
      "calling function for n = 34\n",
      "calling function for n = 33\n",
      "calling function for n = 32\n",
      "calling function for n = 31\n",
      "calling function for n = 30\n",
      "calling function for n = 29\n",
      "calling function for n = 28\n",
      "calling function for n = 27\n",
      "calling function for n = 26\n",
      "calling function for n = 25\n",
      "calling function for n = 24\n",
      "calling function for n = 23\n",
      "calling function for n = 22\n",
      "calling function for n = 21\n",
      "calling function for n = 20\n",
      "calling function for n = 19\n",
      "calling function for n = 18\n",
      "calling function for n = 17\n",
      "calling function for n = 16\n",
      "calling function for n = 15\n",
      "calling function for n = 14\n",
      "calling function for n = 13\n",
      "calling function for n = 12\n",
      "calling function for n = 11\n",
      "calling function for n = 10\n",
      "calling function for n = 9\n",
      "calling function for n = 8\n",
      "calling function for n = 7\n",
      "calling function for n = 6\n",
      "calling function for n = 5\n",
      "calling function for n = 4\n",
      "calling function for n = 3\n",
      "calling function for n = 2\n",
      "calling function for n = 1\n",
      "1431\n"
     ]
    }
   ],
   "source": [
    "def recursive_sum(n):\n",
    "    total_sum = 0 \n",
    "    total_sum = total_sum + n\n",
    "    n = n - 1\n",
    "    if n == 0:\n",
    "        return total_sum\n",
    "    else:\n",
    "        print(\"calling function for n =\", n)\n",
    "        return recursive_sum(n) + total_sum \n",
    "\n",
    "print(recursive_sum(53))\n"
   ]
  },
  {
   "cell_type": "markdown",
   "metadata": {
    "deletable": false,
    "editable": false,
    "run_control": {
     "frozen": true
    }
   },
   "source": [
    "### b) Merge sum"
   ]
  },
  {
   "cell_type": "markdown",
   "metadata": {
    "deletable": false,
    "editable": false,
    "run_control": {
     "frozen": true
    }
   },
   "source": [
    "Write a function `merge_sum(liste)` that sums all the elements in a list, except in a slightly different way than the tutorial.\n",
    "* Assume there is an even number of elements in the list.\n",
    "* When you are summing the elements, this will be done by dividing the list in two, and adding the sums each half."
   ]
  },
  {
   "cell_type": "code",
   "execution_count": 10,
   "metadata": {},
   "outputs": [
    {
     "name": "stdout",
     "output_type": "stream",
     "text": [
      "1431\n"
     ]
    }
   ],
   "source": [
    "def merge_sum(lst):\n",
    "    if len(lst) == 1:\n",
    "        return lst[0]\n",
    "    \n",
    "    middle_of_list = len(lst) // 2\n",
    "    left_half = lst[:middle_of_list]\n",
    "    right_half = lst[middle_of_list:]\n",
    "   \n",
    "    left_sum = merge_sum(left_half)\n",
    "    right_sum = merge_sum(right_half)\n",
    "    \n",
    "    return left_sum + right_sum\n",
    "\n",
    "my_list = []\n",
    "for i in range(54):\n",
    "    my_list.append(i)\n",
    "print(merge_sum(my_list)) #1431 is the same answer as the a) question confirming that the algorithm works\n"
   ]
  },
  {
   "cell_type": "markdown",
   "metadata": {
    "deletable": false,
    "editable": false,
    "run_control": {
     "frozen": true
    }
   },
   "source": [
    "### c) Smallest element"
   ]
  },
  {
   "cell_type": "markdown",
   "metadata": {
    "deletable": false,
    "editable": false,
    "run_control": {
     "frozen": true
    }
   },
   "source": [
    "Write a recursive function `find_smallest_element(numbers)` which takes in a list numbers containing integers and find the smallest element in the list. *Note: You may not use the built-in functions in Python such as min(list), to solve this task.*\n"
   ]
  },
  {
   "cell_type": "code",
   "execution_count": 14,
   "metadata": {},
   "outputs": [
    {
     "name": "stdout",
     "output_type": "stream",
     "text": [
      "2\n"
     ]
    }
   ],
   "source": [
    "\n",
    "def find_smallest_element(example_list):\n",
    "    if len(example_list) == 1:\n",
    "        return example_list[0]\n",
    "    else: \n",
    "        smallest = find_smallest_element(example_list[1:])\n",
    "        if example_list[0] < smallest:\n",
    "            return example_list[0]\n",
    "        else:\n",
    "            return smallest\n",
    "print(find_smallest_element([5,3,2,6]))"
   ]
  },
  {
   "cell_type": "markdown",
   "metadata": {
    "deletable": false,
    "editable": false,
    "run_control": {
     "frozen": true
    }
   },
   "source": [
    "### d) Binary search"
   ]
  },
  {
   "cell_type": "markdown",
   "metadata": {
    "deletable": false,
    "editable": false,
    "run_control": {
     "frozen": true
    }
   },
   "source": [
    "Write a recursive function `binary_search(numbers, element)` which takes in a sorted list **numbers** with integers and an integer **element** and returns the position (index) of the element if it exists in the list. If the number does not exist, the function should return negative infinity ( `-float('inf')` ). You are going to do this with the help of [the binary search algorithm](https://en.wikipedia.org/wiki/Binary_search_algorithm). \n",
    "\n",
    "You may also implement the function `binary_search(numbers, element, minimum, maximum)`, i.e. the same function, with the same functionaly, in addition to the parameters **minimum** and **maxmimum**, which is used to indicate the indeces (the interval) we are searching over.\n",
    "\n",
    "**Note**: You may not use the built-in functions in Python such as list.index(element), to solve this task.\n",
    "\n",
    "**BONUS**: If the list numbers contain n elements, how many function calls would the binary search algorithm require for the worst case in order to find the position of the element in the list? (or that the element is not in the list)."
   ]
  },
  {
   "cell_type": "code",
   "execution_count": 18,
   "metadata": {},
   "outputs": [
    {
     "name": "stdout",
     "output_type": "stream",
     "text": [
      "5\n",
      "-inf\n"
     ]
    }
   ],
   "source": [
    "def binary_search(numbers, element, minimum=0, maximum=None):\n",
    "    if maximum is None:\n",
    "        maximum = len(numbers) - 1\n",
    "    \n",
    "    if minimum > maximum: #If this fails, it means that the binary algorithm failed (aka number is not there)\n",
    "        return -float('inf') \n",
    "    \n",
    "    middle_of_list = (minimum + maximum) // 2 #Integer division, we could also assume that the list is even\n",
    "    \n",
    "    if numbers[middle_of_list] == element:\n",
    "        return middle_of_list  #Only here the algorithm can stop, and the function ACTUALLY returns\n",
    "    elif numbers[middle_of_list] < element:\n",
    "        return binary_search(numbers, element, middle_of_list + 1, maximum) #fake return, the function keeps going\n",
    "    else:\n",
    "        return binary_search(numbers, element, minimum, middle_of_list - 1)\n",
    "    \n",
    "numbers = [1,2,3,4,6,9,54,256,39835]\n",
    "element = 9\n",
    "print(binary_search(numbers, element))\n",
    "print(binary_search(numbers, 191919))\n"
   ]
  }
 ],
 "metadata": {
  "kernelspec": {
   "display_name": "Python 3",
   "language": "python",
   "name": "python3"
  },
  "language_info": {
   "codemirror_mode": {
    "name": "ipython",
    "version": 3
   },
   "file_extension": ".py",
   "mimetype": "text/x-python",
   "name": "python",
   "nbconvert_exporter": "python",
   "pygments_lexer": "ipython3",
   "version": "3.11.9"
  },
  "toc": {
   "base_numbering": 1,
   "nav_menu": {},
   "number_sections": false,
   "sideBar": true,
   "skip_h1_title": false,
   "title_cell": "Table of Contents",
   "title_sidebar": "Contents",
   "toc_cell": false,
   "toc_position": {},
   "toc_section_display": true,
   "toc_window_display": false
  }
 },
 "nbformat": 4,
 "nbformat_minor": 2
}
