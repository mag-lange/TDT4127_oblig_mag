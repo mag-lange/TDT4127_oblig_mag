{
 "cells": [
  {
   "cell_type": "markdown",
   "metadata": {
    "Collapsed": "false",
    "deletable": false,
    "editable": false,
    "run_control": {
     "frozen": true
    }
   },
   "source": [
    "# Second Degree Equations"
   ]
  },
  {
   "cell_type": "markdown",
   "metadata": {
    "Collapsed": "false",
    "deletable": false,
    "editable": false,
    "run_control": {
     "frozen": true
    }
   },
   "source": [
    "## a) Find the correct type of solution"
   ]
  },
  {
   "cell_type": "code",
   "execution_count": 5,
   "metadata": {},
   "outputs": [
    {
     "name": "stdout",
     "output_type": "stream",
     "text": [
      "There is one real double root\n"
     ]
    }
   ],
   "source": [
    "#task a\n",
    "a = float(input(\"Give me a value a for a*x^2: \"))\n",
    "b = float(input(\"Give me a value b for b*x: \"))\n",
    "c = float(input(\"Give me a value c:\"))\n",
    "d = b**2 - 4 * a * c\n",
    "if d < 0:\n",
    "    print(\"There are two imaginary roots\")\n",
    "elif d > 0:\n",
    "    print(\"There are two real roots\")\n",
    "elif d == 0:\n",
    "    print(\"There is one real double root\")\n",
    "else:\n",
    "    print(\"Something went very wrong, contact customer support\")"
   ]
  },
  {
   "cell_type": "markdown",
   "metadata": {
    "Collapsed": "false"
   },
   "source": [
    "## b) Real solutions"
   ]
  },
  {
   "cell_type": "code",
   "execution_count": 7,
   "metadata": {},
   "outputs": [
    {
     "name": "stdout",
     "output_type": "stream",
     "text": [
      "The generated equation is 2.0 * x^2 + 4.0 * x + 2.0\n",
      "There is one real double root\n",
      "The roots is -1.0\n"
     ]
    }
   ],
   "source": [
    "#Starting code copied from a) \n",
    "from math import sqrt\n",
    "a = float(input(\"Give me a value a for a*x^2: \"))\n",
    "b = float(input(\"Give me a value b for b*x: \"))\n",
    "c = float(input(\"Give me a value c:\"))\n",
    "d = b**2 - 4 * a * c\n",
    "f = f\"{a} * x^2 + {b} * x + {c}\"\n",
    "print(f\"The generated equation is {f}\")\n",
    "\n",
    "if d < 0:\n",
    "    print(\"There are two imaginary roots\")\n",
    "elif d > 0:\n",
    "    print(\"There are two real roots, calculating them... \")\n",
    "    x1 = ( (- b + sqrt(d) ) / ( 2 * a))\n",
    "    x2 = ( (- b - sqrt(d) ) / ( 2 * a))\n",
    "    print(f\"The roots are {x1} and {x2}\")\n",
    "elif d == 0:\n",
    "    print(\"There is one real double root\")\n",
    "    x1 = ( (- b + sqrt(d) ) / ( 2 * a))\n",
    "    print(f\"The roots is {x1}\")\n",
    "else:\n",
    "    print(\"Something went very wrong, contact customer support\")\n",
    "    exit()\n",
    "\n"
   ]
  }
 ],
 "metadata": {
  "kernelspec": {
   "display_name": "Python 3",
   "language": "python",
   "name": "python3"
  },
  "language_info": {
   "codemirror_mode": {
    "name": "ipython",
    "version": 3
   },
   "file_extension": ".py",
   "mimetype": "text/x-python",
   "name": "python",
   "nbconvert_exporter": "python",
   "pygments_lexer": "ipython3",
   "version": "3.11.8"
  },
  "toc": {
   "base_numbering": 1,
   "nav_menu": {},
   "number_sections": false,
   "sideBar": true,
   "skip_h1_title": false,
   "title_cell": "Table of Contents",
   "title_sidebar": "Contents",
   "toc_cell": false,
   "toc_position": {},
   "toc_section_display": true,
   "toc_window_display": false
  }
 },
 "nbformat": 4,
 "nbformat_minor": 4
}
