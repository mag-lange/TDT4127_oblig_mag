{
 "cells": [
  {
   "cell_type": "markdown",
   "metadata": {
    "deletable": false,
    "editable": false,
    "run_control": {
     "frozen": true
    }
   },
   "source": [
    "# Logic operators and logic expressions"
   ]
  },
  {
   "cell_type": "markdown",
   "metadata": {
    "deletable": false,
    "editable": false,
    "run_control": {
     "frozen": true
    }
   },
   "source": [
    "## a)"
   ]
  },
  {
   "cell_type": "markdown",
   "metadata": {
    "deletable": false,
    "editable": false,
    "run_control": {
     "frozen": true
    }
   },
   "source": [
    "Which of the following expressions will evaluate to True if `x=3`, `y=8` and `z=-3`?\n",
    "\n",
    "Expression 1: `-5 < z and 5 > z`  \n",
    "Expression 2: `not y == 8`  \n",
    "Expression 3: `x == 8 or y == 8`  \n",
    "Expression 4: `not (x <= 3 or y >= 9)`  \n",
    "Expression 5: `not (x**2 != 8 and y-z == 5) or x+y == y-z`  \n"
   ]
  },
  {
   "cell_type": "markdown",
   "metadata": {
    "hide_input": false
   },
   "source": [
    "**Answer: Expression 1, Expression 3, Expression 5 (due to the second condition)**"
   ]
  },
  {
   "cell_type": "markdown",
   "metadata": {
    "deletable": false,
    "editable": false,
    "run_control": {
     "frozen": true
    }
   },
   "source": [
    "## b)"
   ]
  },
  {
   "cell_type": "code",
   "execution_count": 3,
   "metadata": {},
   "outputs": [
    {
     "name": "stdout",
     "output_type": "stream",
     "text": [
      "Input a and b, both integers in the interval <40,50> or <70,90> :\n",
      "Both numbers are in the valid intervals. ^u^\n"
     ]
    }
   ],
   "source": [
    "#The zen of python was not respected in the given task >:(\n",
    "#added some paranthesis and gave the numbers some space to breathe\n",
    "print(\"Input a and b, both integers in the interval <40,50> or <70,90> :\")\n",
    "a = int(input(\"Value of a: \"))\n",
    "b = int(input(\"Value of b: \"))\n",
    "  \n",
    "if ((a > 70 and a < 90) or ( a > 40 and not a >= 50 )) and ( (70 < b < 90 or ( b > 40 and b < 50 ))):\n",
    "    print(\"Both numbers are in the valid intervals. ^u^\")\n",
    "else:\n",
    "    print(\"At least one of the numbers is not within the valid intervals :(\")"
   ]
  },
  {
   "cell_type": "markdown",
   "metadata": {
    "deletable": false,
    "editable": false,
    "run_control": {
     "frozen": true
    }
   },
   "source": [
    "## c)"
   ]
  },
  {
   "cell_type": "markdown",
   "metadata": {
    "deletable": false,
    "editable": false,
    "run_control": {
     "frozen": true
    }
   },
   "source": [
    "In this assignment you are going to complete the code below so that it works correctly. The program has made 10 pancakes, which is more than it is able to eat, and it wants to share some of them with you. However, if you are greedy and ask for more than 10, you will be told that it is not possible. If you on the other hand want to give pancakes (write a negativ number), you will also be told it is not possible. ***Change the code below***"
   ]
  },
  {
   "cell_type": "code",
   "execution_count": 6,
   "metadata": {},
   "outputs": [
    {
     "name": "stdout",
     "output_type": "stream",
     "text": [
      "Hello there! I have 10 pancakes I want to share with you ^u^\n",
      "I guess that is possible, but then I will have no pancakes:(\n"
     ]
    }
   ],
   "source": [
    "print(\"Hello there! I have 10 pancakes I want to share with you ^u^\")\n",
    "p = int(input(\"How many pancakes do you want? \"))\n",
    "  \n",
    "if p > 10:             #Code no longer missing here:)\n",
    "    print(\"Sorry, that is not possible\")\n",
    "elif p == 10: \n",
    "    print (\"I guess that is possible, but then I will have no pancakes:(\")\n",
    "else:\n",
    "    r = 10-p\n",
    "    print(\"Then you will have \",p,\" and I will have \",r,\" :D\")"
   ]
  },
  {
   "cell_type": "markdown",
   "metadata": {
    "deletable": false,
    "editable": false,
    "run_control": {
     "frozen": true
    }
   },
   "source": [
    "## d)"
   ]
  },
  {
   "cell_type": "markdown",
   "metadata": {
    "deletable": false,
    "editable": false,
    "run_control": {
     "frozen": true
    }
   },
   "source": [
    "In this sub task, the pancake program will be extended. The program should now also ask if the person likes pancakes and store it in a variable, as shown in the code below:\n",
    "\n",
    "```python\n",
    "print(\"Hello there! I have 10 pancakes I want to share with you ^u^\")\n",
    "p = int(input(\"How many pancakes do you want? \"))\n",
    "s = input(\"Do you like pancakes? (Y/N) \")  \n",
    "\n",
    "if s == 'Y':\n",
    "    like_pancakes = True\n",
    "else:\n",
    "    like_pancakes = False\n",
    "```\n",
    "\n",
    "The pancake program loves pancakes and doesn't quite understand that some don't. Therefore, if `like_pancakes`is `False`, it should also reply \"...not possible\" even if the user asks for a valid amount of pancakes (in the interval <0,10>).\n",
    "\n",
    "You job is to collect all these conditions in a logic expression and write this logic expression in the code below (where there is ...), so that the program works correctly. ***Change the code below***"
   ]
  },
  {
   "cell_type": "code",
   "execution_count": 8,
   "metadata": {},
   "outputs": [
    {
     "name": "stdout",
     "output_type": "stream",
     "text": [
      "Hello there! I have 10 pancakes I want to share with you ^u^\n",
      "Sorry, but that is not possible\n"
     ]
    }
   ],
   "source": [
    "print(\"Hello there! I have 10 pancakes I want to share with you ^u^\")\n",
    "p = int(input(\"How many pancakes do you want? \"))\n",
    "s = input(\"Do you like pancakes? (Y/N) \")\n",
    " \n",
    "if s == 'Y':\n",
    "    like_pancakes = True\n",
    "else:\n",
    "    like_pancakes = False\n",
    "  \n",
    "if p > 10 or like_pancakes == False:            \n",
    "    print(\"Sorry, but that is not possible\")\n",
    "else:\n",
    "    r = 10-p\n",
    "    print(\"Then you will have \",p,\" and I will have \",r,\" :D\")"
   ]
  }
 ],
 "metadata": {
  "kernelspec": {
   "display_name": "Python 3",
   "language": "python",
   "name": "python3"
  },
  "language_info": {
   "codemirror_mode": {
    "name": "ipython",
    "version": 3
   },
   "file_extension": ".py",
   "mimetype": "text/x-python",
   "name": "python",
   "nbconvert_exporter": "python",
   "pygments_lexer": "ipython3",
   "version": "3.11.8"
  },
  "toc": {
   "base_numbering": 1,
   "nav_menu": {},
   "number_sections": false,
   "sideBar": true,
   "skip_h1_title": false,
   "title_cell": "Table of Contents",
   "title_sidebar": "Contents",
   "toc_cell": false,
   "toc_position": {},
   "toc_section_display": true,
   "toc_window_display": false
  }
 },
 "nbformat": 4,
 "nbformat_minor": 2
}
