{
 "cells": [
  {
   "cell_type": "markdown",
   "metadata": {
    "deletable": false,
    "editable": false,
    "run_control": {
     "frozen": true
    }
   },
   "source": [
    "# Comparison of strings\n",
    "\n",
    "**Learning goals:**\n",
    "- Conditions\n",
    "- Understanding code\n",
    "\n",
    "**Starting Out with Python:**\n",
    "- Chapt. 3.2-3.3\n"
   ]
  },
  {
   "cell_type": "markdown",
   "metadata": {
    "deletable": false,
    "editable": false,
    "run_control": {
     "frozen": true
    }
   },
   "source": [
    "## a)"
   ]
  },
  {
   "cell_type": "code",
   "execution_count": 3,
   "metadata": {},
   "outputs": [
    {
     "name": "stdout",
     "output_type": "stream",
     "text": [
      "They are the same food!\n"
     ]
    }
   ],
   "source": [
    "food1 = input(\"Enter the first food for comparison: \")\n",
    "food2 = input(\"Enter the second foor for comparison: \")\n",
    "food1 = food1.lower()\n",
    "food2 = food2.lower()\n",
    "\n",
    "if food1 == food2:\n",
    "    print(\"They are the same food!\")\n",
    "else:\n",
    "    print(\"They are not the same food\")"
   ]
  },
  {
   "cell_type": "markdown",
   "metadata": {
    "deletable": false,
    "editable": false,
    "run_control": {
     "frozen": true
    }
   },
   "source": [
    "## b)"
   ]
  },
  {
   "cell_type": "markdown",
   "metadata": {
    "deletable": false,
    "editable": false,
    "run_control": {
     "frozen": true
    }
   },
   "source": [
    "In this task you are going to create a program which takes in two names and sorts them in alphabetical order. You do not need to take lower or upper case letters into consideration in this task.\n",
    "\n",
    "___Input your code here:___"
   ]
  },
  {
   "cell_type": "code",
   "execution_count": 3,
   "metadata": {},
   "outputs": [
    {
     "name": "stdout",
     "output_type": "stream",
     "text": [
      "The names in alphabetical order: mag, nag\n"
     ]
    }
   ],
   "source": [
    "first_name = input(\"Enter the first name: \")\n",
    "second_name = input(\"Enter the second name: \")\n",
    "\n",
    "names = [first_name, second_name] \n",
    "names.sort()  # Sorting the list, not sure why the hint wants me to do it so complicated\n",
    "\n",
    "sorted_names = ', '.join(names) #Presenting it nicely:)\n",
    "\n",
    "print(\"The names in alphabetical order: \" + sorted_names)\n",
    "\n",
    "\n",
    "\n",
    "                  \n"
   ]
  },
  {
   "cell_type": "markdown",
   "metadata": {
    "deletable": false,
    "editable": false,
    "run_control": {
     "frozen": true
    }
   },
   "source": [
    "## c)"
   ]
  },
  {
   "cell_type": "markdown",
   "metadata": {
    "deletable": false,
    "editable": false,
    "run_control": {
     "frozen": true
    }
   },
   "source": [
    "What is the output of the following code snippets.\n",
    "\n",
    "```python\n",
    "#Snippet 1:\n",
    "if 'k' < 'b':\n",
    "    print('k is less than b')\n",
    "else:\n",
    "    print('k is greater than b')\n",
    "  \n",
    "  \n",
    "#Snippet 2:\n",
    "ny = \"New York\"\n",
    "la = \"Los Angeles\"\n",
    "  \n",
    "if ny < la:\n",
    "    print(ny)\n",
    "    print(la)\n",
    "else:\n",
    "    print(la)\n",
    "    print(ny)\n",
    "  \n",
    "  \n",
    "#Snippet 3:\n",
    "d1 = \"GRapEs\"\n",
    "d2 = \"grApes\"\n",
    "if d1.lower() < d2.lower():\n",
    "    print(d1)\n",
    "    print(d2)\n",
    "else:\n",
    "    print(d2.lower())\n",
    "```\n",
    "\n",
    "**Answer to snippet 1 (Double click on the text below):**"
   ]
  },
  {
   "cell_type": "markdown",
   "metadata": {},
   "source": [
    "Answer 1: \"k is greater than b\" (k is further down the alphabet and therefore has a greater value)"
   ]
  },
  {
   "cell_type": "markdown",
   "metadata": {},
   "source": [
    "Answer 2: \n",
    "\"Los Angeles\n",
    "New York\"\n",
    "Explanation: L has a greater value than N. "
   ]
  },
  {
   "cell_type": "markdown",
   "metadata": {},
   "source": [
    "Answer 3: \"grapes\" explanation: d1.lower() == d2.lower and the < operator is exclusive"
   ]
  }
 ],
 "metadata": {
  "kernelspec": {
   "display_name": "Python 3",
   "language": "python",
   "name": "python3"
  },
  "language_info": {
   "codemirror_mode": {
    "name": "ipython",
    "version": 3
   },
   "file_extension": ".py",
   "mimetype": "text/x-python",
   "name": "python",
   "nbconvert_exporter": "python",
   "pygments_lexer": "ipython3",
   "version": "3.11.8"
  },
  "toc": {
   "base_numbering": 1,
   "nav_menu": {},
   "number_sections": false,
   "sideBar": true,
   "skip_h1_title": false,
   "title_cell": "Table of Contents",
   "title_sidebar": "Contents",
   "toc_cell": false,
   "toc_position": {},
   "toc_section_display": true,
   "toc_window_display": false
  }
 },
 "nbformat": 4,
 "nbformat_minor": 2
}
