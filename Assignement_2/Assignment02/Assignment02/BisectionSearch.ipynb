{
 "cells": [
  {
   "cell_type": "markdown",
   "metadata": {
    "deletable": false,
    "editable": false,
    "run_control": {
     "frozen": true
    }
   },
   "source": [
    "# Bisection search"
   ]
  },
  {
   "cell_type": "markdown",
   "metadata": {
    "deletable": false,
    "editable": false,
    "heading_collapsed": true,
    "run_control": {
     "frozen": true
    }
   },
   "source": [
    "### Bisection search theory"
   ]
  },
  {
   "cell_type": "markdown",
   "metadata": {
    "hidden": true
   },
   "source": [
    "\n",
    "Bisection search is a basic algorithm for finding zeroes of [continuous functions](https://en.wikipedia.org/wiki/Continuous_function). Given a function f we first look for an interval $[a,b]$ such that either $f(a) < 0 \\textrm{ and } f(b) > 0,$ or $f(a) > 0 \\textrm{ and } f(b) < 0.$\n",
    "\n",
    "Then, since $f$ is continuous, there must be a solution point $x$ in $[a,b]$ such that $f(x)=0.$\n",
    "To make the interval tighter around $x$, we check the value at the midpoint $c = \\frac{a + b}{2}.$\n",
    "\n",
    "For simplicity, let us assume that $f(a)<0,$ and $f(b)>0.$ If the opposite is true, we can just switch the roles of $a$ and $b$ in the following.\n",
    "\n",
    "If $f(c)<0$ then we can exchange $a$ for $c$ and start over with the smaller interval $[c,b]$. Likewise, if $f(c)>0$ then we can exchange $b$ for $c$ and start over with $[a,c]$.\n",
    "\n",
    "In both cases, we end up with an interval of length $\\frac{b-a}{2},$ half of the original search interval. Crucially, $f$ has values of opposite signs at the endpoints of this interval, so the interval still contains an $x$ such that $f(x)=0.$  \n",
    "\n",
    "\n",
    "\n",
    "We can summarize the algorithm in the following pseudocode:\n",
    "\n",
    "- 1:   Pick a starting interval $[a, b]$\n",
    "- 2:   If $f(a)$ and $f(b)$ have the same sign, stop the program and report an error with the starting interval.\n",
    "- 3:   Compute the midpoint $c = \\frac{a+b}{2} \\, \\mathrm{and} \\, f(c).$\n",
    "- 4:   Replace either $a$ or $b$ with $c$ according to the rules above.\n",
    "- 5:   If the interval is small enough, stop. Otherwise, start over from step 3 with the smaller interval.\n",
    " \n",
    "In this exercise, you will use `if-elif-else` statements to answer input from the user. Consider the use of bisection search to find a zero of the function  $f(x)=(x−1)(x−3)$ with starting interval $[-1,2]$.\n",
    "\n"
   ]
  },
  {
   "cell_type": "markdown",
   "metadata": {
    "deletable": false,
    "editable": false,
    "run_control": {
     "frozen": true
    }
   },
   "source": [
    "### Task a) "
   ]
  },
  {
   "cell_type": "code",
   "execution_count": 1,
   "metadata": {},
   "outputs": [
    {
     "name": "stdout",
     "output_type": "stream",
     "text": [
      "Great! Correct answer\n"
     ]
    }
   ],
   "source": [
    "answer_correct = 1 #Not necessary, but ads readability\n",
    "answer = int(input(\"Which number does the method converge to? \"))\n",
    "if answer == answer_correct:\n",
    "    print(\"Great! Correct answer\")\n",
    "else:\n",
    "    print(\"Wrong.\")\n",
    "\n",
    "\n"
   ]
  },
  {
   "cell_type": "markdown",
   "metadata": {
    "deletable": false,
    "editable": false,
    "run_control": {
     "frozen": true
    }
   },
   "source": [
    "### Task b)"
   ]
  },
  {
   "cell_type": "code",
   "execution_count": 7,
   "metadata": {},
   "outputs": [
    {
     "name": "stdout",
     "output_type": "stream",
     "text": [
      "There is one zero between 1.0 and 2.0\n"
     ]
    }
   ],
   "source": [
    "roots = [1,3] #Just a reminder\n",
    "lower = float(input(\"Lower limit of interval: \"))\n",
    "upper = float(input(\"Upper limit of interval: \"))\n",
    "\n",
    "if lower <= 1 <= upper:\n",
    "    if lower<= 3 <= upper:\n",
    "        print(f\"there are two zeros between {lower} and {upper}\")\n",
    "    else: \n",
    "        print(f\"There is one zero between {lower} and {upper}\")\n",
    "else: \n",
    "    print(\"There are no zeros n your given interval\")\n",
    "\n",
    "\n",
    "\n"
   ]
  },
  {
   "cell_type": "markdown",
   "metadata": {
    "deletable": false,
    "editable": false,
    "run_control": {
     "frozen": true
    }
   },
   "source": [
    "### Task c)"
   ]
  },
  {
   "cell_type": "markdown",
   "metadata": {
    "deletable": false,
    "editable": false,
    "run_control": {
     "frozen": true
    }
   },
   "source": [
    "We will now work toward making an implementation of bisection search.\n",
    "Make a program that asks the user for a lower and upper limit for the starting interval. Make a variable $\\mathtt{f1} = (x_{\\mathrm{low}}-1)(x_{\\mathrm{low}}-3)$ and a variable $\\mathtt{f2} = (x_{\\mathrm{high}}-1)(x_{\\mathrm{high}}-3)$  where $x_{low}$ is the lower limit and $x_{high}$ the upper limit.\n",
    "\n",
    "If `f1*f2 < 0`, the interval is a valid starting interval. If this is the case, do **one** iteration of bisection search (i.e. points 3 and 4 of the pseudoalgorithm) and print the new interval. Otherwise, print `Invalid starting interval`. "
   ]
  },
  {
   "cell_type": "code",
   "execution_count": 17,
   "metadata": {},
   "outputs": [
    {
     "name": "stdout",
     "output_type": "stream",
     "text": [
      "There is a zero between: [2.0, 3.5]\n"
     ]
    }
   ],
   "source": [
    "lower = float(input(\"Lower limit of interval: \"))\n",
    "upper = float(input(\"Upper limit of interval: \"))\n",
    "\n",
    "f1 = (lower - 1) * (lower - 3)\n",
    "f2 = (upper - 1) * (upper - 3)\n",
    "\n",
    "if f1 * f2 < 0:  # Checking if there is a root in the interval\n",
    "    midpoint = (upper + lower) / 2\n",
    "    f3 = (midpoint - 1) * (midpoint - 3)\n",
    "\n",
    "    if f3 < 0 and f1 < 0 or f3 > 0 and f1 > 0: #I use this to check which midpoint to use\n",
    "        lower = midpoint\n",
    "    else:\n",
    "        upper = midpoint\n",
    "\n",
    "    print(f\"There is a zero between: [{lower}, {upper}]\")\n",
    "else:\n",
    "    print(\"Invalid starting interval\")\n",
    "\n",
    "\n",
    "\n",
    "\n",
    "\n"
   ]
  },
  {
   "cell_type": "markdown",
   "metadata": {},
   "source": [
    "### Task d)"
   ]
  },
  {
   "cell_type": "code",
   "execution_count": 18,
   "metadata": {},
   "outputs": [
    {
     "name": "stdout",
     "output_type": "stream",
     "text": [
      "There is a zero between: [0.0, 2.0]\n"
     ]
    }
   ],
   "source": [
    "#Starting code copyied from c)\n",
    "lower = float(input(\"Lower limit of interval: \"))\n",
    "upper = float(input(\"Upper limit of interval: \"))\n",
    "\n",
    "f1 = ( lower**2 - 2 )\n",
    "f2 = ( upper**2 - 2 )\n",
    "\n",
    "if f1 * f2 < 0:  # Checking if there is a root in the interval\n",
    "    midpoint = (upper + lower) / 2\n",
    "    f3 = ( midpoint**2 - 2 )\n",
    "\n",
    "    if f3 < 0 and f1 < 0 or f3 > 0 and f1 > 0: #I use this to check which midpoint to use\n",
    "        lower = midpoint\n",
    "    else:\n",
    "        upper = midpoint\n",
    "\n",
    "    print(f\"There is a zero between: [{lower}, {upper}]\")\n",
    "else:\n",
    "    print(\"Invalid starting interval\")\n",
    "\n",
    "#To complete this code, I would put this in a for-loop where the resulting interval becomes\n",
    "#the new interval, until the required accuracy is reached."
   ]
  }
 ],
 "metadata": {
  "kernelspec": {
   "display_name": "Python 3",
   "language": "python",
   "name": "python3"
  },
  "language_info": {
   "codemirror_mode": {
    "name": "ipython",
    "version": 3
   },
   "file_extension": ".py",
   "mimetype": "text/x-python",
   "name": "python",
   "nbconvert_exporter": "python",
   "pygments_lexer": "ipython3",
   "version": "3.11.8"
  }
 },
 "nbformat": 4,
 "nbformat_minor": 2
}
