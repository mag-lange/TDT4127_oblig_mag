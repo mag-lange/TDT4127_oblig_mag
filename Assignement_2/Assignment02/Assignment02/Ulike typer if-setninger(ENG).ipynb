{
 "cells": [
  {
   "cell_type": "markdown",
   "metadata": {
    "deletable": false,
    "editable": false,
    "run_control": {
     "frozen": true
    }
   },
   "source": [
    "# Different types of if statements\n",
    "\n",
    "**Learning goals:**\n",
    "\n",
    "- Conditions\n",
    "\n",
    "**Starting Out with Python:**\n",
    "\n",
    "- Chapt. 3.1- 3.2\n",
    "- Chapt. 3.4"
   ]
  },
  {
   "cell_type": "markdown",
   "metadata": {
    "deletable": false,
    "editable": false,
    "run_control": {
     "frozen": true
    }
   },
   "source": [
    "## a)"
   ]
  },
  {
   "cell_type": "markdown",
   "metadata": {
    "deletable": false,
    "editable": false,
    "run_control": {
     "frozen": true
    }
   },
   "source": [
    "You make a banana cake which has to cook in the oven for at least 50 minutes. As a start use the following program, which has a weakness; it says the cake is ready no matter how long it has been in the oven.\n",
    "\n",
    "___Modify the program so that  \"The cake is ready\" is only printed if the cake has been in the oven for at least 50 minutes. \"Greater than or equal to\" is written in Python as >=___  \n",
    "___However, recommended condements should always be printed.___"
   ]
  },
  {
   "cell_type": "code",
   "execution_count": 2,
   "metadata": {
    "ExecuteTime": {
     "end_time": "2019-07-01T15:44:45.569935Z",
     "start_time": "2019-07-01T15:44:42.453083Z"
    }
   },
   "outputs": [
    {
     "name": "stdout",
     "output_type": "stream",
     "text": [
      "The cake is ready.\n",
      "Recommended condement: vanilla ice cream.\n"
     ]
    }
   ],
   "source": [
    "time = int(input(\"How many minutes has the cake been in the oven? \"))\n",
    "if time >= 50:\n",
    "    print(\"The cake is ready.\")\n",
    "print(\"Recommended condement: vanilla ice cream.\")"
   ]
  },
  {
   "cell_type": "markdown",
   "metadata": {
    "deletable": false,
    "editable": false,
    "run_control": {
     "frozen": true
    }
   },
   "source": [
    "## b)"
   ]
  },
  {
   "cell_type": "code",
   "execution_count": 15,
   "metadata": {
    "ExecuteTime": {
     "end_time": "2019-07-01T10:06:41.706832Z",
     "start_time": "2019-07-01T10:06:37.363889Z"
    }
   },
   "outputs": [
    {
     "ename": "ValueError",
     "evalue": "invalid literal for int() with base 10: 'ewef'",
     "output_type": "error",
     "traceback": [
      "\u001b[1;31m---------------------------------------------------------------------------\u001b[0m",
      "\u001b[1;31mValueError\u001b[0m                                Traceback (most recent call last)",
      "Cell \u001b[1;32mIn[15], line 3\u001b[0m\n\u001b[0;32m      1\u001b[0m \u001b[38;5;28;01mimport\u001b[39;00m \u001b[38;5;21;01msys\u001b[39;00m \u001b[38;5;66;03m#Not necessary, but I want there to be an actual error\u001b[39;00m\n\u001b[1;32m----> 3\u001b[0m apples \u001b[38;5;241m=\u001b[39m \u001b[38;5;28;43mint\u001b[39;49m\u001b[43m(\u001b[49m\u001b[38;5;28;43minput\u001b[39;49m\u001b[43m(\u001b[49m\u001b[38;5;124;43m\"\u001b[39;49m\u001b[38;5;124;43mHow many apples do you have? \u001b[39;49m\u001b[38;5;124;43m\"\u001b[39;49m\u001b[43m)\u001b[49m\u001b[43m)\u001b[49m\n\u001b[0;32m      4\u001b[0m children \u001b[38;5;241m=\u001b[39m \u001b[38;5;28mint\u001b[39m(\u001b[38;5;28minput\u001b[39m(\u001b[38;5;124m\"\u001b[39m\u001b[38;5;124mHow many children? \u001b[39m\u001b[38;5;124m\"\u001b[39m))\n\u001b[0;32m      5\u001b[0m \u001b[38;5;28;01mif\u001b[39;00m apples \u001b[38;5;129;01mor\u001b[39;00m children \u001b[38;5;241m==\u001b[39m \u001b[38;5;241m0\u001b[39m:\n",
      "\u001b[1;31mValueError\u001b[0m: invalid literal for int() with base 10: 'ewef'"
     ]
    }
   ],
   "source": [
    "import sys #Not necessary, but I want there to be an actual error\n",
    "\n",
    "apples = int(input(\"How many apples do you have? \"))\n",
    "children = int(input(\"How many children? \"))\n",
    "if apples or children == 0:\n",
    "    print(\"You cannot have 0 apples or 0 children, ZeroDivisionError\", file=sys.stderr)\n",
    "else:\n",
    "    print(\"That will be \", apples // children, \" apples for each child.\")\n",
    "    print(\"and\", apples % children, \" apples left for you.\")\n",
    "print(\"Have a good day!\") #Not indented, so it will always print\n",
    "\n",
    "#Could also add a line checking if the input was a string using isNaN"
   ]
  },
  {
   "cell_type": "markdown",
   "metadata": {
    "deletable": false,
    "editable": false,
    "run_control": {
     "frozen": true
    }
   },
   "source": [
    "## c)"
   ]
  },
  {
   "cell_type": "markdown",
   "metadata": {
    "deletable": false,
    "editable": false,
    "run_control": {
     "frozen": true
    }
   },
   "source": [
    "In this subtask, you are going to create a program that checks whether a person can vote, i.e. whether the user is 18 years old or more. To accomplish this, you have to ask the user for their age and save the response in a variable, and use this to determine whether the user's age is 18 or more.\n"
   ]
  },
  {
   "cell_type": "code",
   "execution_count": 14,
   "metadata": {},
   "outputs": [
    {
     "name": "stdout",
     "output_type": "stream",
     "text": [
      "Please provide your age as a number\n"
     ]
    }
   ],
   "source": [
    "age = input(\"Please provide me with your age: \")\n",
    "try:\n",
    "    age = int(age)\n",
    "    if age >= 18:\n",
    "        print(\"You are old enough to vote!\")\n",
    "    else:\n",
    "        print(\"You are not old enough to vote\")\n",
    "except ValueError:\n",
    "    print(\"Please provide your age as a number\")\n",
    "\n",
    "    #This code solves the problem of entering something else than a number. The program attempts int(age)\n",
    "    #But if this fails, it goes to the error section of the code"
   ]
  },
  {
   "cell_type": "markdown",
   "metadata": {
    "deletable": false,
    "editable": false,
    "run_control": {
     "frozen": true
    }
   },
   "source": [
    "## d)"
   ]
  },
  {
   "cell_type": "markdown",
   "metadata": {
    "deletable": false,
    "editable": false,
    "run_control": {
     "frozen": true
    }
   },
   "source": [
    "Create an extended version of the program from (c) that tells a person whether they can vote or not, using the following rules:\n",
    "- `age >= 18`: Can vote at the local election and the national election.\n",
    "- `age >= 16`: Can vote at the local election, but not the national election.\n",
    "- otherwise (`age < 16`): Cannot vote.\n",
    "\n",
    "Example run:\n",
    "\n",
    "```\n",
    "Input your age: 19\n",
    "You can vote at both the local election and the national election.\n",
    ">>>>\n",
    "```\n",
    "\n",
    "```\n",
    "Input your age: 17\n",
    "You can vote at the local election, but not the national election.\n",
    ">>>>\n",
    "```\n",
    "\n",
    "```\n",
    "Input your age: 12\n",
    "You cannot vote yet.\n",
    "```\n",
    "\n",
    "___Input your code here:___"
   ]
  },
  {
   "cell_type": "code",
   "execution_count": 18,
   "metadata": {},
   "outputs": [
    {
     "name": "stdout",
     "output_type": "stream",
     "text": [
      "You are old enough to vote in the local election!\n",
      "You are also allowed to vote in the national election!\n"
     ]
    }
   ],
   "source": [
    "age = input(\"Please provide me with your age: \")\n",
    "try:\n",
    "    age = int(age)\n",
    "    if age >= 16:\n",
    "        print(\"You are old enough to vote in the local election!\")\n",
    "        if age >= 18:\n",
    "            print(\"You are also allowed to vote in the national election!\")\n",
    "        else:\n",
    "            print(\"But sadly not in the national election\")\n",
    "    else:\n",
    "        print(\"You are not old enough to vote\")\n",
    "except ValueError:\n",
    "    print(\"Please provide your age as a number\")\n",
    "\n",
    "    #This code solves the problem of entering something else than a number. The program attempts int(age)\n",
    "    #But if this fails, it goes to the error section of the code"
   ]
  },
  {
   "cell_type": "markdown",
   "metadata": {
    "deletable": false,
    "editable": false,
    "run_control": {
     "frozen": true
    }
   },
   "source": [
    "## e)"
   ]
  },
  {
   "cell_type": "markdown",
   "metadata": {
    "deletable": false,
    "editable": false,
    "run_control": {
     "frozen": true
    }
   },
   "source": [
    "You are going to create a program that determines the ticket price  given the person's age.\n",
    "\n",
    "Overview of ticket prices for each age group:\n",
    "\n",
    "Age group | Ticket price\n",
    "--- | ---\n",
    "Less than 3 years | Free\n",
    "3-11 years | 30 kr\n",
    "12-25 years | 50 kr\n",
    "26-66 years | 80 kr\n",
    "67 years and above | 40 kr"
   ]
  },
  {
   "cell_type": "markdown",
   "metadata": {
    "deletable": false,
    "editable": false,
    "run_control": {
     "frozen": true
    }
   },
   "source": [
    "___Input your code here:___"
   ]
  },
  {
   "cell_type": "code",
   "execution_count": 21,
   "metadata": {},
   "outputs": [
    {
     "name": "stdout",
     "output_type": "stream",
     "text": [
      "You are 2 years old, which means that you pay 0 kr for the ticket\n"
     ]
    }
   ],
   "source": [
    "#A switch statement is better suited if we are talking about this many if-statements, not sure if that is the name in python\n",
    "age = int(input(\"Enter your age\"))\n",
    "if age < 3:\n",
    "    price = 0\n",
    "elif 3 <= age <= 11:\n",
    "    price = 30\n",
    "elif 12 <= age <= 25:\n",
    "    price = 50\n",
    "elif 26 <= age <= 66:\n",
    "    price = 80\n",
    "elif age >= 67:\n",
    "    price = 40\n",
    "else:\n",
    "    print(\"Something went really wrong, contact customer support\")\n",
    "    exit() #Stops the program from continuing\n",
    "print(f\"You are {age} years old, which means that you pay {price} kr for the ticket\")\n",
    "\n",
    "\n",
    "\n"
   ]
  }
 ],
 "metadata": {
  "kernelspec": {
   "display_name": "Python 3",
   "language": "python",
   "name": "python3"
  },
  "language_info": {
   "codemirror_mode": {
    "name": "ipython",
    "version": 3
   },
   "file_extension": ".py",
   "mimetype": "text/x-python",
   "name": "python",
   "nbconvert_exporter": "python",
   "pygments_lexer": "ipython3",
   "version": "3.11.8"
  },
  "toc": {
   "base_numbering": 1,
   "nav_menu": {},
   "number_sections": false,
   "sideBar": true,
   "skip_h1_title": false,
   "title_cell": "Table of Contents",
   "title_sidebar": "Contents",
   "toc_cell": false,
   "toc_position": {
    "height": "calc(100% - 180px)",
    "left": "10px",
    "top": "150px",
    "width": "265px"
   },
   "toc_section_display": true,
   "toc_window_display": false
  }
 },
 "nbformat": 4,
 "nbformat_minor": 2
}
