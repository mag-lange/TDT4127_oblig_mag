{
 "cells": [
  {
   "attachments": {},
   "cell_type": "markdown",
   "metadata": {},
   "source": [
    "## **Assignment 6**\n",
    "\n",
    "Task | Theme | Difficulty| Status\n",
    "--- | --- | --- | ---\n",
    "[Character Accessing in Strings(ENG)](Aksessering(ENG).ipynb) |Strings| - |Done 13.March\n",
    "[String Slicing(ENG)](Slicing(ENG).ipynb)|Strings|- | Done 13.March\n",
    "[String Managment(ENG)](Strenghandtering(ENG).ipynb)|Strings, Loops|- |Done 13.March\n",
    "[Buildt-in functions and lists(ENG)](Innebygde%20funksjoner(ENG).ipynb)|Lists|- | Done 14.March\n",
    "[Gaussian Elimination(ENG)](Gaussian_elimination.ipynb)|2D-lists, Numerical Methods,| ![img](./../Resources/Images/star_yellow.svg)| Mandatory\n",
    "[Sorting Numbers(ENG)](Sortering(ENG).ipynb)|Lists, Algorithms|![img](./../Resources/Images/star_yellow.svg)| \n",
    "[Strengmanipulasjon](Strengmanipulasjon.ipynb) , [String Manipulation(ENG)](Strengmanipulasjon(ENG).ipynb)|Strings, Lists| ![img](./../Resources/Images/star_yellow.svg)|\n",
    "[Kryptering](Kryptering.ipynb)|Lists, Security| ![img](./../Resources/Images/star_yellow.svg)|\n",
    "[Litt sjakk](Litt%20sjakk.ipynb)|2D-lists| ![img](./../Resources/Images/star_yellow.svg)![img](./../Resources/Images/star_yellow.svg)|\n"
   ]
  }
 ],
 "metadata": {
  "kernelspec": {
   "display_name": "Python 3",
   "language": "python",
   "name": "python3"
  },
  "language_info": {
   "codemirror_mode": {
    "name": "ipython",
    "version": 3
   },
   "file_extension": ".py",
   "mimetype": "text/x-python",
   "name": "python",
   "nbconvert_exporter": "python",
   "pygments_lexer": "ipython3",
   "version": "3.10.6 (main, Nov 14 2022, 16:10:14) [GCC 11.3.0]"
  },
  "toc": {
   "base_numbering": 1,
   "nav_menu": {},
   "number_sections": false,
   "sideBar": true,
   "skip_h1_title": false,
   "title_cell": "Table of Contents",
   "title_sidebar": "Contents",
   "toc_cell": false,
   "toc_position": {},
   "toc_section_display": true,
   "toc_window_display": false
  },
  "vscode": {
   "interpreter": {
    "hash": "916dbcbb3f70747c44a77c7bcd40155683ae19c65e1c03b4aa3499c5328201f1"
   }
  }
 },
 "nbformat": 4,
 "nbformat_minor": 2
}
