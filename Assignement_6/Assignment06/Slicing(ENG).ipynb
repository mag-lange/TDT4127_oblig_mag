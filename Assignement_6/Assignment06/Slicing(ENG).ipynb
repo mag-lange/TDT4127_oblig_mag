{
 "cells": [
  {
   "cell_type": "markdown",
   "metadata": {
    "deletable": false,
    "editable": false,
    "run_control": {
     "frozen": true
    }
   },
   "source": [
    "[Back to assignment 7](_Oving7.ipynb)\n",
    "\n",
    "# String Slicing"
   ]
  },
  {
   "cell_type": "markdown",
   "metadata": {
    "deletable": false,
    "editable": false,
    "run_control": {
     "frozen": true
    }
   },
   "source": [
    "### a)"
   ]
  },
  {
   "cell_type": "markdown",
   "metadata": {
    "ExecuteTime": {
     "end_time": "2019-07-03T12:34:41.521574Z",
     "start_time": "2019-07-03T12:34:41.512410Z"
    }
   },
   "source": [
    "Write a function that takes a string as argument and returns a new string containg each fourth character in the argument."
   ]
  },
  {
   "cell_type": "code",
   "execution_count": 12,
   "metadata": {},
   "outputs": [
    {
     "name": "stdout",
     "output_type": "stream",
     "text": [
      "Islh'ek\n"
     ]
    }
   ],
   "source": [
    "def each_fourth_character(string):\n",
    "    return print(string[0::4])\n",
    "\n",
    "each_fourth_character(\"I Was Told There'd Be Cake\")"
   ]
  },
  {
   "cell_type": "markdown",
   "metadata": {
    "deletable": false,
    "editable": false,
    "run_control": {
     "frozen": true
    }
   },
   "source": [
    "### b)"
   ]
  },
  {
   "cell_type": "markdown",
   "metadata": {
    "deletable": false,
    "editable": false,
    "run_control": {
     "frozen": true
    }
   },
   "source": [
    "Write a function that takes a list of strings as argument, iterates through the list and returns a string containg the two last characters of all the strings in the list. ."
   ]
  },
  {
   "cell_type": "code",
   "execution_count": 21,
   "metadata": {},
   "outputs": [
    {
     "name": "stdout",
     "output_type": "stream",
     "text": [
      "anansi\n"
     ]
    }
   ],
   "source": [
    "def two_last_char_list(list):\n",
    "    output = ''\n",
    "    for item in list:\n",
    "        output +=item[len(item) - 2::]\n",
    "    return print(output)\n",
    "\n",
    "liste = [\"banan\",\"propan\",\"Westerosi\"]\n",
    "two_last_char_list(liste)"
   ]
  },
  {
   "cell_type": "markdown",
   "metadata": {
    "deletable": false,
    "editable": false,
    "run_control": {
     "frozen": true
    }
   },
   "source": [
    "### c)"
   ]
  },
  {
   "cell_type": "markdown",
   "metadata": {
    "deletable": false,
    "editable": false,
    "run_control": {
     "frozen": true
    }
   },
   "source": [
    "Below are three snippets of code, where two of them contain one error each, and one is correct. Which one is correct? Find the error in the two others. Write Your answer in the box below the code."
   ]
  },
  {
   "cell_type": "code",
   "execution_count": 27,
   "metadata": {},
   "outputs": [
    {
     "name": "stdout",
     "output_type": "stream",
     "text": [
      "I Want Cake\n",
      "Cake\n",
      "I Want Cake\n"
     ]
    }
   ],
   "source": [
    "#Kodesnutt 1\n",
    "streng = \"I Want Cake\"\n",
    "streng[7:] = \"Cupcake\"\n",
    "print(streng)\n",
    " \n",
    "#Kodesnutt 2\n",
    "streng = \"I Want Cake\"\n",
    "streng = streng[-4:100:]\n",
    "print(streng)\n",
    " \n",
    "#Kodesnutt 3\n",
    "streng = \"I Want Cake\"\n",
    "streng = streng[] #Solution (a very simple one) streng = streng[::]\n",
    "print(streng)"
   ]
  },
  {
   "cell_type": "markdown",
   "metadata": {},
   "source": [
    "**Your answer:** <br> The last one is incorrect since it has no parameters defined. The first one is incorrect since it tries to replace a letter with a string of letters (this is not a supported data type in python.)"
   ]
  }
 ],
 "metadata": {
  "kernelspec": {
   "display_name": "Python 3",
   "language": "python",
   "name": "python3"
  },
  "language_info": {
   "codemirror_mode": {
    "name": "ipython",
    "version": 3
   },
   "file_extension": ".py",
   "mimetype": "text/x-python",
   "name": "python",
   "nbconvert_exporter": "python",
   "pygments_lexer": "ipython3",
   "version": "3.11.8"
  },
  "toc": {
   "base_numbering": 1,
   "nav_menu": {},
   "number_sections": false,
   "sideBar": true,
   "skip_h1_title": false,
   "title_cell": "Table of Contents",
   "title_sidebar": "Contents",
   "toc_cell": false,
   "toc_position": {},
   "toc_section_display": true,
   "toc_window_display": false
  }
 },
 "nbformat": 4,
 "nbformat_minor": 2
}
