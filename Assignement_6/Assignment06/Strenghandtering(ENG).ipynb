{
 "cells": [
  {
   "cell_type": "markdown",
   "metadata": {},
   "source": [
    "[Back to assignment 7](_Oving7.ipynb)\n",
    "\n",
    "# String Managment"
   ]
  },
  {
   "cell_type": "markdown",
   "metadata": {
    "deletable": false,
    "editable": false,
    "run_control": {
     "frozen": true
    }
   },
   "source": [
    "### a)"
   ]
  },
  {
   "cell_type": "markdown",
   "metadata": {},
   "source": [
    "Create a function named `check_equal(str1, str2)` that check whether two strings are equal by comparing them character for character. Return `True` if they are equal,  `False` otherwise.\n",
    "\n",
    "***Write code below***"
   ]
  },
  {
   "cell_type": "code",
   "execution_count": 8,
   "metadata": {},
   "outputs": [],
   "source": [
    "def check_equal(str1, str2):\n",
    "    if len(str1) != len(str2):\n",
    "        return False\n",
    "    for char1, char2 in zip(str1, str2):\n",
    "        if char1 != char2:\n",
    "            return False\n",
    "    return True\n"
   ]
  },
  {
   "cell_type": "markdown",
   "metadata": {},
   "source": [
    "**Test your code:**"
   ]
  },
  {
   "cell_type": "code",
   "execution_count": 9,
   "metadata": {},
   "outputs": [
    {
     "name": "stdout",
     "output_type": "stream",
     "text": [
      "False\n",
      "True\n"
     ]
    }
   ],
   "source": [
    "str1 = 'hei'\n",
    "str2 = 'hello'\n",
    "str3 = 'hello'\n",
    "print(check_equal(str1, str2)) # should be False\n",
    "print(check_equal(str3, str2)) # SHould be True\n",
    "# This should print:\n",
    "# False\n",
    "# True"
   ]
  },
  {
   "cell_type": "markdown",
   "metadata": {
    "deletable": false,
    "editable": false,
    "run_control": {
     "frozen": true
    }
   },
   "source": [
    "### b)"
   ]
  },
  {
   "cell_type": "markdown",
   "metadata": {},
   "source": [
    "Create a function named`reversed_word(string)` that takes a string as argument, reverses it and return the reversed string. This should be done character by character using a loop.\n",
    "\n",
    "***Write code below:***"
   ]
  },
  {
   "cell_type": "code",
   "execution_count": 26,
   "metadata": {},
   "outputs": [
    {
     "name": "stdout",
     "output_type": "stream",
     "text": [
      "stressed rats\n"
     ]
    }
   ],
   "source": [
    "def reversed_word(string):\n",
    "    output = ''\n",
    "    for i in range(1, len(string) + 1):\n",
    "        output += string[-i]\n",
    "    return output\n",
    "\n",
    "test_string = 'star desserts'\n",
    "print(reversed_word(test_string))\n"
   ]
  },
  {
   "cell_type": "markdown",
   "metadata": {
    "deletable": false,
    "editable": false,
    "run_control": {
     "frozen": true
    }
   },
   "source": [
    "### c)"
   ]
  },
  {
   "cell_type": "markdown",
   "metadata": {},
   "source": [
    "A palindrome is a word that is spelled the same way both ways.(e.g. “abba”). Create a function named `check_palindrome(string)` that returns `True` if a string is a palindrome; `False` otherwise.\n",
    "\n",
    "***Write code below:***"
   ]
  },
  {
   "cell_type": "code",
   "execution_count": 30,
   "metadata": {},
   "outputs": [
    {
     "name": "stdout",
     "output_type": "stream",
     "text": [
      "agnes i senga is a palindrome\n",
      "hello is not a palindrome\n"
     ]
    }
   ],
   "source": [
    "def check_palindrome(string1): \n",
    "    if reversed_word(string1) == string1:\n",
    "        return f\"{string1} is a palindrome\"\n",
    "    else:\n",
    "        return f\"{string1} is not a palindrome\"\n",
    "\n",
    "str1 = 'agnes i senga'\n",
    "str2 = 'hello'\n",
    "print(check_palindrome(str1))\n",
    "print(check_palindrome(str2))\n",
    "\n",
    "#Using the function reversed_word() that was defined previously"
   ]
  },
  {
   "cell_type": "markdown",
   "metadata": {
    "deletable": false,
    "editable": false,
    "run_control": {
     "frozen": true
    }
   },
   "source": [
    "### d)"
   ]
  },
  {
   "cell_type": "markdown",
   "metadata": {},
   "source": [
    "Create a function `contains_string(str1, str2)` that takes two strings as arguments and checks if the first string contains the second. If it does, return the **positions** where the other string starts (from 0). Return **-1** otherwise.\n",
    "\n",
    "***Write code below***"
   ]
  },
  {
   "cell_type": "code",
   "execution_count": 43,
   "metadata": {},
   "outputs": [
    {
     "name": "stdout",
     "output_type": "stream",
     "text": [
      "3\n",
      "-1\n",
      "Entire string is in word\n"
     ]
    }
   ],
   "source": [
    "def contains_string(str1, str2):\n",
    "    if str2 in str1:\n",
    "        for i in range (len(str2)):\n",
    "            if str2[i] == str1[i]:\n",
    "                continue\n",
    "            else:\n",
    "                return i + 1 #Because indexing starts at 0\n",
    "        #If the loop is done without returning, it must mean that the entire string is present.s\n",
    "        return \"Entire string is in word\"\n",
    "    else:\n",
    "        return -1\n",
    "    \n",
    "str1 = 'pepperkake'\n",
    "str2 = 'per'\n",
    "str3 = 'ola'\n",
    "str4 = 'perpperkake'\n",
    "print(contains_string(str1, str2))\n",
    "print(contains_string(str1, str3))\n",
    "print(contains_string(str4, str2))\n"
   ]
  }
 ],
 "metadata": {
  "kernelspec": {
   "display_name": "Python 3",
   "language": "python",
   "name": "python3"
  },
  "language_info": {
   "codemirror_mode": {
    "name": "ipython",
    "version": 3
   },
   "file_extension": ".py",
   "mimetype": "text/x-python",
   "name": "python",
   "nbconvert_exporter": "python",
   "pygments_lexer": "ipython3",
   "version": "3.11.8"
  },
  "toc": {
   "base_numbering": 1,
   "nav_menu": {},
   "number_sections": false,
   "sideBar": true,
   "skip_h1_title": false,
   "title_cell": "Table of Contents",
   "title_sidebar": "Contents",
   "toc_cell": false,
   "toc_position": {},
   "toc_section_display": true,
   "toc_window_display": false
  }
 },
 "nbformat": 4,
 "nbformat_minor": 2
}
