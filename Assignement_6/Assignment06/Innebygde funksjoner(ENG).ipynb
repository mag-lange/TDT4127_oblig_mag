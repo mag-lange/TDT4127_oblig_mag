{
 "cells": [
  {
   "cell_type": "markdown",
   "metadata": {},
   "source": [
    "[Back to assignment 7](_Oving7.ipynb)\n",
    "\n",
    "# Functions and lists"
   ]
  },
  {
   "cell_type": "markdown",
   "metadata": {
    "deletable": false,
    "editable": false,
    "run_control": {
     "frozen": true
    }
   },
   "source": []
  },
  {
   "cell_type": "markdown",
   "metadata": {},
   "source": [
    "a) <br>\n",
    "Create a list `random_numbers` containing 100 random integers from 1 to 10, using a buildt-in function.\n",
    "\n",
    "<br>b)\n",
    "\n",
    "Find the number of occurences of **2** in the list.\n",
    "\n",
    "<br>c)\n",
    "\n",
    "Print the sum of all the numbers in the list.\n",
    "\n",
    "<br> d)\n",
    "\n",
    "Print the list in ascending order\n",
    "\n",
    "<br> e)\n",
    "\n",
    "Print the *mode* \n",
    "\n",
    "<br> f) \n",
    "\n",
    "Print the list in reverse\n",
    "\n",
    "\n",
    "\n"
   ]
  },
  {
   "cell_type": "code",
   "execution_count": 28,
   "metadata": {
    "ExecuteTime": {
     "end_time": "2019-07-04T06:23:49.753780Z",
     "start_time": "2019-07-04T06:23:49.747792Z"
    }
   },
   "outputs": [
    {
     "name": "stdout",
     "output_type": "stream",
     "text": [
      "Original numbers: [9, 6, 5, 7, 10, 3, 8, 10, 3, 7, 8, 4, 1, 6, 5, 3, 8, 2, 4, 3, 9, 4, 1, 9, 7, 10, 7, 9, 3, 5, 3, 7, 9, 10, 6, 6, 9, 1, 9, 5, 5, 4, 8, 6, 7, 7, 5, 1, 2, 9, 10, 7, 7, 8, 10, 1, 10, 7, 7, 1, 7, 3, 8, 10, 9, 1, 6, 9, 2, 5, 9, 9, 1, 8, 10, 4, 7, 3, 5, 3, 6, 9, 8, 1, 10, 10, 10, 1, 8, 7, 1, 1, 7, 2, 8, 3, 7, 2, 6]\n",
      "Count of 2: 5\n",
      "Sum of numbers: 589\n",
      "Sorted numbers: [1, 1, 1, 1, 1, 1, 1, 1, 1, 1, 1, 1, 2, 2, 2, 2, 2, 3, 3, 3, 3, 3, 3, 3, 3, 3, 3, 4, 4, 4, 4, 4, 5, 5, 5, 5, 5, 5, 5, 5, 6, 6, 6, 6, 6, 6, 6, 6, 7, 7, 7, 7, 7, 7, 7, 7, 7, 7, 7, 7, 7, 7, 7, 7, 8, 8, 8, 8, 8, 8, 8, 8, 8, 8, 9, 9, 9, 9, 9, 9, 9, 9, 9, 9, 9, 9, 9, 10, 10, 10, 10, 10, 10, 10, 10, 10, 10, 10, 10]\n",
      "Mode of numbers:  9\n",
      "Random numbers in reverse:  [10, 10, 10, 10, 10, 10, 10, 10, 10, 10, 10, 10, 9, 9, 9, 9, 9, 9, 9, 9, 9, 9, 9, 9, 9, 8, 8, 8, 8, 8, 8, 8, 8, 8, 8, 7, 7, 7, 7, 7, 7, 7, 7, 7, 7, 7, 7, 7, 7, 7, 7, 6, 6, 6, 6, 6, 6, 6, 6, 5, 5, 5, 5, 5, 5, 5, 5, 4, 4, 4, 4, 4, 3, 3, 3, 3, 3, 3, 3, 3, 3, 3, 2, 2, 2, 2, 2, 1, 1, 1, 1, 1, 1, 1, 1, 1, 1, 1, 1]\n"
     ]
    }
   ],
   "source": [
    "from random import randint\n",
    "\n",
    "random_numbers = []\n",
    "for i in range(1, 100):\n",
    "    random_numbers.append(randint(1, 10))\n",
    "\n",
    "print(\"Original numbers:\", random_numbers)\n",
    "print(\"Count of 2:\", random_numbers.count(2))\n",
    "print(\"Sum of numbers:\", sum(random_numbers))\n",
    "random_numbers.sort()\n",
    "print(\"Sorted numbers:\", random_numbers)\n",
    "\n",
    "i_previous = 0\n",
    "for i in range (1, 10):\n",
    "    if i_previous < random_numbers.count(i):\n",
    "        i_previous = i\n",
    "    else:\n",
    "        continue\n",
    "print(\"Mode of numbers: \", i_previous) #I could not find a good inbuilt function for this\n",
    "\n",
    "random_numbers.sort()\n",
    "random_numbers.reverse()\n",
    "print(\"Random numbers in reverse: \", random_numbers)\n",
    "\n",
    "\n"
   ]
  }
 ],
 "metadata": {
  "kernelspec": {
   "display_name": "Python 3",
   "language": "python",
   "name": "python3"
  },
  "language_info": {
   "codemirror_mode": {
    "name": "ipython",
    "version": 3
   },
   "file_extension": ".py",
   "mimetype": "text/x-python",
   "name": "python",
   "nbconvert_exporter": "python",
   "pygments_lexer": "ipython3",
   "version": "3.11.8"
  },
  "toc": {
   "base_numbering": 1,
   "nav_menu": {},
   "number_sections": false,
   "sideBar": true,
   "skip_h1_title": false,
   "title_cell": "Table of Contents",
   "title_sidebar": "Contents",
   "toc_cell": false,
   "toc_position": {},
   "toc_section_display": true,
   "toc_window_display": false
  }
 },
 "nbformat": 4,
 "nbformat_minor": 2
}
