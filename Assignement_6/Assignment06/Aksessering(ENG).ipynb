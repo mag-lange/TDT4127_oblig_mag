{
 "cells": [
  {
   "cell_type": "markdown",
   "metadata": {},
   "source": [
    "[Back to assignment 7](_Oving7.ipynb)\n",
    "# Accessing Characters in a String\n"
   ]
  },
  {
   "cell_type": "markdown",
   "metadata": {
    "deletable": false,
    "editable": false,
    "run_control": {
     "frozen": true
    }
   },
   "source": [
    "### a)"
   ]
  },
  {
   "cell_type": "markdown",
   "metadata": {
    "deletable": false,
    "editable": false,
    "run_control": {
     "frozen": true
    }
   },
   "source": [
    "Write a function that takes a string as argument, iterates through this and prints each character to the screen."
   ]
  },
  {
   "cell_type": "code",
   "execution_count": 2,
   "metadata": {},
   "outputs": [
    {
     "name": "stdout",
     "output_type": "stream",
     "text": [
      "N\n",
      "i\n",
      "l\n",
      "f\n",
      "g\n",
      "a\n",
      "a\n",
      "r\n",
      "d\n"
     ]
    }
   ],
   "source": [
    "def string_slicing(string):\n",
    "    for string_part in string:\n",
    "        print(string_part)\n",
    "\n",
    "string_slicing(\"Nilfgaard\")"
   ]
  },
  {
   "cell_type": "markdown",
   "metadata": {
    "deletable": false,
    "editable": false,
    "run_control": {
     "frozen": true
    }
   },
   "source": [
    "### b)"
   ]
  },
  {
   "cell_type": "markdown",
   "metadata": {
    "deletable": false,
    "editable": false,
    "run_control": {
     "frozen": true
    }
   },
   "source": [
    "Write a function named `third_letter(string)` which takes a string as argument an return the third character in the string. if the length of the string is too short, the function should return `'q'`'.\n",
    "\n",
    "***Write code below:***"
   ]
  },
  {
   "cell_type": "code",
   "execution_count": 11,
   "metadata": {},
   "outputs": [
    {
     "name": "stdout",
     "output_type": "stream",
     "text": [
      "Correct is 'q'\n",
      "Correct is 'S'\n"
     ]
    }
   ],
   "source": [
    "def third_letter(string):\n",
    "    if len(string) < 3:\n",
    "        return print('Correct is \\'q\\'')\n",
    "    else:\n",
    "        return print(f\"Correct is \\'{string[2]}\\'\")\n",
    "\n",
    "third_letter('Hi') \n",
    "third_letter('MyString') "
   ]
  },
  {
   "cell_type": "markdown",
   "metadata": {
    "deletable": false,
    "editable": false,
    "run_control": {
     "frozen": true
    }
   },
   "source": [
    "### c)"
   ]
  },
  {
   "cell_type": "markdown",
   "metadata": {
    "deletable": false,
    "editable": false,
    "run_control": {
     "frozen": true
    }
   },
   "source": [
    "Write a function that takes a string as argument and return the largest valid index. I.e. the largest index which will not give IndexError.\n",
    "\n",
    "**Example run:**\n",
    "```python\n",
    "#Argument is \"The White Wolf\"\n",
    "13\n",
    "  \n",
    "#Argument is \"Redania\"\n",
    "6\n",
    "```\n",
    "\n",
    "***Write code below:***"
   ]
  },
  {
   "cell_type": "code",
   "execution_count": 12,
   "metadata": {
    "ExecuteTime": {
     "end_time": "2019-07-03T12:03:11.713595Z",
     "start_time": "2019-07-03T12:03:11.706770Z"
    }
   },
   "outputs": [
    {
     "name": "stdout",
     "output_type": "stream",
     "text": [
      "The largest index is 13\n",
      "The largest index is 6\n"
     ]
    }
   ],
   "source": [
    "def largest_valid_index(string):\n",
    "    return print(f'The largest index is {len(string) - 1}')\n",
    "\n",
    "largest_valid_index(\"The White Wolf\")\n",
    "largest_valid_index(\"Redania\")"
   ]
  }
 ],
 "metadata": {
  "kernelspec": {
   "display_name": "Python 3",
   "language": "python",
   "name": "python3"
  },
  "language_info": {
   "codemirror_mode": {
    "name": "ipython",
    "version": 3
   },
   "file_extension": ".py",
   "mimetype": "text/x-python",
   "name": "python",
   "nbconvert_exporter": "python",
   "pygments_lexer": "ipython3",
   "version": "3.11.8"
  },
  "toc": {
   "base_numbering": 1,
   "nav_menu": {},
   "number_sections": false,
   "sideBar": true,
   "skip_h1_title": false,
   "title_cell": "Table of Contents",
   "title_sidebar": "Contents",
   "toc_cell": false,
   "toc_position": {},
   "toc_section_display": true,
   "toc_window_display": false
  }
 },
 "nbformat": 4,
 "nbformat_minor": 2
}
