{
 "cells": [
  {
   "cell_type": "markdown",
   "metadata": {
    "deletable": false,
    "editable": false,
    "run_control": {
     "frozen": true
    }
   },
   "source": [
    "[Back to assignment 7](_Oving7.ipynb)\n",
    "# Gaussian Elimination"
   ]
  },
  {
   "cell_type": "markdown",
   "metadata": {
    "deletable": false,
    "editable": false,
    "run_control": {
     "frozen": true
    }
   },
   "source": [
    "## a)"
   ]
  },
  {
   "cell_type": "markdown",
   "metadata": {
    "deletable": false,
    "editable": false
   },
   "source": [
    "Assign the variable `matrix` for the augmented matrix of the set of equations\n",
    "\n",
    "$$\n",
    "x - 2y + 1z = 0$$\n",
    "$$\\quad\\quad 2y - 8z = 8$$\n",
    "$$ -4x + 5y + 9z = -9$$\n",
    "\n",
    "***Write code in the block below***"
   ]
  },
  {
   "cell_type": "code",
   "execution_count": 7,
   "metadata": {},
   "outputs": [
    {
     "name": "stdout",
     "output_type": "stream",
     "text": [
      "[[ 1 -2  1  0]\n",
      " [ 0  2 -8  8]\n",
      " [-4  5  9 -9]]\n"
     ]
    }
   ],
   "source": [
    "import numpy as np\n",
    "matrix = np.array([[1, -2, 1, 0],[0, 2, -8, 8],[-4, 5, 9, -9]])\n",
    "print(matrix)\n"
   ]
  },
  {
   "cell_type": "markdown",
   "metadata": {
    "deletable": false,
    "editable": false
   },
   "source": [
    "## b) \n",
    "Make a function `add` that takes a matrix `A` and adds a multiple of one row to another. The function should accept `A`, two integers `i1` and `i2` as input (the integers specify which rows to add) and a number `num`. The function should take the rows `A[i1,:]` and `A[i2,:]` then add `num*A[i1,:]` to `A[i2,:]`. The function shall not return anything, but only make changes to `A[i2,:]`."
   ]
  },
  {
   "cell_type": "code",
   "execution_count": 8,
   "metadata": {},
   "outputs": [
    {
     "name": "stdout",
     "output_type": "stream",
     "text": [
      "Changes made\n",
      "[[  2.    3.    4. ]\n",
      " [  0.  -10.5  -4. ]]\n"
     ]
    }
   ],
   "source": [
    "import numpy as np\n",
    "\n",
    "def add(A, i1, i2, num):\n",
    "    A[i2,:] += num * A[i1,:]\n",
    "    print('Changes made')\n",
    "    return \n",
    "A = np.array([[2.,3.,4.], [5.,-3.,6.]])\n",
    "add(A,0, 1, -5/2) # add (-5/2) times row 0 to row 1\n",
    "print(A)\n"
   ]
  },
  {
   "cell_type": "markdown",
   "metadata": {
    "deletable": false,
    "editable": false
   },
   "source": [
    "## c)\n",
    "\n",
    "Make a function `swap` that takes a matrix `A` and two integers `i1` and `i2`, and then swaps the `i1` and `i2` rows of `A`. The function shall not return anything, just swaps the rows in `A`.\n"
   ]
  },
  {
   "cell_type": "code",
   "execution_count": 9,
   "metadata": {},
   "outputs": [
    {
     "name": "stdout",
     "output_type": "stream",
     "text": [
      "[[ 5. -3.  6.]\n",
      " [ 2.  3.  4.]]\n"
     ]
    }
   ],
   "source": [
    "def swap(A, i1, i2):\n",
    "    temp = np.array(A[i1,:])\n",
    "    A[i1,:] = A[i2,:]\n",
    "    A[i2,:] = temp\n",
    "\n",
    "A = np.array([[2.,3.,4.], [5.,-3.,6.]])\n",
    "swap(A,0, 1)\n",
    "print(A)\n",
    "\n"
   ]
  },
  {
   "cell_type": "markdown",
   "metadata": {
    "deletable": false,
    "editable": false
   },
   "source": [
    "## d)\n",
    "Write a function `getMaxRow` that takes an augmented matrix `A` (with `n` rows and `n+1` columns) and two integers `i` and `j` that specify the row and column of the pivot element. The function should return the index of the row with the largest element below the pivot row. The function should search down through the $j$'th column starting from the $i$'th row and return the *row index* of the element with maximal absolute value. This corresponds to step 1 above.\n",
    "\n",
    "If `A` is an n x (n+1) matrix, you can use the built-in function `n = len(A)` to find n. (this returns the row dimension of `A`, regardless of the column dimension)\n",
    "\n",
    "The array `A[i:n,j]` returns the elements in the column below and including the pivot element.\n",
    "\n",
    "***write code in block below***\n"
   ]
  },
  {
   "cell_type": "code",
   "execution_count": 12,
   "metadata": {},
   "outputs": [
    {
     "name": "stdout",
     "output_type": "stream",
     "text": [
      "2\n"
     ]
    }
   ],
   "source": [
    "#For this subtask I got some starthelp from ChatGPT because the other tasks were much easier / shorter\n",
    "#And I thought I was missing some function that would make this super easy. \n",
    "\n",
    "def getMaxRow(A, i, j):\n",
    "    n = len(A)\n",
    "    max_index = i\n",
    "    max_value = abs(A[i,j])\n",
    "    for k in range(i + 1, n):\n",
    "        if abs(A[k,j]) > max_value:\n",
    "            max_value = abs(A[k,j])\n",
    "            max_index = k\n",
    "    return max_index\n",
    "\n",
    "\n",
    "A = np.array([[0.,1.,2.,3.], [4.,5.,6.,7.], [8.,9.,1.,2.]])\n",
    "print(getMaxRow(A,0,0)) "
   ]
  },
  {
   "cell_type": "markdown",
   "metadata": {
    "deletable": false,
    "editable": false
   },
   "source": [
    "## e)\n",
    "\n",
    "Write a function `rowOps` that takes as arguments a matrix `A` and two index numbers `i` and `j` that specify the pivot element. The function should first check whether `A[i,j]==0`, and return without doing anything if true. Otherwise, the function should add appropriate multiples of `A[i,:]` to each row with index larger than `i` in `A`, such that its entry with index `j` (i.e., in the pivot row) is set to zero.  This corresponds to step 3 above."
   ]
  },
  {
   "cell_type": "code",
   "execution_count": 18,
   "metadata": {},
   "outputs": [
    {
     "name": "stdout",
     "output_type": "stream",
     "text": [
      "Picot element is already 0\n",
      "[[ 0.  1.  1.  3.]\n",
      " [ 1.  2.  3.  0.]\n",
      " [ 1.  3.  4. -2.]]\n",
      "[[ 8.    1.    1.    3.  ]\n",
      " [ 0.    5.75  2.75 -0.75]\n",
      " [ 0.    2.5   3.5  -3.5 ]]\n"
     ]
    }
   ],
   "source": [
    "def rowOps(A, i, j):\n",
    "    if A[i, j] == 0: #The code is useless if the pivot element is zerp, such as in example1.\n",
    "        return print(\"Picot element is already 0\")\n",
    "    n = len(A)\n",
    "    pivot_row = A[i, :]\n",
    "    for i_2 in range(i + 1, n):\n",
    "        factor = -A[i_2, j] / A[i, j]\n",
    "        A[i_2, :] += factor * pivot_row\n",
    "        A[i_2, j] = 0\n",
    "\n",
    "A = np.array([[0.,1.,1.,3.], [1.,2,3,0], [1.,3.,4.,-2.]])\n",
    "rowOps(A,0,0)\n",
    "print(A)\n",
    "A = np.array([[8.,1.,1.,3.], [2.,6.,3.,0.], [4.,3.,4.,-2.]])\n",
    "rowOps(A,0,0)\n",
    "print(A)\n"
   ]
  },
  {
   "cell_type": "markdown",
   "metadata": {
    "deletable": false,
    "editable": false
   },
   "source": [
    "## f)\n",
    "Now make a function `Gauss` that takes a matrix `A` as and uses `getMaxRow`, `rowOps` and `swap` functions to perform a Gaussian elimination with partial pivoting on `A`.\n"
   ]
  },
  {
   "cell_type": "code",
   "execution_count": 24,
   "metadata": {},
   "outputs": [
    {
     "name": "stdout",
     "output_type": "stream",
     "text": [
      "[[8.  9.  1.  2. ]\n",
      " [0.  1.  2.  3. ]\n",
      " [0.  0.  4.5 4.5]]\n"
     ]
    }
   ],
   "source": [
    "def Gauss(A):\n",
    "    for i in range(len(A)):\n",
    "        j = i\n",
    "        swap(A, i, getMaxRow(A, i, j))\n",
    "        rowOps(A, i, j)\n",
    "\n",
    "A = np.array([[0., 1., 2., 3.], [4., 5., 6., 7.], [8., 9., 1., 2.]])\n",
    "Gauss(A)\n",
    "print(A)\n"
   ]
  }
 ],
 "metadata": {
  "kernelspec": {
   "display_name": "Python 3",
   "language": "python",
   "name": "python3"
  },
  "language_info": {
   "codemirror_mode": {
    "name": "ipython",
    "version": 3
   },
   "file_extension": ".py",
   "mimetype": "text/x-python",
   "name": "python",
   "nbconvert_exporter": "python",
   "pygments_lexer": "ipython3",
   "version": "3.11.8"
  }
 },
 "nbformat": 4,
 "nbformat_minor": 2
}
