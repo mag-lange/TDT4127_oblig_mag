{
 "cells": [
  {
   "attachments": {},
   "cell_type": "markdown",
   "metadata": {
    "deletable": false,
    "editable": false,
    "run_control": {
     "frozen": true
    }
   },
   "source": [
    "#  Assignment 5\n",
    "\n",
    "Task | Theme | Difficulty | TDT4127 \n",
    "--- | --- | --- | ---\n",
    "[Basics of Lists(ENG)](Generelt%20om%20lister(ENG).ipynb) |Lists| - | Done 07.March\n",
    "[Lett og blandet om lister](Lett%20og%20blandet.ipynb)|Lister| - | Done 07.March\n",
    "[Kodeforståelse](Kodeforstaelse.ipynb)|Kodeforståelse| - | Done 07.March\n",
    "[Vektorer](Vektorer.ipynb)|Lister| - | Done 07.March\n",
    "[Lists and Loops(ENG)](Lister%20og%20lokker(ENG).ipynb)|Lister og løkker| - | \n",
    "[Teoridelen på eksamen](Teoridelen%20paa%20eksamen.ipynb)|Lister|- | \n",
    "[Multiplication Table and Lists(ENG)](Gangetabell%20og%20lister(ENG).ipynb)|2D-Lister|- | \n",
    "[Lottery(ENG)](Lotto(ENG).ipynb)|Lister|![img](../Assignement_3/Assignment03/Resources/Images/star_yellow.svg)| \n",
    "[Tannfeen](Tannfeen.ipynb)|2D-lister, Løkker|![img](../Assignement_3/Assignment03/Resources/Images/star_yellow.svg)|\n",
    "[Chattebot](Chattebot.ipynb)|Lister, Input| ![img](../Assignement_3/Assignment03/Resources/Images/star_yellow.svg)|\n",
    "[Matriseaddisjon](Matriseaddisjon.ipynb)|2D-Lister|![img](../Assignement_3/Assignment03/Resources/Images/star_yellow.svg)|\n",
    "[Intro to NumPy-Arrays(ENG)](Intro%20til%20numpy-arrays(ENG).ipynb)|Numpy og fysikk|![img](../Assignement_3/Assignment03/Resources/Images/star_yellow.svg)| Suggested \n",
    "[Newton's method and systems of ODEs(ENG)](Newton's%20method%20and%20systems%20of%20ODEs.ipynb)|Newton's Method, Numpy|![img](../Assignement_3/Assignment03/Resources/Images/star_yellow.svg)| Done 08.March"
   ]
  }
 ],
 "metadata": {
  "kernelspec": {
   "display_name": "Python 3",
   "language": "python",
   "name": "python3"
  },
  "language_info": {
   "codemirror_mode": {
    "name": "ipython",
    "version": 3
   },
   "file_extension": ".py",
   "mimetype": "text/x-python",
   "name": "python",
   "nbconvert_exporter": "python",
   "pygments_lexer": "ipython3",
   "version": "3.10.6 (main, Nov 14 2022, 16:10:14) [GCC 11.3.0]"
  },
  "toc": {
   "base_numbering": 1,
   "nav_menu": {},
   "number_sections": false,
   "sideBar": true,
   "skip_h1_title": false,
   "title_cell": "Table of Contents",
   "title_sidebar": "Contents",
   "toc_cell": false,
   "toc_position": {},
   "toc_section_display": true,
   "toc_window_display": false
  },
  "vscode": {
   "interpreter": {
    "hash": "916dbcbb3f70747c44a77c7bcd40155683ae19c65e1c03b4aa3499c5328201f1"
   }
  }
 },
 "nbformat": 4,
 "nbformat_minor": 2
}
