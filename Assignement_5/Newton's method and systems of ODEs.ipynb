{
 "cells": [
  {
   "cell_type": "markdown",
   "metadata": {
    "deletable": false,
    "editable": false,
    "run_control": {
     "frozen": true
    }
   },
   "source": [
    "[Back to Assignment 6](_Oving6.ipynb)\n",
    "# Newton's method and systems of ODEs \n",
    "\n",
    "In this assignment you will use solve a system of ODE's using the backward Euler method and Newton iterations. We have studied Newton iterations for scalar equations, but in this assignment we will implement it for a vector-valued algebraic equation. \n",
    "\n",
    "Here we will be using $\\texttt{np.array()}$, which is how you write a vector or matrix in Python and $\\texttt{np.zeros((n,m))}$, which creates an $n\\times m$ matrix of zeros. Arrays are treated just like matrices and vectors are in math. You can multiply them by scalar and add them in the usual way. But if you want to more complicated operations like take a dot or cross product or transpose a vector then you have to use more functions, however these are not needed in this assignment and you only need scalar multiplication and addition. \n",
    "\n",
    "## 0. (Warm-up questions with solutions)"
   ]
  },
  {
   "cell_type": "markdown",
   "metadata": {
    "deletable": false,
    "editable": false,
    "run_control": {
     "frozen": true
    }
   },
   "source": [
    "### a) \n",
    "Create matrices $A = \\left(\\begin{array}{cc}1&2\\\\3&1\\\\ \\end{array}\\right)$  and $B = \\left(\\begin{array}{cc}2&1\\\\1&4\\\\ \\end{array}\\right)$. "
   ]
  },
  {
   "cell_type": "markdown",
   "metadata": {
    "deletable": false,
    "editable": false,
    "run_control": {
     "frozen": true
    }
   },
   "source": [
    "### b) \n",
    "Now create a new matrix $C = 10A + B$."
   ]
  },
  {
   "cell_type": "markdown",
   "metadata": {
    "deletable": false,
    "editable": false,
    "run_control": {
     "frozen": true
    }
   },
   "source": [
    "### c) \n",
    "Create the (column) vectors $\\mathbf{u}$ and $\\mathbf{v}$,  where $\\mathbf{u}$ and $\\mathbf{v}$ are the columns of $C$. That is $C = (\\mathbf{u},\\mathbf{v})$"
   ]
  },
  {
   "cell_type": "markdown",
   "metadata": {
    "deletable": false,
    "editable": false,
    "run_control": {
     "frozen": true
    }
   },
   "source": [
    "### d) \n",
    "Now replace the last row of $B$ with $\\mathbf{v}^T$"
   ]
  },
  {
   "cell_type": "markdown",
   "metadata": {
    "deletable": false,
    "editable": false,
    "run_control": {
     "frozen": true
    }
   },
   "source": [
    "### **Solutions to warmup questions:**"
   ]
  },
  {
   "cell_type": "code",
   "execution_count": 178,
   "metadata": {},
   "outputs": [],
   "source": [
    "import numpy as np\n",
    "\n",
    "# a)\n",
    "A = np.array([[1,2],[3,1]]) # note that matrices use nested brackets: [[],[]], whereas a vector only uses a single pair of brackets: []\n",
    "B = np.array([[2,1],[1,4]])\n",
    "\n",
    "# b)\n",
    "C = 10*A+B \n",
    "\n",
    "# c)\n",
    "u = C[:,0] # note that the first element is indexed by a 0. The colon is used to take all the elements\n",
    "v = C[:,1] # this reads: Take all the rows of the second column (indexed by 1) and call it v\n",
    "\n",
    "# d)\n",
    "B[-1,:] = v  # the -1 is used to take the LAST row (-2 would take the second last row etc.)\n"
   ]
  },
  {
   "cell_type": "markdown",
   "metadata": {
    "deletable": false,
    "editable": false,
    "run_control": {
     "frozen": true
    }
   },
   "source": [
    "## 1. \n",
    "We will solve the following set of ODE's \n",
    "\n",
    "\\begin{align}\n",
    "\\dot{x}_0 =&\\, -4x_1x_0^2\\\\\n",
    "\\dot{x}_1 =&\\, 2x_0^2-\\frac{x_1}{10}\\\\\n",
    "\\end{align}The following code solves the above equations using the Forward Euler method. We will modify this code to use the backward Euler method with Newton iterations. Make sure you understand each line of the code before starting the questions. "
   ]
  },
  {
   "cell_type": "code",
   "execution_count": 179,
   "metadata": {},
   "outputs": [
    {
     "data": {
      "text/plain": [
       "[<matplotlib.lines.Line2D at 0x6244b1b00>,\n",
       " <matplotlib.lines.Line2D at 0x6244b1c18>]"
      ]
     },
     "execution_count": 179,
     "metadata": {},
     "output_type": "execute_result"
    },
    {
     "data": {
      "image/png": "[encoded data removed]",
      "text/plain": [
       "<Figure size 432x288 with 1 Axes>"
      ]
     },
     "metadata": {
      "needs_background": "light"
     },
     "output_type": "display_data"
    }
   ],
   "source": [
    "import numpy as np                           # Import numpy for arrays\n",
    "import matplotlib.pyplot as plt              # Import plotting library\n",
    "\n",
    "dt = 0.1                                     # Time-step\n",
    "T  = 10                                      # Total integration time \n",
    "nt = round(T/dt)                             # Total number of time-steps\n",
    "x  = np.zeros((2,nt+1))                      # Make a matrix (array) with 2 rows and nt+1 columns called x\n",
    "x[:,0]  = np.array([1,0.2])                  # Set the first column of x equal to [1,0.2] (the rest are still zero) this column is x_0 or the \"intitial conditions\" \n",
    "\n",
    "def f(x):                                    # Define a vector-valued function f that takes a vector x and returns a vector f(x)\n",
    "    return np.array([-4*x[1]*x[0]**2,2*x[0]**2-0.1*x[1]])\n",
    "\n",
    "# You will add functions here for the g(x) and the Jacobian of f and g\n",
    "\n",
    "for it in range(0,nt):\n",
    "    x[:,it+1] = x[:,it] + dt*f(x[:,it])      # Forward Euler (you will modify this line to implement the backward Euler method with Newton iterations)\n",
    "    \n",
    "t = np.array(range(0,nt+1))*dt               # The discrete times that the solution is evaluated on (i.e., the horizontal axis of the following plot)\n",
    "plt.plot(t,x[0,:],'ro-',t,x[1,:],'bx-')      # Plot both solution components, now using arrays"
   ]
  },
  {
   "cell_type": "markdown",
   "metadata": {
    "deletable": false,
    "editable": false,
    "run_control": {
     "frozen": true
    }
   },
   "source": [
    "### a) \n",
    "\n",
    "To implement the Backward Euler method we will need to implement Newton's method for systems of algebraic equations:\n",
    "\n",
    "$$\\mathbf{g}(\\mathbf{x})=0.$$\n",
    "\n",
    "To solve this using Newton's method, we use the \\(n\\)-dimensional Newton method:\n",
    "\n",
    "$$\\mathbf{x}_{k+1}  = \\mathbf{x}_k - \\mathbf{g}'(\\mathbf{x}_k)^{-1}\\mathbf{g}(\\mathbf{x}_k),$$\n",
    "\n",
    "where \\(\\mathbf{x}\\) and \\(\\mathbf{g}(\\mathbf{x})\\) are vectors and \\(\\mathbf{g}'(\\mathbf{x}_k)^{-1}\\) is the Jacobian matrix inverse of \\(\\mathbf{g}(\\mathbf{x}_k)\\). \n",
    "\n",
    "Write a function that takes an initial guess \\(\\mathbf{x}_0\\), a function \\(\\mathbf{g}\\), and its Jacobian \\(\\mathbf{g}'\\), and returns the root of \\(\\mathbf{g}(\\mathbf{x}) = \\mathbf{0}\\) using Newton's method in multiple dimensions.\n",
    "\n",
    "To make sure that your code works, you could test it on a very simple function, for example, \\(\\mathbf{g}(\\mathbf{x}) = \\left(\\begin{array}{c}(x_0-1)^2\\\\(x_1-2)^2\\\\ \\end{array}\\right)\\), which has a root at \\(\\left(\\begin{array}{c}1\\\\2\\\\ \\end{array}\\right)\\).\n"
   ]
  },
  {
   "cell_type": "code",
   "execution_count": null,
   "metadata": {},
   "outputs": [],
   "source": []
  },
  {
   "cell_type": "markdown",
   "metadata": {
    "deletable": false,
    "editable": false,
    "run_control": {
     "frozen": true
    }
   },
   "source": [
    "### b)\n",
    "Now we will modify the above code to use the backward Euler method with Newton iterations. We will apply Newton iterations on the backward Euler method, which looks like\n",
    "\n",
    "$$\\mathbf{x}_{n+1} = \\mathbf{x}_n + \\Delta t \\, \\mathbf{f}(\\mathbf{x}_{n+1})$$\n",
    "which means that you should apply your Newton iterations to the function \n",
    "$$\\mathbf{g}(\\mathbf{x}_n,\\mathbf{x}_{n+1}) = \\mathbf{x}_n + \\Delta t \\, \\mathbf{f}(\\mathbf{x}_{n+1}) - \\mathbf{x}_{n+1} = \\mathbf{0},$$\n",
    "where $\\mathbf{x}_n$ is already known. The Jacobian matrix (the derivative is taken with respect to $\\mathbf{x}_{n+1}$) is given by \n",
    "$$\\mathbf{g}'(\\mathbf{x}_{n+1}) = \\Delta t \\, \\mathbf{f}'(\\mathbf{x}_{n+1}) - \\mathbf{I}$$\n",
    "where $\\mathbf{I}$ is the identity matrix.\n",
    "\n",
    "Note: the function $\\mathbf{g}$ requires two input variables $\\mathbf{x}_n$ and $\\mathbf{x}_{n+1}$. Make sure you are giving it the correct values and that it is being passed into the Newton iteration correctly! "
   ]
  },
  {
   "cell_type": "code",
   "execution_count": null,
   "metadata": {},
   "outputs": [],
   "source": []
  }
 ],
 "metadata": {
  "kernelspec": {
   "display_name": "Python 3",
   "language": "python",
   "name": "python3"
  },
  "language_info": {
   "codemirror_mode": {
    "name": "ipython",
    "version": 3
   },
   "file_extension": ".py",
   "mimetype": "text/x-python",
   "name": "python",
   "nbconvert_exporter": "python",
   "pygments_lexer": "ipython3",
   "version": "3.7.1"
  }
 },
 "nbformat": 4,
 "nbformat_minor": 2
}
