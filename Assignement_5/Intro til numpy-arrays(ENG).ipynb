{
 "cells": [
  {
   "cell_type": "markdown",
   "metadata": {
    "deletable": false,
    "editable": false,
    "run_control": {
     "frozen": true
    }
   },
   "source": [
    "[Back to Assignment 6](_Oving6.ipynb)\n",
    "\n",
    "# Intro to NumPy-Arrays\n",
    "\n",
    "**Learning goals**\n",
    "\n",
    "* Lists\n",
    "* Numpy\n",
    "\n",
    "**Starting Out with Python:**\n",
    "\n",
    "* Kap. 7.10\n",
    " \n",
    "\n",
    "In this task we will explore another type of list, *numpy-arrays*. This is especially relevant for numerics.\n",
    "A useful feature of numpy-arrays are that they usually provide faster, more efficient computations than Pythons own lists. This is especially true when working with matrices and have huge datasets.\n",
    "\n",
    "\n",
    "NumPy-arrays are part of the package called [NumPy](https://numpy.org/), which is included in jupyter.\n",
    "\n",
    "To use numpy in you code you will need to import it. This is done by writing:\n",
    "```python\n",
    "import numpy as np \n",
    "# numpy as np is just telling python that when we write np we mean numpy: Eg np.array() <=> numpy.array() .\n",
    "```\n",
    "\n",
    "To solve these tasks, it can be helpful to take a look at the [NumPy documentation](http://docs.scipy.org/doc/numpy-1.11.0/reference/). "
   ]
  },
  {
   "cell_type": "markdown",
   "metadata": {
    "deletable": false,
    "editable": false,
    "run_control": {
     "frozen": true
    }
   },
   "source": [
    "### a)"
   ]
  },
  {
   "cell_type": "markdown",
   "metadata": {},
   "source": [
    "Use the functions **np.array()** and **np.dot()** to create a function named `areOrthogonal(a,b)` which takes as arguments two regular lists that represents two vectors, converts them to NumPy-arrays, and then check whether the vectors are orthogonal. It should return boolean values (True or False).\n",
    "\n",
    "*PS: Assume that the two input-vectors are of the same length and only contain numbers(floats).*\n",
    "**Example Run**\n",
    "```\n",
    "\n",
    "***Write code in the block below***"
   ]
  },
  {
   "cell_type": "code",
   "execution_count": null,
   "metadata": {},
   "outputs": [],
   "source": []
  },
  {
   "cell_type": "markdown",
   "metadata": {
    "deletable": false,
    "editable": false,
    "run_control": {
     "frozen": true
    }
   },
   "source": [
    "#### Hint"
   ]
  },
  {
   "cell_type": "markdown",
   "metadata": {
    "deletable": false,
    "editable": false,
    "run_control": {
     "frozen": true
    }
   },
   "source": [
    "Two vectors are orthogonal if their dot-product is 0."
   ]
  },
  {
   "cell_type": "markdown",
   "metadata": {
    "deletable": false,
    "editable": false,
    "run_control": {
     "frozen": true
    }
   },
   "source": [
    "### b)"
   ]
  },
  {
   "cell_type": "markdown",
   "metadata": {
    "deletable": false,
    "editable": false,
    "run_control": {
     "frozen": true
    }
   },
   "source": [
    "Use *only* the functions `np.arange()`, `np.transpose()` and `arr.reshape()` (where **arr** is an object of type numpy.ndarray) to create the following array.\n",
    "\n",
    "Start by reading about the functions: [np.arange()](https://docs.scipy.org/doc/numpy/reference/generated/numpy.arange.html), [np.reshape()](https://docs.scipy.org/doc/numpy-1.10.1/reference/generated/numpy.reshape.html) and [np.transpose()](https://docs.scipy.org/doc/numpy/reference/generated/numpy.transpose.html). You should use these functions in a sequence with the correct inputs to create the array below. **Do no create the array with np.array()**. \n",
    "\n",
    "```python\n",
    "array([[ 1,  6, 11],\n",
    "       [ 2,  7, 12],\n",
    "       [ 3,  8, 13],\n",
    "       [ 4,  9, 14],\n",
    "       [ 5, 10, 15]])\n",
    "       ```\n",
    "       \n",
    "***Write the code in the block below.***"
   ]
  },
  {
   "cell_type": "code",
   "execution_count": null,
   "metadata": {},
   "outputs": [],
   "source": []
  },
  {
   "cell_type": "markdown",
   "metadata": {
    "deletable": false,
    "editable": false,
    "run_control": {
     "frozen": true
    }
   },
   "source": [
    "### c)"
   ]
  },
  {
   "cell_type": "markdown",
   "metadata": {
    "deletable": false,
    "editable": false,
    "run_control": {
     "frozen": true
    }
   },
   "source": [
    "The task below shows an example of how you can plot in python. Your task is to run the code and try to understand how it works.\n",
    "\n",
    "The code plots the Earth's orbit around the Sun using the numerical algorithm *Euler-Cromer*. In the code we use a two dimensjonal coordinate system with the Sun in origo and the Earth orbiting around the Sun with radius = 1."
   ]
  },
  {
   "cell_type": "code",
   "execution_count": null,
   "metadata": {
    "ExecuteTime": {
     "end_time": "2019-07-03T11:17:37.086757Z",
     "start_time": "2019-07-03T11:17:36.002193Z"
    }
   },
   "outputs": [],
   "source": [
    "import numpy as np\n",
    "import matplotlib.pyplot as plt\n",
    "%matplotlib inline\n",
    " \n",
    "def EulerCromer( tmax, x0, y0, v0, u0, m, tau):\n",
    "    # tmax: time for one orbit\n",
    "    # x0 og y0: starting conditions for Earth's position\n",
    "    # v0 og u0: starting conditions for Earth's speed\n",
    "    # m: mass of Earth\n",
    "    # tau: steplenght.\n",
    " \n",
    "    N = int(round(tmax/tau))   #np.zeros(N) creates a list of just 0's of lenght N\n",
    "    x = np.zeros(N)\n",
    "    y = np.zeros(N)\n",
    "    u = np.zeros(N)\n",
    "    v = np.zeros(N)\n",
    "    radiuser = np.zeros(N)\n",
    " \n",
    "    # starting conditions\n",
    "    u[0] = u0\n",
    "    v[0] = v0\n",
    "    x[0] = x0\n",
    "    y[0] = y0\n",
    "    radiuser[0] = np.sqrt((x[0]) ** 2 + (y[0]) ** 2)\n",
    " \n",
    "    for n in range(1, N):\n",
    "        u[n] = u[n - 1] - 4 * np.pi ** 2 * x[n - 1] * tau / (radiuser[n - 1] ** 3)\n",
    "        v[n] = v[n - 1] - 4 * np.pi ** 2 * y[n - 1] * tau / (radiuser[n - 1] ** 3)\n",
    "        x[n] = x[n - 1] + u[n] * tau\n",
    "        y[n] = y[n - 1] + v[n] * tau\n",
    "        radiuser[n] = np.sqrt((x[n]) ** 2 + (y[n]) ** 2)\n",
    " \n",
    " \n",
    "    return x, y  #  Positions- and speed lists\n",
    " \n",
    "# Start condtiotions::\n",
    "x0 = 1    # Imagine the Sun is in origo, and the Earth starts at postion (1, 0)\n",
    "y0 = 0\n",
    "u0 = 0    # starting speed in x direction is 0\n",
    "v0 = 2*3.1415623   # starting speed in y direction is 2*pi\n",
    "m =  1 / 333480    # Mass of Earth relative to the Sun\n",
    "tmax = 1           # Orbit time is one year\n",
    "tau = 0.001        # small enough step length for the plotting\n",
    " \n",
    "x1, y1 = EulerCromer(tmax, x0, y0, v0, u0, m, tau)\n",
    " \n",
    "# The plot of the orbit.\n",
    "plt.figure()\n",
    "plt.plot(x1, y1)\n",
    "circle = plt.Circle((0, 0), radius=0.06, fc='yellow')\n",
    "plt.gca().add_patch(circle)\n",
    "plt.xlabel(r'x [AU]')\n",
    "plt.ylabel(r'y [AU]')\n",
    "plt.show()"
   ]
  }
 ],
 "metadata": {
  "kernelspec": {
   "display_name": "Python 3",
   "language": "python",
   "name": "python3"
  },
  "language_info": {
   "codemirror_mode": {
    "name": "ipython",
    "version": 3
   },
   "file_extension": ".py",
   "mimetype": "text/x-python",
   "name": "python",
   "nbconvert_exporter": "python",
   "pygments_lexer": "ipython3",
   "version": "3.7.1"
  },
  "toc": {
   "base_numbering": 1,
   "nav_menu": {},
   "number_sections": false,
   "sideBar": true,
   "skip_h1_title": false,
   "title_cell": "Table of Contents",
   "title_sidebar": "Contents",
   "toc_cell": false,
   "toc_position": {},
   "toc_section_display": true,
   "toc_window_display": false
  }
 },
 "nbformat": 4,
 "nbformat_minor": 2
}
