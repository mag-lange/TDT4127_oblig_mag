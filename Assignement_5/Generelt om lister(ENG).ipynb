{
 "cells": [
  {
   "cell_type": "markdown",
   "metadata": {
    "deletable": false,
    "editable": false,
    "run_control": {
     "frozen": true
    }
   },
   "source": [
    "# Basics of Lists"
   ]
  },
  {
   "cell_type": "markdown",
   "metadata": {
    "deletable": false,
    "editable": false,
    "run_control": {
     "frozen": true
    }
   },
   "source": [
    "### a) and b) and c)"
   ]
  },
  {
   "cell_type": "markdown",
   "metadata": {
    "deletable": false,
    "editable": false,
    "run_control": {
     "frozen": true
    }
   },
   "source": [
    "a) Create a list named **my_first_list** with all the integers from 1 to 6 <br>\n",
    "b) Print the last element in the list to the screen.<br>\n",
    "c) Change the second to last element (`5`) with the string `'plus'`.<br>\n",
    "d) Create a new list named **my_second_list** that should include the three last elements of `my_first_list`. <br>\n",
    "e) Print `my_second_list` and the text string `equals 10`to the console.\n"
   ]
  },
  {
   "cell_type": "code",
   "execution_count": 14,
   "metadata": {
    "ExecuteTime": {
     "end_time": "2019-07-03T07:04:40.859385Z",
     "start_time": "2019-07-03T07:04:40.850440Z"
    }
   },
   "outputs": [
    {
     "name": "stdout",
     "output_type": "stream",
     "text": [
      "a) [1, 2, 3, 4, 5, 6]\n",
      "b) 6\n",
      "c) [1, 2, 3, 4, 'plus', 6]\n",
      "d) [4, 'plus', 6]\n",
      "e) [4, 'plus', 6] equals 10\n"
     ]
    }
   ],
   "source": [
    "my_first_list = []\n",
    "for i in range (1,7):\n",
    "    my_first_list.append(i)\n",
    "print(\"a)\", my_first_list)\n",
    "print(\"b)\", my_first_list[-1])\n",
    "my_first_list[-2] = 'plus'\n",
    "print(\"c)\", my_first_list)\n",
    "my_second_list = my_first_list[-3:] #Start from the third to last element \n",
    "print(\"d)\", my_second_list)\n",
    "print(f\"e) {my_second_list} equals 10\")"
   ]
  }
 ],
 "metadata": {
  "kernelspec": {
   "display_name": "Python 3",
   "language": "python",
   "name": "python3"
  },
  "language_info": {
   "codemirror_mode": {
    "name": "ipython",
    "version": 3
   },
   "file_extension": ".py",
   "mimetype": "text/x-python",
   "name": "python",
   "nbconvert_exporter": "python",
   "pygments_lexer": "ipython3",
   "version": "3.11.8"
  },
  "toc": {
   "base_numbering": 1,
   "nav_menu": {},
   "number_sections": false,
   "sideBar": true,
   "skip_h1_title": false,
   "title_cell": "Table of Contents",
   "title_sidebar": "Contents",
   "toc_cell": false,
   "toc_position": {},
   "toc_section_display": true,
   "toc_window_display": false
  }
 },
 "nbformat": 4,
 "nbformat_minor": 2
}
