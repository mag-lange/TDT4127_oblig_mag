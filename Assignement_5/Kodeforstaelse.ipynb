{
 "cells": [
  {
   "cell_type": "markdown",
   "metadata": {
    "deletable": false,
    "editable": false,
    "run_control": {
     "frozen": true
    }
   },
   "source": [
    "# Kodeforståelse"
   ]
  },
  {
   "cell_type": "markdown",
   "metadata": {
    "deletable": false,
    "editable": false,
    "run_control": {
     "frozen": true
    }
   },
   "source": [
    "**a)** Hva returneres i koden under når A= [1,2,3,5,7,9]?\n",
    "\n",
    "Forklar med én setning hva funksjonen gjør."
   ]
  },
  {
   "cell_type": "markdown",
   "metadata": {
    "deletable": false,
    "editable": false,
    "run_control": {
     "frozen": true
    }
   },
   "source": [
    "```python\n",
    "def myst(A):\n",
    "    L=len(A)-1\n",
    "    for i in range(len(A)//2):\n",
    "        t=A[i]\n",
    "        A[i] = A[L-i]\n",
    "        A[L-i]=t\n",
    "    return A\n",
    "```"
   ]
  },
  {
   "cell_type": "markdown",
   "metadata": {},
   "source": [
    "Svar: <br>[9,7,5,3,2,1] <br>\n",
    "The function flips the list\n"
   ]
  },
  {
   "cell_type": "markdown",
   "metadata": {
    "deletable": false,
    "editable": false,
    "run_control": {
     "frozen": true
    }
   },
   "source": [
    "**b)** Forklar med én setning hva funksjonen myst3([1,2,3,4,5,6,7,8,9,10]) med kode som vist under gjør."
   ]
  },
  {
   "cell_type": "markdown",
   "metadata": {
    "deletable": false,
    "editable": false,
    "run_control": {
     "frozen": true
    }
   },
   "source": [
    "```python\n",
    "import random\n",
    "def myst3(a):\n",
    "    b =[0]*len(a)\n",
    "    for c in range(len(a)):\n",
    "        d = random.randint(0,len(a)-1)\n",
    "        b[c] = a[d]\n",
    "        del a[d]    #del fjerner et bestemt element i listen, her fjerner det a[d].\n",
    "    return b\n",
    "```"
   ]
  },
  {
   "cell_type": "markdown",
   "metadata": {},
   "source": [
    "Svar: <br> The answer will vary (since random is used) a possible outcome would be [9, 7, 3, 2, 10, 8, 4, 6, 5, 1] <br>\n",
    "The list will assign a random number (between 1 and the length of the list -1 ) to each element in the list."
   ]
  },
  {
   "cell_type": "markdown",
   "metadata": {
    "deletable": false,
    "editable": false,
    "run_control": {
     "frozen": true
    }
   },
   "source": [
    "**c)** Hva kommer koden til å printe?"
   ]
  },
  {
   "cell_type": "markdown",
   "metadata": {
    "deletable": false,
    "editable": false,
    "run_control": {
     "frozen": true
    }
   },
   "source": [
    "```python\n",
    "liste = [4, 9, 6, 3, 8, 7, 5]\n",
    "print(liste[-2:6])\n",
    "```"
   ]
  },
  {
   "cell_type": "markdown",
   "metadata": {},
   "source": [
    "Svar: It starts with the second to last number (-2) which here is 7. Then it continues until 6 with a step of 1 <br>\n",
    "Since it will never reach 6 (the next number would be index -1), it stops after that. <br>\n",
    "[7]"
   ]
  },
  {
   "cell_type": "markdown",
   "metadata": {
    "deletable": false,
    "editable": false,
    "run_control": {
     "frozen": true
    }
   },
   "source": [
    "**d)** Endre følgende kode slik at den fungerer, og kommenter hva som var feil."
   ]
  },
  {
   "cell_type": "code",
   "execution_count": 2,
   "metadata": {
    "ExecuteTime": {
     "end_time": "2019-07-03T07:54:52.891140Z",
     "start_time": "2019-07-03T07:54:52.443003Z"
    }
   },
   "outputs": [
    {
     "name": "stdout",
     "output_type": "stream",
     "text": [
      "['Carina', 'Erik', 'Magnus', 'Miriam']\n"
     ]
    }
   ],
   "source": [
    "navn = ['Carina', 'erik', 'Magnus', 'Miriam']\n",
    "navn[1] = 'Erik'\n",
    "print(navn)"
   ]
  },
  {
   "cell_type": "markdown",
   "metadata": {
    "deletable": false,
    "editable": false,
    "run_control": {
     "frozen": true
    }
   },
   "source": [
    "Svar: Changed the instance from tuple (uses () and cannot be changed, to a list ( uses [] and can be changed)\n"
   ]
  },
  {
   "cell_type": "markdown",
   "metadata": {
    "deletable": false,
    "editable": false,
    "run_control": {
     "frozen": true
    }
   },
   "source": [
    "**e)** Hva printes i koden under? Det holder ikke å kopiere koden og kjøre den, du må forklare hva som skjer underveis."
   ]
  },
  {
   "cell_type": "markdown",
   "metadata": {
    "deletable": false,
    "editable": false,
    "run_control": {
     "frozen": true
    }
   },
   "source": [
    "```python\n",
    "liste1 = [1,3,2,5,4,6]\n",
    "liste1.sort()\n",
    "liste2 = [7, 8, 9]\n",
    "liste3 = liste1+liste2\n",
    "liste3.insert(9, 10)\n",
    "liste3.remove(1)\n",
    "liste3.reverse()\n",
    "print(liste3)\n",
    "```"
   ]
  },
  {
   "cell_type": "markdown",
   "metadata": {
    "deletable": false,
    "editable": false,
    "run_control": {
     "frozen": true
    }
   },
   "source": [
    "Svar: <br> 1. Sorts the list in rising order [1,2,3,4,5,6] <br>\n",
    "2. Makes a union between liste1 and liste2 [1,2,3,4,5,6,7,8,9] <br>\n",
    "3. Adds the number 10 at index 9, removes element 1 from list and reverses it [10,9,8,7,6,5,4,3,2]\n"
   ]
  }
 ],
 "metadata": {
  "kernelspec": {
   "display_name": "Python 3",
   "language": "python",
   "name": "python3"
  },
  "language_info": {
   "codemirror_mode": {
    "name": "ipython",
    "version": 3
   },
   "file_extension": ".py",
   "mimetype": "text/x-python",
   "name": "python",
   "nbconvert_exporter": "python",
   "pygments_lexer": "ipython3",
   "version": "3.11.8"
  },
  "toc": {
   "base_numbering": 1,
   "nav_menu": {},
   "number_sections": false,
   "sideBar": true,
   "skip_h1_title": false,
   "title_cell": "Table of Contents",
   "title_sidebar": "Contents",
   "toc_cell": false,
   "toc_position": {},
   "toc_section_display": true,
   "toc_window_display": false
  }
 },
 "nbformat": 4,
 "nbformat_minor": 2
}
